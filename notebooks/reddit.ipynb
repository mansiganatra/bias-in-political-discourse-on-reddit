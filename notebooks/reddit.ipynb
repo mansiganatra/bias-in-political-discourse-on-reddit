{
 "cells": [
  {
   "cell_type": "code",
   "execution_count": 1,
   "metadata": {},
   "outputs": [],
   "source": [
    "import json\n",
    "from tqdm import tqdm\n",
    "from collections import Counter"
   ]
  },
  {
   "cell_type": "code",
   "execution_count": 2,
   "metadata": {},
   "outputs": [
    {
     "name": "stderr",
     "output_type": "stream",
     "text": [
      "8660144it [02:44, 52523.91it/s]\n"
     ]
    }
   ],
   "source": [
    "data = []\n",
    "failed = []\n",
    "target_subs = set(['politics', 'news', 'worldnews'])\n",
    "\n",
    "fpath = '../../Downloads/RS_2016-11'\n",
    "\n",
    "with open(fpath) as f:\n",
    "    for i, line in enumerate(tqdm(f)):\n",
    "#         if i > 1000000: break # use if full file takes too long to read\n",
    "        post = json.loads(line)\n",
    "        try: \n",
    "            if post['subreddit'] in target_subs:\n",
    "                data.append(post)\n",
    "        except Exception as e:\n",
    "            failed.append((i, e))"
   ]
  },
  {
   "cell_type": "code",
   "execution_count": 3,
   "metadata": {},
   "outputs": [],
   "source": [
    "news = [i for i in data if i['subreddit'] == 'news']\n",
    "politics = [i for i in data if i['subreddit'] == 'politics']\n",
    "worldnews = [i for i in data if i['subreddit'] == 'worldnews']"
   ]
  },
  {
   "cell_type": "code",
   "execution_count": 4,
   "metadata": {},
   "outputs": [],
   "source": [
    "url_news = [i['url'].split('/')[2].lower() for i in news]\n",
    "url_politics = [i['url'].split('/')[2].lower() for i in politics]\n",
    "url_worldnews = [i['url'].split('/')[2].lower() for i in worldnews]"
   ]
  },
  {
   "cell_type": "code",
   "execution_count": 9,
   "metadata": {},
   "outputs": [
    {
     "data": {
      "text/plain": [
       "[('www.youtube.com', 8218),\n",
       " ('www.newsjs.com', 2216),\n",
       " ('www.firstpost.com', 1298),\n",
       " ('luisgregorio.tumblr.com', 817),\n",
       " ('liselatulippe.blogspot.com', 769),\n",
       " ('twitter.com', 700),\n",
       " ('www.npr.org', 631),\n",
       " ('www.washingtonpost.com', 512),\n",
       " ('www.bbc.com', 492),\n",
       " ('youtu.be', 476)]"
      ]
     },
     "execution_count": 9,
     "metadata": {},
     "output_type": "execute_result"
    }
   ],
   "source": [
    "Counter(url_news).most_common(10)"
   ]
  }
 ],
 "metadata": {
  "kernelspec": {
   "display_name": "Python 3",
   "language": "python",
   "name": "python3"
  },
  "language_info": {
   "codemirror_mode": {
    "name": "ipython",
    "version": 3
   },
   "file_extension": ".py",
   "mimetype": "text/x-python",
   "name": "python",
   "nbconvert_exporter": "python",
   "pygments_lexer": "ipython3",
   "version": "3.7.4"
  }
 },
 "nbformat": 4,
 "nbformat_minor": 4
}
