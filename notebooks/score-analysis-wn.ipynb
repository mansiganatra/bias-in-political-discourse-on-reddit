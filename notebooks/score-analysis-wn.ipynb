{
 "cells": [
  {
   "cell_type": "code",
   "execution_count": 2,
   "metadata": {
    "colab": {},
    "colab_type": "code",
    "id": "-A-cAur5Ljk6"
   },
   "outputs": [],
   "source": [
    "import json\n",
    "import sys\n",
    "import os\n",
    "import pprint\n",
    "import time\n",
    "from datetime import datetime\n",
    "import pandas as pd\n",
    "import re\n",
    "import collections\n",
    "import numpy as np\n",
    "import matplotlib.pyplot as plt"
   ]
  },
  {
   "cell_type": "code",
   "execution_count": 3,
   "metadata": {
    "colab": {
     "base_uri": "https://localhost:8080/",
     "height": 374
    },
    "colab_type": "code",
    "executionInfo": {
     "elapsed": 462,
     "status": "error",
     "timestamp": 1575261168517,
     "user": {
      "displayName": "Mansi Ganatra",
      "photoUrl": "",
      "userId": "13427068811170262247"
     },
     "user_tz": 480
    },
    "id": "i6Gm7lpII2pb",
    "outputId": "d876baf9-3503-4502-d0c8-d2c8d93086ab"
   },
   "outputs": [],
   "source": [
    "# rs_basepath = \"\"\n",
    "news_path = \"worldnews/RS_worldnews\"\n",
    "\n",
    "submissions = pd.DataFrame()\n",
    "submissions = pd.read_json(news_path, lines=True)\n",
    "\n",
    "# submissions.head()\n"
   ]
  },
  {
   "cell_type": "code",
   "execution_count": 4,
   "metadata": {},
   "outputs": [
    {
     "data": {
      "text/plain": [
       "101965"
      ]
     },
     "execution_count": 4,
     "metadata": {},
     "output_type": "execute_result"
    }
   ],
   "source": [
    "len(submissions)"
   ]
  },
  {
   "cell_type": "code",
   "execution_count": 5,
   "metadata": {
    "colab": {
     "base_uri": "https://localhost:8080/",
     "height": 154
    },
    "colab_type": "code",
    "executionInfo": {
     "elapsed": 74263,
     "status": "ok",
     "timestamp": 1575260938222,
     "user": {
      "displayName": "Mansi Ganatra",
      "photoUrl": "",
      "userId": "13427068811170262247"
     },
     "user_tz": 480
    },
    "id": "L3NvGGqAMYaO",
    "outputId": "ba0e8c6e-5af5-4c53-c43f-b792217a96f9"
   },
   "outputs": [],
   "source": [
    "rc_news_path = \"worldnews/RC_worldnews\"\n",
    "\n",
    "comments = pd.DataFrame()\n",
    "comments = pd.read_json(rc_news_path, lines=True)\n",
    "# comments.head()\n"
   ]
  },
  {
   "cell_type": "code",
   "execution_count": 6,
   "metadata": {
    "colab": {},
    "colab_type": "code",
    "id": "ZuJO6CZ3TLxJ"
   },
   "outputs": [],
   "source": [
    "news_urls_right = {\"The_American_spectator\":\"spectator\", \"Breitbart\":\"breitbart\",\n",
    "                   \"CBN\":\"cbn\", \"The_Daily_Caller\": \"dailycaller\", \"The_Daily_Mail\": \"dailymail\",\n",
    "                   \"The_Daily_Wire\" : \"dailywire\", \"The_Fox_News\": \"foxnews\", \"The_Federalist\": \"thefederalist\",\n",
    "                   \"National_Review\":\"nationalreview\", \"New_York_Post\" : \"nypost\", \"Newsmax\": \"newsmax\",\n",
    "                   \"Reason\": \"reason\", \"Washington_Examiner\":\"washingtonexaminer\",\n",
    "                   \"The_Washington_Times\":\"washingtontimes\"\n",
    "                   }\n",
    "# \"The_Wall_Street_Journal_Opinion_Base\": \"wsj/news/opinion\",\n",
    "# \"The_Wall_Street_Journal_Opinion_Archive\": \"wsj/articles\",\n",
    "\n",
    "news_urls_center = {\"Associated_Press\":\"apnews\", \"BBC\":\"bbc\", \"Bloomberg\":\"bloomberg\",\n",
    "                    \"The_Christian_Science_Monitor\":\"csmonitor\", \"NPR_Online\": \"npr\",\n",
    "                    \"Reuters\" :\"reuters\", \"The_Hill\":\"thehill\", \"USA_Today\": \"usatoday\",\n",
    "                    \"Wall_Street_Journal_News\": \"wsj\"}\n",
    "\n",
    "news_urls_left = {\"ABC_News\": \"abcnews\", \"The_Atlantic\":\"theatlantic\", \"The_Buzzfeed_News\": \"buzzfeednews\",\n",
    "                  \"CBS_News\": \"cbsnews\", \"CNN_Online\":\"cnn\", \"The_Economist\": \"economist\",\n",
    "                  \"The_Gaurdian\": \"theguardian\", \"NBC_News\":\"nbcnews\", \"The_New_York_Times\":\"nytimes\",\n",
    "                  \"The_Los_Angeles_Times\":\"latimes\", \n",
    "                  \"Politico\": \"politico\", \"The_Washington_Post\": \"washingtonpost\",\n",
    "                  \"Alternet\": \"alternet\", \"Democracy_Now\": \"democracynow\", \n",
    "                  \"The_Daily_Beast\":\"thedailybeast\", \"The_Huffington_Post\":\"huffpost\",\n",
    "                  \"The Intercept\":\"theintercept\", \"Jacobin\":\"jacobinmag\", \"Mother Jones\":\"motherjones\",\n",
    "                  \"MSNBC\":\"msnbc\", \"The_New_Yorker\":\"newyorker\", \"The_Nation\":\"thenation\",\n",
    "                  \"Slate\":\"slate\", \"Vox\":\"vox\"}\n",
    "news_urls_social_media = [\"youtube\", \"google\", \"twitter\",\"yahoo\", \"youtu.be\", \"instagram\", \"reddit\", \"facebook\", \"spotify\"]\n",
    "\n",
    "all_urls = list(news_urls_right.values()) + list(news_urls_left.values()) + list(news_urls_center.values()) + news_urls_social_media"
   ]
  },
  {
   "cell_type": "code",
   "execution_count": 7,
   "metadata": {
    "colab": {},
    "colab_type": "code",
    "id": "ikvcqDy7TwWE"
   },
   "outputs": [],
   "source": [
    "def get_leaning(domain_name):\n",
    "    for s in news_urls_right.values():\n",
    "        if domain_name.startswith(s) or \".\"+s in domain_name:\n",
    "            return \"right\"\n",
    "    for s in news_urls_left.values():\n",
    "        if domain_name.startswith(s) or \".\"+s in domain_name:\n",
    "            return \"left\"\n",
    "    for s in news_urls_center.values():\n",
    "        if domain_name.startswith(s) or \".\"+s in domain_name:\n",
    "            return \"center\"\n",
    "    for s in news_urls_social_media:\n",
    "        if domain_name.startswith(s) or \".\"+s in domain_name:\n",
    "            return \"social\"\n",
    "    return \"other\" "
   ]
  },
  {
   "cell_type": "code",
   "execution_count": 8,
   "metadata": {
    "colab": {},
    "colab_type": "code",
    "id": "RV2m1-a4VHXw"
   },
   "outputs": [],
   "source": [
    "def get_base_domain(domain_name):\n",
    "    # print(domain_name)\n",
    "    for s in all_urls:\n",
    "        if domain_name.startswith(s) or \".\"+s in domain_name:\n",
    "            # print(\"Matched: \", s)\n",
    "            return s\n",
    "    return domain_name"
   ]
  },
  {
   "cell_type": "code",
   "execution_count": 9,
   "metadata": {
    "colab": {},
    "colab_type": "code",
    "id": "Mgv_9HNLl-Ey"
   },
   "outputs": [],
   "source": [
    "submissions[\"leaning\"] = submissions[\"domain\"].apply(lambda x: get_leaning(x))\n",
    "submissions[\"base_domain\"] = submissions[\"domain\"].apply(lambda x: get_base_domain(x))\n",
    "submissions[\"full_date\"] =  submissions[\"created_utc\"].apply(lambda x: datetime.fromtimestamp(x))\n",
    "submissions[\"date\"] = submissions[\"full_date\"].dt.date\n",
    "# submissions.head()\n",
    "\n",
    "posts_right = submissions.loc[submissions[\"leaning\"] == \"right\"]\n",
    "posts_left = submissions.loc[submissions[\"leaning\"] == \"left\"]\n",
    "posts_center = submissions.loc[submissions[\"leaning\"] == \"center\"]\n",
    "posts_social =  submissions.loc[submissions[\"leaning\"] == \"social\"]\n",
    "posts_other = submissions.loc[submissions[\"leaning\"] == \"other\"]\n",
    "\n",
    "all_included_posts = submissions.loc[submissions[\"leaning\"] != \"other\"]"
   ]
  },
  {
   "cell_type": "code",
   "execution_count": 10,
   "metadata": {},
   "outputs": [],
   "source": [
    "submissions[[\"date\", \"id\", \"leaning\"]].groupby([\"date\", \"leaning\"]).count()[\"id\"].reset_index(name=\"counts\").to_csv(\"subs_wn.csv\", index=False)"
   ]
  },
  {
   "cell_type": "code",
   "execution_count": 11,
   "metadata": {
    "colab": {
     "base_uri": "https://localhost:8080/",
     "height": 134
    },
    "colab_type": "code",
    "executionInfo": {
     "elapsed": 79450,
     "status": "ok",
     "timestamp": 1575260943441,
     "user": {
      "displayName": "Mansi Ganatra",
      "photoUrl": "",
      "userId": "13427068811170262247"
     },
     "user_tz": 480
    },
    "id": "juqzQP7ztFHM",
    "outputId": "27c440e0-5e97-4e8a-c8ab-22f7d33af950"
   },
   "outputs": [
    {
     "name": "stdout",
     "output_type": "stream",
     "text": [
      "Posts with right leaning news outlet url:  1562\n",
      "Posts with left leaning news outlet url:  8112\n",
      "Posts with center leaning news outlet url:  10386\n",
      "Posts from social media: 14397\n",
      "Posts with other news outlet url:  67508\n",
      "Total postas included in analysis:  34457\n",
      "Total:  101965\n"
     ]
    },
    {
     "data": {
      "image/png": "[encoded data removed]",
      "text/plain": [
       "<Figure size 864x720 with 1 Axes>"
      ]
     },
     "metadata": {
      "needs_background": "light"
     },
     "output_type": "display_data"
    }
   ],
   "source": [
    "print(\"Posts with right leaning news outlet url: \", len(posts_right))\n",
    "print(\"Posts with left leaning news outlet url: \", len(posts_left))\n",
    "print(\"Posts with center leaning news outlet url: \", len(posts_center))\n",
    "print(\"Posts from social media:\", len(posts_social))\n",
    "print(\"Posts with other news outlet url: \", len(posts_other))\n",
    "print(\"Total postas included in analysis: \", len(all_included_posts))\n",
    "print(\"Total: \", len(submissions))\n",
    "\n",
    "\n",
    "plt.rcParams[\"figure.figsize\"] = (12,10)\n",
    "labels = ['Left', 'Center', 'Right']\n",
    "num_subs = [len(posts_left), len(posts_center), len(posts_right)]\n",
    "\n",
    "x = np.arange(len(labels))  # the label locations\n",
    "width = 0.75  # the width of the bars\n",
    "\n",
    "fig, ax = plt.subplots()\n",
    "b1 =  ax.bar(x - width/4, num_subs, width, color=['b', 'grey', 'r'])\n",
    "\n",
    "# Add some text for labels, title and custom x-axis tick labels, etc.\n",
    "ax.set_ylabel('Number of Submissions', fontsize=40)\n",
    "ax.set_xlabel('Political Leaning',fontsize=40)\n",
    "ax.set_title('r/worldnews',fontsize=50)\n",
    "ax.set_xticks(x)\n",
    "ax.set_xticklabels(labels, fontsize=30)  \n",
    "ax.legend(handles=b1, loc=1, labels=labels)\n",
    "plt.savefig('worldnews/wn1.pdf', bbox_inches='tight', pad_inches=0)\n",
    "plt.show()\n",
    "\n",
    "# all_included_posts.plot.bar(x=\"leaning\", y=\"counts\")\n",
    "# plt.xticks(np.arange(len(all_included_posts.counts)), all_included_posts.leaning)\n",
    "# plt.xlabel(\"Leanings\")\n",
    "# plt.ylabel(\"Number of Posts\")\n",
    "# plt.title(\"Bar Plot for Number of Posts v/s Leaning of media outlet\")\n",
    "# plt.show()"
   ]
  },
  {
   "cell_type": "code",
   "execution_count": 10,
   "metadata": {
    "colab": {
     "base_uri": "https://localhost:8080/",
     "height": 690
    },
    "colab_type": "code",
    "executionInfo": {
     "elapsed": 79654,
     "status": "ok",
     "timestamp": 1575260943648,
     "user": {
      "displayName": "Mansi Ganatra",
      "photoUrl": "",
      "userId": "13427068811170262247"
     },
     "user_tz": 480
    },
    "id": "V8cJBXkyWJRt",
    "outputId": "1eb6d92f-961e-4ea1-81c4-639658d9514e"
   },
   "outputs": [
    {
     "name": "stdout",
     "output_type": "stream",
     "text": [
      "Top 20 overall domains: \n",
      "\n",
      "\n"
     ]
    },
    {
     "data": {
      "text/html": [
       "<div>\n",
       "<style scoped>\n",
       "    .dataframe tbody tr th:only-of-type {\n",
       "        vertical-align: middle;\n",
       "    }\n",
       "\n",
       "    .dataframe tbody tr th {\n",
       "        vertical-align: top;\n",
       "    }\n",
       "\n",
       "    .dataframe thead th {\n",
       "        text-align: right;\n",
       "    }\n",
       "</style>\n",
       "<table border=\"1\" class=\"dataframe\">\n",
       "  <thead>\n",
       "    <tr style=\"text-align: right;\">\n",
       "      <th></th>\n",
       "      <th>base_domain</th>\n",
       "      <th>count</th>\n",
       "    </tr>\n",
       "  </thead>\n",
       "  <tbody>\n",
       "    <tr>\n",
       "      <th>43</th>\n",
       "      <td>twitter</td>\n",
       "      <td>7702</td>\n",
       "    </tr>\n",
       "    <tr>\n",
       "      <th>52</th>\n",
       "      <td>youtube</td>\n",
       "      <td>4617</td>\n",
       "    </tr>\n",
       "    <tr>\n",
       "      <th>33</th>\n",
       "      <td>reuters</td>\n",
       "      <td>4434</td>\n",
       "    </tr>\n",
       "    <tr>\n",
       "      <th>3</th>\n",
       "      <td>bbc</td>\n",
       "      <td>4419</td>\n",
       "    </tr>\n",
       "    <tr>\n",
       "      <th>39</th>\n",
       "      <td>theguardian</td>\n",
       "      <td>3022</td>\n",
       "    </tr>\n",
       "    <tr>\n",
       "      <th>8</th>\n",
       "      <td>cnn</td>\n",
       "      <td>1671</td>\n",
       "    </tr>\n",
       "    <tr>\n",
       "      <th>29</th>\n",
       "      <td>nytimes</td>\n",
       "      <td>1063</td>\n",
       "    </tr>\n",
       "    <tr>\n",
       "      <th>11</th>\n",
       "      <td>dailymail</td>\n",
       "      <td>727</td>\n",
       "    </tr>\n",
       "    <tr>\n",
       "      <th>50</th>\n",
       "      <td>yahoo</td>\n",
       "      <td>721</td>\n",
       "    </tr>\n",
       "    <tr>\n",
       "      <th>47</th>\n",
       "      <td>washingtonpost</td>\n",
       "      <td>696</td>\n",
       "    </tr>\n",
       "    <tr>\n",
       "      <th>17</th>\n",
       "      <td>google</td>\n",
       "      <td>552</td>\n",
       "    </tr>\n",
       "    <tr>\n",
       "      <th>51</th>\n",
       "      <td>youtu.be</td>\n",
       "      <td>530</td>\n",
       "    </tr>\n",
       "    <tr>\n",
       "      <th>16</th>\n",
       "      <td>foxnews</td>\n",
       "      <td>526</td>\n",
       "    </tr>\n",
       "    <tr>\n",
       "      <th>4</th>\n",
       "      <td>bloomberg</td>\n",
       "      <td>486</td>\n",
       "    </tr>\n",
       "    <tr>\n",
       "      <th>0</th>\n",
       "      <td>abcnews</td>\n",
       "      <td>411</td>\n",
       "    </tr>\n",
       "    <tr>\n",
       "      <th>24</th>\n",
       "      <td>nbcnews</td>\n",
       "      <td>339</td>\n",
       "    </tr>\n",
       "    <tr>\n",
       "      <th>27</th>\n",
       "      <td>npr</td>\n",
       "      <td>307</td>\n",
       "    </tr>\n",
       "    <tr>\n",
       "      <th>44</th>\n",
       "      <td>usatoday</td>\n",
       "      <td>295</td>\n",
       "    </tr>\n",
       "    <tr>\n",
       "      <th>7</th>\n",
       "      <td>cbsnews</td>\n",
       "      <td>244</td>\n",
       "    </tr>\n",
       "    <tr>\n",
       "      <th>49</th>\n",
       "      <td>wsj</td>\n",
       "      <td>232</td>\n",
       "    </tr>\n",
       "  </tbody>\n",
       "</table>\n",
       "</div>"
      ],
      "text/plain": [
       "       base_domain  count\n",
       "43         twitter   7702\n",
       "52         youtube   4617\n",
       "33         reuters   4434\n",
       "3              bbc   4419\n",
       "39     theguardian   3022\n",
       "8              cnn   1671\n",
       "29         nytimes   1063\n",
       "11       dailymail    727\n",
       "50           yahoo    721\n",
       "47  washingtonpost    696\n",
       "17          google    552\n",
       "51        youtu.be    530\n",
       "16         foxnews    526\n",
       "4        bloomberg    486\n",
       "0          abcnews    411\n",
       "24         nbcnews    339\n",
       "27             npr    307\n",
       "44        usatoday    295\n",
       "7          cbsnews    244\n",
       "49             wsj    232"
      ]
     },
     "execution_count": 10,
     "metadata": {},
     "output_type": "execute_result"
    }
   ],
   "source": [
    "domain_post_frequency =  all_included_posts.groupby(\"base_domain\").count()[\"id\"].reset_index(name='count').sort_values(['count'], ascending=False) \n",
    "print(\"Top 20 overall domains: \\n\\n\")\n",
    "domain_post_frequency.head(20)"
   ]
  },
  {
   "cell_type": "code",
   "execution_count": 11,
   "metadata": {
    "colab": {
     "base_uri": "https://localhost:8080/",
     "height": 512
    },
    "colab_type": "code",
    "executionInfo": {
     "elapsed": 79650,
     "status": "ok",
     "timestamp": 1575260943648,
     "user": {
      "displayName": "Mansi Ganatra",
      "photoUrl": "",
      "userId": "13427068811170262247"
     },
     "user_tz": 480
    },
    "id": "ZzO62dLzXdM1",
    "outputId": "a789b14d-098c-425d-db0f-bbd6f4373f63"
   },
   "outputs": [
    {
     "name": "stdout",
     "output_type": "stream",
     "text": [
      "Top 20 right leaning domains: \n",
      "\n",
      "\n"
     ]
    },
    {
     "data": {
      "text/html": [
       "<div>\n",
       "<style scoped>\n",
       "    .dataframe tbody tr th:only-of-type {\n",
       "        vertical-align: middle;\n",
       "    }\n",
       "\n",
       "    .dataframe tbody tr th {\n",
       "        vertical-align: top;\n",
       "    }\n",
       "\n",
       "    .dataframe thead th {\n",
       "        text-align: right;\n",
       "    }\n",
       "</style>\n",
       "<table border=\"1\" class=\"dataframe\">\n",
       "  <thead>\n",
       "    <tr style=\"text-align: right;\">\n",
       "      <th></th>\n",
       "      <th>base_domain</th>\n",
       "      <th>count</th>\n",
       "    </tr>\n",
       "  </thead>\n",
       "  <tbody>\n",
       "    <tr>\n",
       "      <th>3</th>\n",
       "      <td>dailymail</td>\n",
       "      <td>727</td>\n",
       "    </tr>\n",
       "    <tr>\n",
       "      <th>5</th>\n",
       "      <td>foxnews</td>\n",
       "      <td>526</td>\n",
       "    </tr>\n",
       "    <tr>\n",
       "      <th>0</th>\n",
       "      <td>breitbart</td>\n",
       "      <td>87</td>\n",
       "    </tr>\n",
       "    <tr>\n",
       "      <th>8</th>\n",
       "      <td>nypost</td>\n",
       "      <td>75</td>\n",
       "    </tr>\n",
       "    <tr>\n",
       "      <th>13</th>\n",
       "      <td>washingtontimes</td>\n",
       "      <td>53</td>\n",
       "    </tr>\n",
       "    <tr>\n",
       "      <th>2</th>\n",
       "      <td>dailycaller</td>\n",
       "      <td>49</td>\n",
       "    </tr>\n",
       "    <tr>\n",
       "      <th>7</th>\n",
       "      <td>newsmax</td>\n",
       "      <td>12</td>\n",
       "    </tr>\n",
       "    <tr>\n",
       "      <th>12</th>\n",
       "      <td>washingtonexaminer</td>\n",
       "      <td>11</td>\n",
       "    </tr>\n",
       "    <tr>\n",
       "      <th>4</th>\n",
       "      <td>dailywire</td>\n",
       "      <td>6</td>\n",
       "    </tr>\n",
       "    <tr>\n",
       "      <th>9</th>\n",
       "      <td>reason</td>\n",
       "      <td>5</td>\n",
       "    </tr>\n",
       "    <tr>\n",
       "      <th>1</th>\n",
       "      <td>cbn</td>\n",
       "      <td>4</td>\n",
       "    </tr>\n",
       "    <tr>\n",
       "      <th>10</th>\n",
       "      <td>spectator</td>\n",
       "      <td>3</td>\n",
       "    </tr>\n",
       "    <tr>\n",
       "      <th>11</th>\n",
       "      <td>thefederalist</td>\n",
       "      <td>3</td>\n",
       "    </tr>\n",
       "    <tr>\n",
       "      <th>6</th>\n",
       "      <td>nationalreview</td>\n",
       "      <td>1</td>\n",
       "    </tr>\n",
       "  </tbody>\n",
       "</table>\n",
       "</div>"
      ],
      "text/plain": [
       "           base_domain  count\n",
       "3            dailymail    727\n",
       "5              foxnews    526\n",
       "0            breitbart     87\n",
       "8               nypost     75\n",
       "13     washingtontimes     53\n",
       "2          dailycaller     49\n",
       "7              newsmax     12\n",
       "12  washingtonexaminer     11\n",
       "4            dailywire      6\n",
       "9               reason      5\n",
       "1                  cbn      4\n",
       "10           spectator      3\n",
       "11       thefederalist      3\n",
       "6       nationalreview      1"
      ]
     },
     "execution_count": 11,
     "metadata": {},
     "output_type": "execute_result"
    }
   ],
   "source": [
    "right_domain_post_frequency =  posts_right.groupby(\"base_domain\").count()[\"id\"].reset_index(name='count').sort_values(['count'], ascending=False) \n",
    "print(\"Top 20 right leaning domains: \\n\\n\")\n",
    "right_domain_post_frequency.head(20)"
   ]
  },
  {
   "cell_type": "code",
   "execution_count": 12,
   "metadata": {
    "colab": {
     "base_uri": "https://localhost:8080/",
     "height": 690
    },
    "colab_type": "code",
    "executionInfo": {
     "elapsed": 79648,
     "status": "ok",
     "timestamp": 1575260943649,
     "user": {
      "displayName": "Mansi Ganatra",
      "photoUrl": "",
      "userId": "13427068811170262247"
     },
     "user_tz": 480
    },
    "id": "TIB6TiSgX_wH",
    "outputId": "485fd2ea-f560-4771-e793-c793630314a9"
   },
   "outputs": [
    {
     "name": "stdout",
     "output_type": "stream",
     "text": [
      "Top 20 left leaning domains: \n",
      "\n",
      "\n"
     ]
    },
    {
     "data": {
      "text/html": [
       "<div>\n",
       "<style scoped>\n",
       "    .dataframe tbody tr th:only-of-type {\n",
       "        vertical-align: middle;\n",
       "    }\n",
       "\n",
       "    .dataframe tbody tr th {\n",
       "        vertical-align: top;\n",
       "    }\n",
       "\n",
       "    .dataframe thead th {\n",
       "        text-align: right;\n",
       "    }\n",
       "</style>\n",
       "<table border=\"1\" class=\"dataframe\">\n",
       "  <thead>\n",
       "    <tr style=\"text-align: right;\">\n",
       "      <th></th>\n",
       "      <th>base_domain</th>\n",
       "      <th>count</th>\n",
       "    </tr>\n",
       "  </thead>\n",
       "  <tbody>\n",
       "    <tr>\n",
       "      <th>17</th>\n",
       "      <td>theguardian</td>\n",
       "      <td>3022</td>\n",
       "    </tr>\n",
       "    <tr>\n",
       "      <th>3</th>\n",
       "      <td>cnn</td>\n",
       "      <td>1671</td>\n",
       "    </tr>\n",
       "    <tr>\n",
       "      <th>12</th>\n",
       "      <td>nytimes</td>\n",
       "      <td>1063</td>\n",
       "    </tr>\n",
       "    <tr>\n",
       "      <th>21</th>\n",
       "      <td>washingtonpost</td>\n",
       "      <td>696</td>\n",
       "    </tr>\n",
       "    <tr>\n",
       "      <th>0</th>\n",
       "      <td>abcnews</td>\n",
       "      <td>411</td>\n",
       "    </tr>\n",
       "    <tr>\n",
       "      <th>10</th>\n",
       "      <td>nbcnews</td>\n",
       "      <td>339</td>\n",
       "    </tr>\n",
       "    <tr>\n",
       "      <th>2</th>\n",
       "      <td>cbsnews</td>\n",
       "      <td>244</td>\n",
       "    </tr>\n",
       "    <tr>\n",
       "      <th>7</th>\n",
       "      <td>latimes</td>\n",
       "      <td>161</td>\n",
       "    </tr>\n",
       "    <tr>\n",
       "      <th>13</th>\n",
       "      <td>politico</td>\n",
       "      <td>138</td>\n",
       "    </tr>\n",
       "    <tr>\n",
       "      <th>16</th>\n",
       "      <td>thedailybeast</td>\n",
       "      <td>79</td>\n",
       "    </tr>\n",
       "    <tr>\n",
       "      <th>5</th>\n",
       "      <td>economist</td>\n",
       "      <td>50</td>\n",
       "    </tr>\n",
       "    <tr>\n",
       "      <th>18</th>\n",
       "      <td>theintercept</td>\n",
       "      <td>47</td>\n",
       "    </tr>\n",
       "    <tr>\n",
       "      <th>15</th>\n",
       "      <td>theatlantic</td>\n",
       "      <td>37</td>\n",
       "    </tr>\n",
       "    <tr>\n",
       "      <th>20</th>\n",
       "      <td>vox</td>\n",
       "      <td>30</td>\n",
       "    </tr>\n",
       "    <tr>\n",
       "      <th>19</th>\n",
       "      <td>thenation</td>\n",
       "      <td>29</td>\n",
       "    </tr>\n",
       "    <tr>\n",
       "      <th>4</th>\n",
       "      <td>democracynow</td>\n",
       "      <td>21</td>\n",
       "    </tr>\n",
       "    <tr>\n",
       "      <th>11</th>\n",
       "      <td>newyorker</td>\n",
       "      <td>21</td>\n",
       "    </tr>\n",
       "    <tr>\n",
       "      <th>6</th>\n",
       "      <td>huffpost</td>\n",
       "      <td>16</td>\n",
       "    </tr>\n",
       "    <tr>\n",
       "      <th>8</th>\n",
       "      <td>motherjones</td>\n",
       "      <td>12</td>\n",
       "    </tr>\n",
       "    <tr>\n",
       "      <th>1</th>\n",
       "      <td>alternet</td>\n",
       "      <td>11</td>\n",
       "    </tr>\n",
       "  </tbody>\n",
       "</table>\n",
       "</div>"
      ],
      "text/plain": [
       "       base_domain  count\n",
       "17     theguardian   3022\n",
       "3              cnn   1671\n",
       "12         nytimes   1063\n",
       "21  washingtonpost    696\n",
       "0          abcnews    411\n",
       "10         nbcnews    339\n",
       "2          cbsnews    244\n",
       "7          latimes    161\n",
       "13        politico    138\n",
       "16   thedailybeast     79\n",
       "5        economist     50\n",
       "18    theintercept     47\n",
       "15     theatlantic     37\n",
       "20             vox     30\n",
       "19       thenation     29\n",
       "4     democracynow     21\n",
       "11       newyorker     21\n",
       "6         huffpost     16\n",
       "8      motherjones     12\n",
       "1         alternet     11"
      ]
     },
     "execution_count": 12,
     "metadata": {},
     "output_type": "execute_result"
    }
   ],
   "source": [
    "left_domain_post_frequency =  posts_left.groupby(\"base_domain\").count()[\"id\"].reset_index(name='count').sort_values(['count'], ascending=False) \n",
    "print(\"Top 20 left leaning domains: \\n\\n\")\n",
    "left_domain_post_frequency.head(20)"
   ]
  },
  {
   "cell_type": "code",
   "execution_count": 13,
   "metadata": {
    "colab": {
     "base_uri": "https://localhost:8080/",
     "height": 364
    },
    "colab_type": "code",
    "executionInfo": {
     "elapsed": 79644,
     "status": "ok",
     "timestamp": 1575260943649,
     "user": {
      "displayName": "Mansi Ganatra",
      "photoUrl": "",
      "userId": "13427068811170262247"
     },
     "user_tz": 480
    },
    "id": "0KqskznyYODB",
    "outputId": "1620a056-869c-4492-c01c-4b44ea306f69"
   },
   "outputs": [
    {
     "name": "stdout",
     "output_type": "stream",
     "text": [
      "Top 20 center leaning domains: \n",
      "\n",
      "\n"
     ]
    },
    {
     "data": {
      "text/html": [
       "<div>\n",
       "<style scoped>\n",
       "    .dataframe tbody tr th:only-of-type {\n",
       "        vertical-align: middle;\n",
       "    }\n",
       "\n",
       "    .dataframe tbody tr th {\n",
       "        vertical-align: top;\n",
       "    }\n",
       "\n",
       "    .dataframe thead th {\n",
       "        text-align: right;\n",
       "    }\n",
       "</style>\n",
       "<table border=\"1\" class=\"dataframe\">\n",
       "  <thead>\n",
       "    <tr style=\"text-align: right;\">\n",
       "      <th></th>\n",
       "      <th>base_domain</th>\n",
       "      <th>count</th>\n",
       "    </tr>\n",
       "  </thead>\n",
       "  <tbody>\n",
       "    <tr>\n",
       "      <th>5</th>\n",
       "      <td>reuters</td>\n",
       "      <td>4434</td>\n",
       "    </tr>\n",
       "    <tr>\n",
       "      <th>1</th>\n",
       "      <td>bbc</td>\n",
       "      <td>4419</td>\n",
       "    </tr>\n",
       "    <tr>\n",
       "      <th>2</th>\n",
       "      <td>bloomberg</td>\n",
       "      <td>486</td>\n",
       "    </tr>\n",
       "    <tr>\n",
       "      <th>4</th>\n",
       "      <td>npr</td>\n",
       "      <td>307</td>\n",
       "    </tr>\n",
       "    <tr>\n",
       "      <th>7</th>\n",
       "      <td>usatoday</td>\n",
       "      <td>295</td>\n",
       "    </tr>\n",
       "    <tr>\n",
       "      <th>8</th>\n",
       "      <td>wsj</td>\n",
       "      <td>232</td>\n",
       "    </tr>\n",
       "    <tr>\n",
       "      <th>0</th>\n",
       "      <td>apnews</td>\n",
       "      <td>120</td>\n",
       "    </tr>\n",
       "    <tr>\n",
       "      <th>6</th>\n",
       "      <td>thehill</td>\n",
       "      <td>68</td>\n",
       "    </tr>\n",
       "    <tr>\n",
       "      <th>3</th>\n",
       "      <td>csmonitor</td>\n",
       "      <td>25</td>\n",
       "    </tr>\n",
       "  </tbody>\n",
       "</table>\n",
       "</div>"
      ],
      "text/plain": [
       "  base_domain  count\n",
       "5     reuters   4434\n",
       "1         bbc   4419\n",
       "2   bloomberg    486\n",
       "4         npr    307\n",
       "7    usatoday    295\n",
       "8         wsj    232\n",
       "0      apnews    120\n",
       "6     thehill     68\n",
       "3   csmonitor     25"
      ]
     },
     "execution_count": 13,
     "metadata": {},
     "output_type": "execute_result"
    }
   ],
   "source": [
    "center_domain_post_frequency =  posts_center.groupby(\"base_domain\").count()[\"id\"].reset_index(name='count').sort_values(['count'], ascending=False) \n",
    "print(\"Top 20 center leaning domains: \\n\\n\")\n",
    "center_domain_post_frequency.head(20)"
   ]
  },
  {
   "cell_type": "code",
   "execution_count": 14,
   "metadata": {
    "colab": {
     "base_uri": "https://localhost:8080/",
     "height": 364
    },
    "colab_type": "code",
    "executionInfo": {
     "elapsed": 79871,
     "status": "ok",
     "timestamp": 1575260943879,
     "user": {
      "displayName": "Mansi Ganatra",
      "photoUrl": "",
      "userId": "13427068811170262247"
     },
     "user_tz": 480
    },
    "id": "XD45QEruYVoG",
    "outputId": "756f73f1-6fb3-4ec3-bd54-3537e151318d"
   },
   "outputs": [
    {
     "name": "stdout",
     "output_type": "stream",
     "text": [
      "Top 20 social media domains: \n",
      "\n",
      "\n"
     ]
    },
    {
     "data": {
      "text/html": [
       "<div>\n",
       "<style scoped>\n",
       "    .dataframe tbody tr th:only-of-type {\n",
       "        vertical-align: middle;\n",
       "    }\n",
       "\n",
       "    .dataframe tbody tr th {\n",
       "        vertical-align: top;\n",
       "    }\n",
       "\n",
       "    .dataframe thead th {\n",
       "        text-align: right;\n",
       "    }\n",
       "</style>\n",
       "<table border=\"1\" class=\"dataframe\">\n",
       "  <thead>\n",
       "    <tr style=\"text-align: right;\">\n",
       "      <th></th>\n",
       "      <th>base_domain</th>\n",
       "      <th>count</th>\n",
       "    </tr>\n",
       "  </thead>\n",
       "  <tbody>\n",
       "    <tr>\n",
       "      <th>4</th>\n",
       "      <td>twitter</td>\n",
       "      <td>7702</td>\n",
       "    </tr>\n",
       "    <tr>\n",
       "      <th>7</th>\n",
       "      <td>youtube</td>\n",
       "      <td>4617</td>\n",
       "    </tr>\n",
       "    <tr>\n",
       "      <th>5</th>\n",
       "      <td>yahoo</td>\n",
       "      <td>721</td>\n",
       "    </tr>\n",
       "    <tr>\n",
       "      <th>1</th>\n",
       "      <td>google</td>\n",
       "      <td>552</td>\n",
       "    </tr>\n",
       "    <tr>\n",
       "      <th>6</th>\n",
       "      <td>youtu.be</td>\n",
       "      <td>530</td>\n",
       "    </tr>\n",
       "    <tr>\n",
       "      <th>0</th>\n",
       "      <td>facebook</td>\n",
       "      <td>194</td>\n",
       "    </tr>\n",
       "    <tr>\n",
       "      <th>3</th>\n",
       "      <td>reddit</td>\n",
       "      <td>80</td>\n",
       "    </tr>\n",
       "    <tr>\n",
       "      <th>2</th>\n",
       "      <td>instagram</td>\n",
       "      <td>1</td>\n",
       "    </tr>\n",
       "  </tbody>\n",
       "</table>\n",
       "</div>"
      ],
      "text/plain": [
       "  base_domain  count\n",
       "4     twitter   7702\n",
       "7     youtube   4617\n",
       "5       yahoo    721\n",
       "1      google    552\n",
       "6    youtu.be    530\n",
       "0    facebook    194\n",
       "3      reddit     80\n",
       "2   instagram      1"
      ]
     },
     "execution_count": 14,
     "metadata": {},
     "output_type": "execute_result"
    }
   ],
   "source": [
    "social_domain_post_frequency =  posts_social.groupby(\"base_domain\").count()[\"id\"].reset_index(name='count').sort_values(['count'], ascending=False) \n",
    "print(\"Top 20 social media domains: \\n\\n\")\n",
    "social_domain_post_frequency.head(20)"
   ]
  },
  {
   "cell_type": "code",
   "execution_count": 15,
   "metadata": {
    "colab": {
     "base_uri": "https://localhost:8080/",
     "height": 690
    },
    "colab_type": "code",
    "executionInfo": {
     "elapsed": 79872,
     "status": "ok",
     "timestamp": 1575260943882,
     "user": {
      "displayName": "Mansi Ganatra",
      "photoUrl": "",
      "userId": "13427068811170262247"
     },
     "user_tz": 480
    },
    "id": "ehnQ3ugJYl1Z",
    "outputId": "17a9875e-8e6b-4049-daba-a456f98d1bd6"
   },
   "outputs": [
    {
     "name": "stdout",
     "output_type": "stream",
     "text": [
      "Top 20 overall average scores by domain:\n",
      "\n",
      "\n"
     ]
    },
    {
     "data": {
      "text/html": [
       "<div>\n",
       "<style scoped>\n",
       "    .dataframe tbody tr th:only-of-type {\n",
       "        vertical-align: middle;\n",
       "    }\n",
       "\n",
       "    .dataframe tbody tr th {\n",
       "        vertical-align: top;\n",
       "    }\n",
       "\n",
       "    .dataframe thead th {\n",
       "        text-align: right;\n",
       "    }\n",
       "</style>\n",
       "<table border=\"1\" class=\"dataframe\">\n",
       "  <thead>\n",
       "    <tr style=\"text-align: right;\">\n",
       "      <th></th>\n",
       "      <th>base_domain</th>\n",
       "      <th>average_score</th>\n",
       "    </tr>\n",
       "  </thead>\n",
       "  <tbody>\n",
       "    <tr>\n",
       "      <th>10</th>\n",
       "      <td>dailycaller</td>\n",
       "      <td>500.795918</td>\n",
       "    </tr>\n",
       "    <tr>\n",
       "      <th>46</th>\n",
       "      <td>washingtonexaminer</td>\n",
       "      <td>416.000000</td>\n",
       "    </tr>\n",
       "    <tr>\n",
       "      <th>2</th>\n",
       "      <td>apnews</td>\n",
       "      <td>397.941667</td>\n",
       "    </tr>\n",
       "    <tr>\n",
       "      <th>7</th>\n",
       "      <td>cbsnews</td>\n",
       "      <td>266.680328</td>\n",
       "    </tr>\n",
       "    <tr>\n",
       "      <th>45</th>\n",
       "      <td>vox</td>\n",
       "      <td>266.666667</td>\n",
       "    </tr>\n",
       "    <tr>\n",
       "      <th>37</th>\n",
       "      <td>thedailybeast</td>\n",
       "      <td>261.164557</td>\n",
       "    </tr>\n",
       "    <tr>\n",
       "      <th>39</th>\n",
       "      <td>theguardian</td>\n",
       "      <td>246.089014</td>\n",
       "    </tr>\n",
       "    <tr>\n",
       "      <th>3</th>\n",
       "      <td>bbc</td>\n",
       "      <td>222.343743</td>\n",
       "    </tr>\n",
       "    <tr>\n",
       "      <th>4</th>\n",
       "      <td>bloomberg</td>\n",
       "      <td>220.783951</td>\n",
       "    </tr>\n",
       "    <tr>\n",
       "      <th>36</th>\n",
       "      <td>theatlantic</td>\n",
       "      <td>196.918919</td>\n",
       "    </tr>\n",
       "    <tr>\n",
       "      <th>24</th>\n",
       "      <td>nbcnews</td>\n",
       "      <td>193.185841</td>\n",
       "    </tr>\n",
       "    <tr>\n",
       "      <th>40</th>\n",
       "      <td>thehill</td>\n",
       "      <td>174.691176</td>\n",
       "    </tr>\n",
       "    <tr>\n",
       "      <th>33</th>\n",
       "      <td>reuters</td>\n",
       "      <td>150.709066</td>\n",
       "    </tr>\n",
       "    <tr>\n",
       "      <th>50</th>\n",
       "      <td>yahoo</td>\n",
       "      <td>139.883495</td>\n",
       "    </tr>\n",
       "    <tr>\n",
       "      <th>41</th>\n",
       "      <td>theintercept</td>\n",
       "      <td>124.212766</td>\n",
       "    </tr>\n",
       "    <tr>\n",
       "      <th>8</th>\n",
       "      <td>cnn</td>\n",
       "      <td>123.373429</td>\n",
       "    </tr>\n",
       "    <tr>\n",
       "      <th>44</th>\n",
       "      <td>usatoday</td>\n",
       "      <td>113.400000</td>\n",
       "    </tr>\n",
       "    <tr>\n",
       "      <th>11</th>\n",
       "      <td>dailymail</td>\n",
       "      <td>96.324622</td>\n",
       "    </tr>\n",
       "    <tr>\n",
       "      <th>16</th>\n",
       "      <td>foxnews</td>\n",
       "      <td>90.121673</td>\n",
       "    </tr>\n",
       "    <tr>\n",
       "      <th>30</th>\n",
       "      <td>politico</td>\n",
       "      <td>56.253623</td>\n",
       "    </tr>\n",
       "  </tbody>\n",
       "</table>\n",
       "</div>"
      ],
      "text/plain": [
       "           base_domain  average_score\n",
       "10         dailycaller     500.795918\n",
       "46  washingtonexaminer     416.000000\n",
       "2               apnews     397.941667\n",
       "7              cbsnews     266.680328\n",
       "45                 vox     266.666667\n",
       "37       thedailybeast     261.164557\n",
       "39         theguardian     246.089014\n",
       "3                  bbc     222.343743\n",
       "4            bloomberg     220.783951\n",
       "36         theatlantic     196.918919\n",
       "24             nbcnews     193.185841\n",
       "40             thehill     174.691176\n",
       "33             reuters     150.709066\n",
       "50               yahoo     139.883495\n",
       "41        theintercept     124.212766\n",
       "8                  cnn     123.373429\n",
       "44            usatoday     113.400000\n",
       "11           dailymail      96.324622\n",
       "16             foxnews      90.121673\n",
       "30            politico      56.253623"
      ]
     },
     "execution_count": 15,
     "metadata": {},
     "output_type": "execute_result"
    }
   ],
   "source": [
    "overall_average_score =  all_included_posts.groupby(\"base_domain\")['score'].mean().reset_index(name=\"average_score\").sort_values(['average_score'], ascending=False) \n",
    "print(\"Top 20 overall average scores by domain:\\n\\n\")\n",
    "overall_average_score.head(20)"
   ]
  },
  {
   "cell_type": "code",
   "execution_count": 16,
   "metadata": {
    "colab": {
     "base_uri": "https://localhost:8080/",
     "height": 512
    },
    "colab_type": "code",
    "executionInfo": {
     "elapsed": 79868,
     "status": "ok",
     "timestamp": 1575260943882,
     "user": {
      "displayName": "Mansi Ganatra",
      "photoUrl": "",
      "userId": "13427068811170262247"
     },
     "user_tz": 480
    },
    "id": "l1hilGyTeUYd",
    "outputId": "fbe921ca-55a1-494b-9c70-5562dd1ba34e"
   },
   "outputs": [
    {
     "name": "stdout",
     "output_type": "stream",
     "text": [
      "Top 20 average scores by domain for right leaning outlets:\n",
      "\n",
      "\n"
     ]
    },
    {
     "data": {
      "text/html": [
       "<div>\n",
       "<style scoped>\n",
       "    .dataframe tbody tr th:only-of-type {\n",
       "        vertical-align: middle;\n",
       "    }\n",
       "\n",
       "    .dataframe tbody tr th {\n",
       "        vertical-align: top;\n",
       "    }\n",
       "\n",
       "    .dataframe thead th {\n",
       "        text-align: right;\n",
       "    }\n",
       "</style>\n",
       "<table border=\"1\" class=\"dataframe\">\n",
       "  <thead>\n",
       "    <tr style=\"text-align: right;\">\n",
       "      <th></th>\n",
       "      <th>base_domain</th>\n",
       "      <th>average_score</th>\n",
       "    </tr>\n",
       "  </thead>\n",
       "  <tbody>\n",
       "    <tr>\n",
       "      <th>2</th>\n",
       "      <td>dailycaller</td>\n",
       "      <td>500.795918</td>\n",
       "    </tr>\n",
       "    <tr>\n",
       "      <th>12</th>\n",
       "      <td>washingtonexaminer</td>\n",
       "      <td>416.000000</td>\n",
       "    </tr>\n",
       "    <tr>\n",
       "      <th>3</th>\n",
       "      <td>dailymail</td>\n",
       "      <td>96.324622</td>\n",
       "    </tr>\n",
       "    <tr>\n",
       "      <th>5</th>\n",
       "      <td>foxnews</td>\n",
       "      <td>90.121673</td>\n",
       "    </tr>\n",
       "    <tr>\n",
       "      <th>4</th>\n",
       "      <td>dailywire</td>\n",
       "      <td>29.833333</td>\n",
       "    </tr>\n",
       "    <tr>\n",
       "      <th>0</th>\n",
       "      <td>breitbart</td>\n",
       "      <td>28.011494</td>\n",
       "    </tr>\n",
       "    <tr>\n",
       "      <th>7</th>\n",
       "      <td>newsmax</td>\n",
       "      <td>21.416667</td>\n",
       "    </tr>\n",
       "    <tr>\n",
       "      <th>8</th>\n",
       "      <td>nypost</td>\n",
       "      <td>10.106667</td>\n",
       "    </tr>\n",
       "    <tr>\n",
       "      <th>13</th>\n",
       "      <td>washingtontimes</td>\n",
       "      <td>6.754717</td>\n",
       "    </tr>\n",
       "    <tr>\n",
       "      <th>9</th>\n",
       "      <td>reason</td>\n",
       "      <td>3.800000</td>\n",
       "    </tr>\n",
       "    <tr>\n",
       "      <th>11</th>\n",
       "      <td>thefederalist</td>\n",
       "      <td>2.333333</td>\n",
       "    </tr>\n",
       "    <tr>\n",
       "      <th>6</th>\n",
       "      <td>nationalreview</td>\n",
       "      <td>1.000000</td>\n",
       "    </tr>\n",
       "    <tr>\n",
       "      <th>1</th>\n",
       "      <td>cbn</td>\n",
       "      <td>0.750000</td>\n",
       "    </tr>\n",
       "    <tr>\n",
       "      <th>10</th>\n",
       "      <td>spectator</td>\n",
       "      <td>0.666667</td>\n",
       "    </tr>\n",
       "  </tbody>\n",
       "</table>\n",
       "</div>"
      ],
      "text/plain": [
       "           base_domain  average_score\n",
       "2          dailycaller     500.795918\n",
       "12  washingtonexaminer     416.000000\n",
       "3            dailymail      96.324622\n",
       "5              foxnews      90.121673\n",
       "4            dailywire      29.833333\n",
       "0            breitbart      28.011494\n",
       "7              newsmax      21.416667\n",
       "8               nypost      10.106667\n",
       "13     washingtontimes       6.754717\n",
       "9               reason       3.800000\n",
       "11       thefederalist       2.333333\n",
       "6       nationalreview       1.000000\n",
       "1                  cbn       0.750000\n",
       "10           spectator       0.666667"
      ]
     },
     "execution_count": 16,
     "metadata": {},
     "output_type": "execute_result"
    }
   ],
   "source": [
    "right_average_score =  posts_right.groupby(\"base_domain\")['score'].mean().reset_index(name=\"average_score\").sort_values(['average_score'], ascending=False) \n",
    "print(\"Top 20 average scores by domain for right leaning outlets:\\n\\n\")\n",
    "right_average_score.head(20)"
   ]
  },
  {
   "cell_type": "code",
   "execution_count": 17,
   "metadata": {
    "colab": {
     "base_uri": "https://localhost:8080/",
     "height": 690
    },
    "colab_type": "code",
    "executionInfo": {
     "elapsed": 79866,
     "status": "ok",
     "timestamp": 1575260943883,
     "user": {
      "displayName": "Mansi Ganatra",
      "photoUrl": "",
      "userId": "13427068811170262247"
     },
     "user_tz": 480
    },
    "id": "06pfqzzhekZw",
    "outputId": "74edb7c2-6ec1-4d5f-f1e6-f57c69818fa1"
   },
   "outputs": [
    {
     "name": "stdout",
     "output_type": "stream",
     "text": [
      "Top 20 average scores by domain for left leaning outlets:\n",
      "\n",
      "\n"
     ]
    },
    {
     "data": {
      "text/html": [
       "<div>\n",
       "<style scoped>\n",
       "    .dataframe tbody tr th:only-of-type {\n",
       "        vertical-align: middle;\n",
       "    }\n",
       "\n",
       "    .dataframe tbody tr th {\n",
       "        vertical-align: top;\n",
       "    }\n",
       "\n",
       "    .dataframe thead th {\n",
       "        text-align: right;\n",
       "    }\n",
       "</style>\n",
       "<table border=\"1\" class=\"dataframe\">\n",
       "  <thead>\n",
       "    <tr style=\"text-align: right;\">\n",
       "      <th></th>\n",
       "      <th>base_domain</th>\n",
       "      <th>average_score</th>\n",
       "    </tr>\n",
       "  </thead>\n",
       "  <tbody>\n",
       "    <tr>\n",
       "      <th>2</th>\n",
       "      <td>cbsnews</td>\n",
       "      <td>266.680328</td>\n",
       "    </tr>\n",
       "    <tr>\n",
       "      <th>20</th>\n",
       "      <td>vox</td>\n",
       "      <td>266.666667</td>\n",
       "    </tr>\n",
       "    <tr>\n",
       "      <th>16</th>\n",
       "      <td>thedailybeast</td>\n",
       "      <td>261.164557</td>\n",
       "    </tr>\n",
       "    <tr>\n",
       "      <th>17</th>\n",
       "      <td>theguardian</td>\n",
       "      <td>246.089014</td>\n",
       "    </tr>\n",
       "    <tr>\n",
       "      <th>15</th>\n",
       "      <td>theatlantic</td>\n",
       "      <td>196.918919</td>\n",
       "    </tr>\n",
       "    <tr>\n",
       "      <th>10</th>\n",
       "      <td>nbcnews</td>\n",
       "      <td>193.185841</td>\n",
       "    </tr>\n",
       "    <tr>\n",
       "      <th>18</th>\n",
       "      <td>theintercept</td>\n",
       "      <td>124.212766</td>\n",
       "    </tr>\n",
       "    <tr>\n",
       "      <th>3</th>\n",
       "      <td>cnn</td>\n",
       "      <td>123.373429</td>\n",
       "    </tr>\n",
       "    <tr>\n",
       "      <th>13</th>\n",
       "      <td>politico</td>\n",
       "      <td>56.253623</td>\n",
       "    </tr>\n",
       "    <tr>\n",
       "      <th>0</th>\n",
       "      <td>abcnews</td>\n",
       "      <td>48.472019</td>\n",
       "    </tr>\n",
       "    <tr>\n",
       "      <th>7</th>\n",
       "      <td>latimes</td>\n",
       "      <td>46.155280</td>\n",
       "    </tr>\n",
       "    <tr>\n",
       "      <th>8</th>\n",
       "      <td>motherjones</td>\n",
       "      <td>37.750000</td>\n",
       "    </tr>\n",
       "    <tr>\n",
       "      <th>5</th>\n",
       "      <td>economist</td>\n",
       "      <td>33.820000</td>\n",
       "    </tr>\n",
       "    <tr>\n",
       "      <th>4</th>\n",
       "      <td>democracynow</td>\n",
       "      <td>24.285714</td>\n",
       "    </tr>\n",
       "    <tr>\n",
       "      <th>19</th>\n",
       "      <td>thenation</td>\n",
       "      <td>23.551724</td>\n",
       "    </tr>\n",
       "    <tr>\n",
       "      <th>1</th>\n",
       "      <td>alternet</td>\n",
       "      <td>11.909091</td>\n",
       "    </tr>\n",
       "    <tr>\n",
       "      <th>9</th>\n",
       "      <td>msnbc</td>\n",
       "      <td>11.166667</td>\n",
       "    </tr>\n",
       "    <tr>\n",
       "      <th>21</th>\n",
       "      <td>washingtonpost</td>\n",
       "      <td>10.045977</td>\n",
       "    </tr>\n",
       "    <tr>\n",
       "      <th>11</th>\n",
       "      <td>newyorker</td>\n",
       "      <td>8.666667</td>\n",
       "    </tr>\n",
       "    <tr>\n",
       "      <th>12</th>\n",
       "      <td>nytimes</td>\n",
       "      <td>4.704610</td>\n",
       "    </tr>\n",
       "  </tbody>\n",
       "</table>\n",
       "</div>"
      ],
      "text/plain": [
       "       base_domain  average_score\n",
       "2          cbsnews     266.680328\n",
       "20             vox     266.666667\n",
       "16   thedailybeast     261.164557\n",
       "17     theguardian     246.089014\n",
       "15     theatlantic     196.918919\n",
       "10         nbcnews     193.185841\n",
       "18    theintercept     124.212766\n",
       "3              cnn     123.373429\n",
       "13        politico      56.253623\n",
       "0          abcnews      48.472019\n",
       "7          latimes      46.155280\n",
       "8      motherjones      37.750000\n",
       "5        economist      33.820000\n",
       "4     democracynow      24.285714\n",
       "19       thenation      23.551724\n",
       "1         alternet      11.909091\n",
       "9            msnbc      11.166667\n",
       "21  washingtonpost      10.045977\n",
       "11       newyorker       8.666667\n",
       "12         nytimes       4.704610"
      ]
     },
     "execution_count": 17,
     "metadata": {},
     "output_type": "execute_result"
    }
   ],
   "source": [
    "left_average_score =  posts_left.groupby(\"base_domain\")['score'].mean().reset_index(name=\"average_score\").sort_values(['average_score'], ascending=False) \n",
    "print(\"Top 20 average scores by domain for left leaning outlets:\\n\\n\")\n",
    "left_average_score.head(20)"
   ]
  },
  {
   "cell_type": "code",
   "execution_count": 18,
   "metadata": {
    "colab": {
     "base_uri": "https://localhost:8080/",
     "height": 364
    },
    "colab_type": "code",
    "executionInfo": {
     "elapsed": 79865,
     "status": "ok",
     "timestamp": 1575260943884,
     "user": {
      "displayName": "Mansi Ganatra",
      "photoUrl": "",
      "userId": "13427068811170262247"
     },
     "user_tz": 480
    },
    "id": "sOKF8NaMetBB",
    "outputId": "9d310cfa-9760-4a3a-ad4e-baf68e7acc40"
   },
   "outputs": [
    {
     "name": "stdout",
     "output_type": "stream",
     "text": [
      "Top 20 average scores by domain for center leaning outlets:\n",
      "\n",
      "\n"
     ]
    },
    {
     "data": {
      "text/html": [
       "<div>\n",
       "<style scoped>\n",
       "    .dataframe tbody tr th:only-of-type {\n",
       "        vertical-align: middle;\n",
       "    }\n",
       "\n",
       "    .dataframe tbody tr th {\n",
       "        vertical-align: top;\n",
       "    }\n",
       "\n",
       "    .dataframe thead th {\n",
       "        text-align: right;\n",
       "    }\n",
       "</style>\n",
       "<table border=\"1\" class=\"dataframe\">\n",
       "  <thead>\n",
       "    <tr style=\"text-align: right;\">\n",
       "      <th></th>\n",
       "      <th>base_domain</th>\n",
       "      <th>average_score</th>\n",
       "    </tr>\n",
       "  </thead>\n",
       "  <tbody>\n",
       "    <tr>\n",
       "      <th>0</th>\n",
       "      <td>apnews</td>\n",
       "      <td>397.941667</td>\n",
       "    </tr>\n",
       "    <tr>\n",
       "      <th>1</th>\n",
       "      <td>bbc</td>\n",
       "      <td>222.343743</td>\n",
       "    </tr>\n",
       "    <tr>\n",
       "      <th>2</th>\n",
       "      <td>bloomberg</td>\n",
       "      <td>220.783951</td>\n",
       "    </tr>\n",
       "    <tr>\n",
       "      <th>6</th>\n",
       "      <td>thehill</td>\n",
       "      <td>174.691176</td>\n",
       "    </tr>\n",
       "    <tr>\n",
       "      <th>5</th>\n",
       "      <td>reuters</td>\n",
       "      <td>150.709066</td>\n",
       "    </tr>\n",
       "    <tr>\n",
       "      <th>7</th>\n",
       "      <td>usatoday</td>\n",
       "      <td>113.400000</td>\n",
       "    </tr>\n",
       "    <tr>\n",
       "      <th>3</th>\n",
       "      <td>csmonitor</td>\n",
       "      <td>53.600000</td>\n",
       "    </tr>\n",
       "    <tr>\n",
       "      <th>4</th>\n",
       "      <td>npr</td>\n",
       "      <td>51.837134</td>\n",
       "    </tr>\n",
       "    <tr>\n",
       "      <th>8</th>\n",
       "      <td>wsj</td>\n",
       "      <td>9.862069</td>\n",
       "    </tr>\n",
       "  </tbody>\n",
       "</table>\n",
       "</div>"
      ],
      "text/plain": [
       "  base_domain  average_score\n",
       "0      apnews     397.941667\n",
       "1         bbc     222.343743\n",
       "2   bloomberg     220.783951\n",
       "6     thehill     174.691176\n",
       "5     reuters     150.709066\n",
       "7    usatoday     113.400000\n",
       "3   csmonitor      53.600000\n",
       "4         npr      51.837134\n",
       "8         wsj       9.862069"
      ]
     },
     "execution_count": 18,
     "metadata": {},
     "output_type": "execute_result"
    }
   ],
   "source": [
    "center_average_score =  posts_center.groupby(\"base_domain\")['score'].mean().reset_index(name=\"average_score\").sort_values(['average_score'], ascending=False) \n",
    "print(\"Top 20 average scores by domain for center leaning outlets:\\n\\n\")\n",
    "center_average_score.head(20)"
   ]
  },
  {
   "cell_type": "code",
   "execution_count": 19,
   "metadata": {
    "colab": {
     "base_uri": "https://localhost:8080/",
     "height": 364
    },
    "colab_type": "code",
    "executionInfo": {
     "elapsed": 79863,
     "status": "ok",
     "timestamp": 1575260943884,
     "user": {
      "displayName": "Mansi Ganatra",
      "photoUrl": "",
      "userId": "13427068811170262247"
     },
     "user_tz": 480
    },
    "id": "ccn3oUmte3Lw",
    "outputId": "a7277f52-47e5-4f10-91a5-c933fc98cde6"
   },
   "outputs": [
    {
     "name": "stdout",
     "output_type": "stream",
     "text": [
      "Top 20 average scores by domain for social media:\n",
      "\n",
      "\n"
     ]
    },
    {
     "data": {
      "text/html": [
       "<div>\n",
       "<style scoped>\n",
       "    .dataframe tbody tr th:only-of-type {\n",
       "        vertical-align: middle;\n",
       "    }\n",
       "\n",
       "    .dataframe tbody tr th {\n",
       "        vertical-align: top;\n",
       "    }\n",
       "\n",
       "    .dataframe thead th {\n",
       "        text-align: right;\n",
       "    }\n",
       "</style>\n",
       "<table border=\"1\" class=\"dataframe\">\n",
       "  <thead>\n",
       "    <tr style=\"text-align: right;\">\n",
       "      <th></th>\n",
       "      <th>base_domain</th>\n",
       "      <th>average_score</th>\n",
       "    </tr>\n",
       "  </thead>\n",
       "  <tbody>\n",
       "    <tr>\n",
       "      <th>5</th>\n",
       "      <td>yahoo</td>\n",
       "      <td>139.883495</td>\n",
       "    </tr>\n",
       "    <tr>\n",
       "      <th>1</th>\n",
       "      <td>google</td>\n",
       "      <td>1.740942</td>\n",
       "    </tr>\n",
       "    <tr>\n",
       "      <th>3</th>\n",
       "      <td>reddit</td>\n",
       "      <td>1.175000</td>\n",
       "    </tr>\n",
       "    <tr>\n",
       "      <th>6</th>\n",
       "      <td>youtu.be</td>\n",
       "      <td>1.001887</td>\n",
       "    </tr>\n",
       "    <tr>\n",
       "      <th>4</th>\n",
       "      <td>twitter</td>\n",
       "      <td>1.001039</td>\n",
       "    </tr>\n",
       "    <tr>\n",
       "      <th>7</th>\n",
       "      <td>youtube</td>\n",
       "      <td>1.000866</td>\n",
       "    </tr>\n",
       "    <tr>\n",
       "      <th>2</th>\n",
       "      <td>instagram</td>\n",
       "      <td>1.000000</td>\n",
       "    </tr>\n",
       "    <tr>\n",
       "      <th>0</th>\n",
       "      <td>facebook</td>\n",
       "      <td>0.989691</td>\n",
       "    </tr>\n",
       "  </tbody>\n",
       "</table>\n",
       "</div>"
      ],
      "text/plain": [
       "  base_domain  average_score\n",
       "5       yahoo     139.883495\n",
       "1      google       1.740942\n",
       "3      reddit       1.175000\n",
       "6    youtu.be       1.001887\n",
       "4     twitter       1.001039\n",
       "7     youtube       1.000866\n",
       "2   instagram       1.000000\n",
       "0    facebook       0.989691"
      ]
     },
     "execution_count": 19,
     "metadata": {},
     "output_type": "execute_result"
    }
   ],
   "source": [
    "social_average_score =  posts_social.groupby(\"base_domain\")['score'].mean().reset_index(name=\"average_score\").sort_values(['average_score'], ascending=False) \n",
    "print(\"Top 20 average scores by domain for social media:\\n\\n\")\n",
    "social_average_score.head(20)"
   ]
  },
  {
   "cell_type": "code",
   "execution_count": 20,
   "metadata": {
    "colab": {},
    "colab_type": "code",
    "id": "rmKF2Mxtf1de"
   },
   "outputs": [],
   "source": [
    "average_right_posts_score = posts_right[\"score\"].mean()\n",
    "average_left_posts_score = posts_left[\"score\"].mean()\n",
    "average_center_posts_score = posts_center[\"score\"].mean()\n",
    "average_social_posts_score = posts_social[\"score\"].mean()"
   ]
  },
  {
   "cell_type": "code",
   "execution_count": 55,
   "metadata": {
    "colab": {
     "base_uri": "https://localhost:8080/",
     "height": 168
    },
    "colab_type": "code",
    "executionInfo": {
     "elapsed": 79854,
     "status": "ok",
     "timestamp": 1575260943885,
     "user": {
      "displayName": "Mansi Ganatra",
      "photoUrl": "",
      "userId": "13427068811170262247"
     },
     "user_tz": 480
    },
    "id": "YRouUt_of1dh",
    "outputId": "139c30e0-23f5-4897-9f1e-62384f893e5d"
   },
   "outputs": [
    {
     "name": "stdout",
     "output_type": "stream",
     "text": [
      "Average score of comments for submissions\n",
      "\n",
      "----------------------------------------------------\n",
      "\n",
      "\n",
      "Average score of posts from right leaning outlets:  96.3943661971831\n",
      "Average score of posts from left leaning outlets:  144.60207100591717\n",
      "Average score of posts from center leaning outlets:  180.11833237049873\n",
      "Average score of posts from social media:  7.985413627839133\n"
     ]
    },
    {
     "data": {
      "image/png": "[encoded data removed]",
      "text/plain": [
       "<Figure size 864x720 with 1 Axes>"
      ]
     },
     "metadata": {
      "needs_background": "light"
     },
     "output_type": "display_data"
    }
   ],
   "source": [
    "print(\"Average score of comments for submissions\\n\")\n",
    "print(\"----------------------------------------------------\\n\\n\")\n",
    "\n",
    "print(\"Average score of posts from right leaning outlets: \", average_right_posts_score)\n",
    "print(\"Average score of posts from left leaning outlets: \", average_left_posts_score)\n",
    "print(\"Average score of posts from center leaning outlets: \", average_center_posts_score)\n",
    "print(\"Average score of posts from social media: \", average_social_posts_score)\n",
    "\n",
    "\n",
    "plt.rcParams[\"figure.figsize\"] = (12,10)\n",
    "labels = ['Left', 'Center', 'Right']\n",
    "num_subs = [average_left_posts_score, average_center_posts_score, average_right_posts_score]\n",
    "\n",
    "x = np.arange(len(labels))  # the label locations\n",
    "width = 0.75  # the width of the bars\n",
    "\n",
    "fig, ax = plt.subplots()\n",
    "b1 = ax.bar(x - width/4, num_subs, width, color=['b', 'grey', 'r'])\n",
    "\n",
    "# Add some text for labels, title and custom x-axis tick labels, etc.\n",
    "ax.set_ylabel('Average Score of Submissions', fontsize=40)\n",
    "ax.set_xlabel('Political Leaning',fontsize=40)\n",
    "ax.set_title('r/worldnews',fontsize=50)\n",
    "ax.set_xticks(x)\n",
    "ax.set_xticklabels(labels, fontsize=30)  \n",
    "\n",
    "ax.legend(handles=b1, loc=1, labels=labels)\n",
    "plt.savefig('worldnews/wn2.pdf', bbox_inches='tight', pad_inches=0)\n",
    "plt.show()"
   ]
  },
  {
   "cell_type": "code",
   "execution_count": 22,
   "metadata": {
    "colab": {},
    "colab_type": "code",
    "id": "8--1qbZiRN18"
   },
   "outputs": [],
   "source": [
    "comments[\"p_link_id\"] = comments[\"link_id\"].apply(lambda x: x.split(\"_\")[1])"
   ]
  },
  {
   "cell_type": "code",
   "execution_count": 23,
   "metadata": {
    "colab": {
     "base_uri": "https://localhost:8080/",
     "height": 420
    },
    "colab_type": "code",
    "executionInfo": {
     "elapsed": 83796,
     "status": "ok",
     "timestamp": 1575260947844,
     "user": {
      "displayName": "Mansi Ganatra",
      "photoUrl": "",
      "userId": "13427068811170262247"
     },
     "user_tz": 480
    },
    "id": "Z2FASKZ9OXtd",
    "outputId": "8392f2c5-7b16-4d4a-a33c-6444c622faa7"
   },
   "outputs": [
    {
     "name": "stderr",
     "output_type": "stream",
     "text": [
      "C:\\Users\\mansi\\Anaconda3\\lib\\site-packages\\ipykernel_launcher.py:2: SettingWithCopyWarning: \n",
      "A value is trying to be set on a copy of a slice from a DataFrame.\n",
      "Try using .loc[row_indexer,col_indexer] = value instead\n",
      "\n",
      "See the caveats in the documentation: http://pandas.pydata.org/pandas-docs/stable/indexing.html#indexing-view-versus-copy\n",
      "  \n",
      "C:\\Users\\mansi\\Anaconda3\\lib\\site-packages\\ipykernel_launcher.py:5: SettingWithCopyWarning: \n",
      "A value is trying to be set on a copy of a slice from a DataFrame.\n",
      "Try using .loc[row_indexer,col_indexer] = value instead\n",
      "\n",
      "See the caveats in the documentation: http://pandas.pydata.org/pandas-docs/stable/indexing.html#indexing-view-versus-copy\n",
      "  \"\"\"\n",
      "C:\\Users\\mansi\\Anaconda3\\lib\\site-packages\\ipykernel_launcher.py:8: SettingWithCopyWarning: \n",
      "A value is trying to be set on a copy of a slice from a DataFrame.\n",
      "Try using .loc[row_indexer,col_indexer] = value instead\n",
      "\n",
      "See the caveats in the documentation: http://pandas.pydata.org/pandas-docs/stable/indexing.html#indexing-view-versus-copy\n",
      "  \n",
      "C:\\Users\\mansi\\Anaconda3\\lib\\site-packages\\ipykernel_launcher.py:11: SettingWithCopyWarning: \n",
      "A value is trying to be set on a copy of a slice from a DataFrame.\n",
      "Try using .loc[row_indexer,col_indexer] = value instead\n",
      "\n",
      "See the caveats in the documentation: http://pandas.pydata.org/pandas-docs/stable/indexing.html#indexing-view-versus-copy\n",
      "  # This is added back by InteractiveShellApp.init_path()\n"
     ]
    }
   ],
   "source": [
    "comments_right = comments.loc[comments['p_link_id'].isin(posts_right[\"id\"])]\n",
    "comments_right[\"leaning\"] = \"right\"\n",
    "\n",
    "comments_left = comments.loc[comments['p_link_id'].isin(posts_left[\"id\"])]\n",
    "comments_left[\"leaning\"] = \"left\"\n",
    "\n",
    "comments_center = comments.loc[comments['p_link_id'].isin(posts_center[\"id\"])]\n",
    "comments_center[\"leaning\"] = \"center\"\n",
    "\n",
    "comments_social = comments.loc[comments['p_link_id'].isin(posts_social[\"id\"])]\n",
    "comments_social[\"leaning\"] = \"social\""
   ]
  },
  {
   "cell_type": "code",
   "execution_count": 59,
   "metadata": {
    "colab": {
     "base_uri": "https://localhost:8080/",
     "height": 168
    },
    "colab_type": "code",
    "executionInfo": {
     "elapsed": 83792,
     "status": "ok",
     "timestamp": 1575260947844,
     "user": {
      "displayName": "Mansi Ganatra",
      "photoUrl": "",
      "userId": "13427068811170262247"
     },
     "user_tz": 480
    },
    "id": "nOspgXqXfyvW",
    "outputId": "93a8f8e3-8c16-4156-b646-cf2461f6e5f7"
   },
   "outputs": [
    {
     "name": "stdout",
     "output_type": "stream",
     "text": [
      "Average number of comments for submissions\n",
      "\n",
      "----------------------------------------------------\n",
      "\n",
      "\n",
      "Average number of comments per post from right leaning outlets:  29.596030729833547\n",
      "Average number of comments per post from left leaning outlets:  32.86612426035503\n",
      "Average number of comments per post from center leaning outlets:  38.46591565569035\n",
      "Average number of comments per post from social media:  1.3863999444328678\n"
     ]
    },
    {
     "data": {
      "image/png": "[encoded data removed]",
      "text/plain": [
       "<Figure size 864x720 with 1 Axes>"
      ]
     },
     "metadata": {
      "needs_background": "light"
     },
     "output_type": "display_data"
    }
   ],
   "source": [
    "print(\"Average number of comments for submissions\\n\")\n",
    "print(\"----------------------------------------------------\\n\\n\")\n",
    "\n",
    "print(\"Average number of comments per post from right leaning outlets: \", str(len(comments_right)/len(posts_right)))\n",
    "print(\"Average number of comments per post from left leaning outlets: \", str(len(comments_left)/len(posts_left)))\n",
    "print(\"Average number of comments per post from center leaning outlets: \", str(len(comments_center)/len(posts_center)))\n",
    "print(\"Average number of comments per post from social media: \", str(len(comments_social)/len(posts_social)))\n",
    "\n",
    "\n",
    "\n",
    "plt.rcParams[\"figure.figsize\"] = (12,10)\n",
    "labels = ['Left', 'Center', 'Right']\n",
    "num_subs = [len(comments_left)/len(posts_left), len(comments_center)/len(posts_center), len(comments_right)/len(posts_right)]\n",
    "\n",
    "x = np.arange(len(labels))  # the label locations\n",
    "width = 0.75  # the width of the bars\n",
    "\n",
    "fig, ax = plt.subplots()\n",
    "b1 = ax.bar(x - width/4, num_subs, width, color=['b', 'grey', 'r'])\n",
    "\n",
    "# Add some text for labels, title and custom x-axis tick labels, etc.\n",
    "ax.set_ylabel('Average number of comments on submissions', fontsize=20)\n",
    "ax.set_xlabel('Political Leaning',fontsize=40)\n",
    "ax.set_title('r/worldnews',fontsize=50)\n",
    "ax.set_xticks(x)\n",
    "ax.set_xticklabels(labels, fontsize=30)  \n",
    "ax.legend(handles=b1, loc=1, labels=labels)\n",
    "plt.savefig('worldnews/wn3.pdf', bbox_inches='tight', pad_inches=0)\n",
    "plt.show()"
   ]
  },
  {
   "cell_type": "code",
   "execution_count": 25,
   "metadata": {
    "colab": {},
    "colab_type": "code",
    "id": "HkBJvJ_3-Qpi"
   },
   "outputs": [],
   "source": [
    "average_right_comments_score = comments_right[\"score\"].mean()\n",
    "average_left_comments_score = comments_left[\"score\"].mean()\n",
    "average_center_comments_score = comments_center[\"score\"].mean()\n",
    "average_social_comments_score = comments_social[\"score\"].mean()"
   ]
  },
  {
   "cell_type": "code",
   "execution_count": 58,
   "metadata": {
    "colab": {
     "base_uri": "https://localhost:8080/",
     "height": 168
    },
    "colab_type": "code",
    "executionInfo": {
     "elapsed": 83783,
     "status": "ok",
     "timestamp": 1575260947847,
     "user": {
      "displayName": "Mansi Ganatra",
      "photoUrl": "",
      "userId": "13427068811170262247"
     },
     "user_tz": 480
    },
    "id": "NTvdtogvABwR",
    "outputId": "57b2d047-c2e8-46b6-ba82-0427470765dd"
   },
   "outputs": [
    {
     "name": "stdout",
     "output_type": "stream",
     "text": [
      "Average score of comments for submissions\n",
      "\n",
      "----------------------------------------------------\n",
      "\n",
      "\n",
      "Average score of comments on posts from right leaning outlets:  8.05892405200199\n",
      "Average score of comments on posts from left leaning outlets:  8.955451783503994\n",
      "Average score of comments on posts from center leaning outlets:  10.505017433987389\n",
      "Average score of comments on posts from social media:  8.461472945891783\n"
     ]
    },
    {
     "data": {
      "image/png": "[encoded data removed]",
      "text/plain": [
       "<Figure size 864x720 with 1 Axes>"
      ]
     },
     "metadata": {
      "needs_background": "light"
     },
     "output_type": "display_data"
    }
   ],
   "source": [
    "print(\"Average score of comments for submissions\\n\")\n",
    "print(\"----------------------------------------------------\\n\\n\")\n",
    "\n",
    "print(\"Average score of comments on posts from right leaning outlets: \", average_right_comments_score)\n",
    "print(\"Average score of comments on posts from left leaning outlets: \", average_left_comments_score)\n",
    "print(\"Average score of comments on posts from center leaning outlets: \", average_center_comments_score)\n",
    "print(\"Average score of comments on posts from social media: \", average_social_comments_score)\n",
    "\n",
    "plt.rcParams[\"figure.figsize\"] = (12,10)\n",
    "labels = ['Left', 'Center', 'Right']\n",
    "num_subs = [average_left_comments_score, average_center_comments_score, average_right_comments_score]\n",
    "\n",
    "x = np.arange(len(labels))  # the label locations\n",
    "width = 0.75  # the width of the bars\n",
    "\n",
    "fig, ax = plt.subplots()\n",
    "b1 = ax.bar(x - width/4, num_subs, width, color=['b', 'grey', 'r'])\n",
    "\n",
    "# Add some text for labels, title and custom x-axis tick labels, etc.\n",
    "ax.set_ylabel('Average score of comments on submissions', fontsize=20)\n",
    "ax.set_xlabel('Political Leaning',fontsize=40)\n",
    "ax.set_title('r/worldnews',fontsize=50)\n",
    "ax.set_xticks(x)\n",
    "ax.set_xticklabels(labels, fontsize=30)  \n",
    "ax.legend(handles=b1, loc=1, labels=labels)\n",
    "plt.savefig('worldnews/wn4.pdf', bbox_inches='tight', pad_inches=0)\n",
    "plt.show()"
   ]
  },
  {
   "cell_type": "code",
   "execution_count": 27,
   "metadata": {
    "colab": {},
    "colab_type": "code",
    "id": "j2prtXaFh7QC"
   },
   "outputs": [],
   "source": [
    "average_right_controversiality_score = comments_right[\"controversiality\"].mean()\n",
    "average_left_controversiality_score = comments_left[\"controversiality\"].mean()\n",
    "average_center_controversiality_score = comments_center[\"controversiality\"].mean()\n",
    "average_social_controversiality_score = comments_social[\"controversiality\"].mean()"
   ]
  },
  {
   "cell_type": "code",
   "execution_count": 28,
   "metadata": {
    "colab": {
     "base_uri": "https://localhost:8080/",
     "height": 168
    },
    "colab_type": "code",
    "executionInfo": {
     "elapsed": 83773,
     "status": "ok",
     "timestamp": 1575260947848,
     "user": {
      "displayName": "Mansi Ganatra",
      "photoUrl": "",
      "userId": "13427068811170262247"
     },
     "user_tz": 480
    },
    "id": "_fXrsh53h7QJ",
    "outputId": "603c4741-4bb8-4b27-b13d-150b89156df9"
   },
   "outputs": [
    {
     "name": "stdout",
     "output_type": "stream",
     "text": [
      "Average controversiality score of comments for submissions\n",
      "\n",
      "----------------------------------------------------\n",
      "\n",
      "\n",
      "Average controversiality score of comments on posts from right leaning outlets:  0.08635272231716022\n",
      "Average controversiality score of comments on posts from left leaning outlets:  0.07479089306477626\n",
      "Average controversiality score of comments on posts from center leaning outlets:  0.0797207558315624\n",
      "Average controversiality score of comments on posts from social media:  0.03722444889779559\n"
     ]
    }
   ],
   "source": [
    "print(\"Average controversiality score of comments for submissions\\n\")\n",
    "print(\"----------------------------------------------------\\n\\n\")\n",
    "\n",
    "print(\"Average controversiality score of comments on posts from right leaning outlets: \", average_right_controversiality_score)\n",
    "print(\"Average controversiality score of comments on posts from left leaning outlets: \", average_left_controversiality_score)\n",
    "print(\"Average controversiality score of comments on posts from center leaning outlets: \", average_center_controversiality_score)\n",
    "print(\"Average controversiality score of comments on posts from social media: \", average_social_controversiality_score)"
   ]
  },
  {
   "cell_type": "code",
   "execution_count": 29,
   "metadata": {
    "colab": {},
    "colab_type": "code",
    "id": "e0tNM-cCj0WA"
   },
   "outputs": [],
   "source": [
    "## Occurence of left leaning entities in title\n",
    "right_keywords = [\"donald\", \"trump\", \"republican\", \"gop\"]\n",
    "left_keywords = [\"hillary\", \"clinton\", \"democrat\", \"dnc\"]\n",
    "\n",
    "total_score_right = 0\n",
    "total_score_left = 0\n",
    "\n",
    "count_right_in_right = posts_right.loc[posts_right[\"title\"].apply(lambda x: any(s in x for s in right_keywords))].count()[\"id\"]\n",
    "total_score_right += posts_right.loc[posts_right[\"title\"].apply(lambda x: any(s in x for s in right_keywords))][\"score\"].sum()\n",
    "count_left_in_right =  posts_right.loc[posts_right[\"title\"].apply(lambda x: any(s in x for s in left_keywords))].count()[\"id\"]\n",
    "total_score_left += posts_right.loc[posts_right[\"title\"].apply(lambda x: any(s in x for s in left_keywords))][\"score\"].sum()\n",
    "\n",
    "count_right_in_left = posts_left.loc[posts_left[\"title\"].apply(lambda x: any(s in x for s in right_keywords))].count()[\"id\"]\n",
    "total_score_right += posts_left.loc[posts_left[\"title\"].apply(lambda x: any(s in x for s in right_keywords))][\"score\"].sum()\n",
    "count_left_in_left =  posts_left.loc[posts_left[\"title\"].apply(lambda x: any(s in x for s in left_keywords))].count()[\"id\"]\n",
    "total_score_left += posts_left.loc[posts_left[\"title\"].apply(lambda x: any(s in x for s in left_keywords))][\"score\"].sum()\n",
    "\n",
    "count_right_in_center = posts_center.loc[posts_center[\"title\"].apply(lambda x: any(s in x for s in right_keywords))].count()[\"id\"]\n",
    "total_score_right += posts_center.loc[posts_center[\"title\"].apply(lambda x: any(s in x for s in right_keywords))][\"score\"].sum()\n",
    "count_left_in_center = posts_center.loc[posts_center[\"title\"].apply(lambda x: any(s in x for s in left_keywords))].count()[\"id\"]\n",
    "total_score_left += posts_center.loc[posts_center[\"title\"].apply(lambda x: any(s in x for s in left_keywords))][\"score\"].sum()\n",
    "\n",
    "count_right_in_social = posts_social.loc[posts_social[\"title\"].apply(lambda x: any(s in x for s in right_keywords))].count()[\"id\"]\n",
    "total_score_right += posts_social.loc[posts_social[\"title\"].apply(lambda x: any(s in x for s in right_keywords))][\"score\"].sum()\n",
    "count_left_in_social = posts_social.loc[posts_social[\"title\"].apply(lambda x: any(s in x for s in left_keywords))].count()[\"id\"]\n",
    "total_score_left += posts_left.loc[posts_left[\"title\"].apply(lambda x: any(s in x for s in left_keywords))][\"score\"].sum()\n",
    "\n",
    "total_length = len(all_included_posts)\n",
    "average_score_right = total_score_right / total_length\n",
    "average_score_left = total_score_left / total_length"
   ]
  },
  {
   "cell_type": "code",
   "execution_count": 30,
   "metadata": {
    "colab": {
     "base_uri": "https://localhost:8080/",
     "height": 370
    },
    "colab_type": "code",
    "executionInfo": {
     "elapsed": 84123,
     "status": "ok",
     "timestamp": 1575260948205,
     "user": {
      "displayName": "Mansi Ganatra",
      "photoUrl": "",
      "userId": "13427068811170262247"
     },
     "user_tz": 480
    },
    "id": "lpjNMf8-NS5e",
    "outputId": "e64b3b00-877f-432d-b198-0ba8c68b3c41"
   },
   "outputs": [
    {
     "name": "stdout",
     "output_type": "stream",
     "text": [
      "Right leaning words:  ['donald', 'trump', 'republican', 'gop']\n",
      "Number of mentions of right leaning words in right leaning posts:  1\n",
      "Number of mentions of right leaning words in left leaning posts:  3\n",
      "Number of mentions of right leaning words in center leaning posts:  4\n",
      "Number of mentions of right leaning words in social media posts:  34\n",
      "\n",
      "\n",
      "Average score of posts with right leaning words:  0.0015961923556897\n",
      "\n",
      "\n",
      "---------------------------------------------------------------------------------------------------\n",
      "\n",
      "\n",
      "Left leaning words:  ['hillary', 'clinton', 'democrat', 'dnc']\n",
      "Number of mentions of left leaning words in right leaning posts:  0\n",
      "Number of mentions of left leaning words in left leaning posts:  2\n",
      "Number of mentions of left leaning words in center leaning posts:  7\n",
      "Number of mentions of left leaning words in social media posts:  6\n",
      "\n",
      "\n",
      "Average score of posts with left leaning words:  1.2574513161331515\n"
     ]
    }
   ],
   "source": [
    "print(\"Right leaning words: \", right_keywords)\n",
    "print(\"Number of mentions of right leaning words in right leaning posts: \", count_right_in_right)\n",
    "print(\"Number of mentions of right leaning words in left leaning posts: \", count_right_in_left)\n",
    "print(\"Number of mentions of right leaning words in center leaning posts: \", count_right_in_center)\n",
    "print(\"Number of mentions of right leaning words in social media posts: \", count_right_in_social)\n",
    "print(\"\\n\")\n",
    "print(\"Average score of posts with right leaning words: \", average_score_right)\n",
    "\n",
    "\n",
    "\n",
    "\n",
    "print(\"\\n\\n---------------------------------------------------------------------------------------------------\\n\\n\")\n",
    "\n",
    "print(\"Left leaning words: \", left_keywords)\n",
    "print(\"Number of mentions of left leaning words in right leaning posts: \", count_left_in_right)\n",
    "print(\"Number of mentions of left leaning words in left leaning posts: \", count_left_in_left)\n",
    "print(\"Number of mentions of left leaning words in center leaning posts: \", count_left_in_center)\n",
    "print(\"Number of mentions of left leaning words in social media posts: \", count_left_in_social)\n",
    "print(\"\\n\")\n",
    "print(\"Average score of posts with left leaning words: \", average_score_left)"
   ]
  },
  {
   "cell_type": "code",
   "execution_count": 31,
   "metadata": {
    "colab": {},
    "colab_type": "code",
    "id": "RSS63BTIgrfl"
   },
   "outputs": [],
   "source": [
    "from datetime import datetime\n",
    "import matplotlib.pyplot as plt\n",
    "import numpy as np\n",
    "from sklearn import datasets, linear_model\n",
    "from sklearn.metrics import mean_squared_error, r2_score, accuracy_score\n",
    "from sklearn.model_selection import train_test_split\n",
    "from sklearn.model_selection import KFold\n",
    "from math import sqrt"
   ]
  },
  {
   "cell_type": "code",
   "execution_count": 32,
   "metadata": {
    "colab": {
     "base_uri": "https://localhost:8080/",
     "height": 185
    },
    "colab_type": "code",
    "executionInfo": {
     "elapsed": 85110,
     "status": "ok",
     "timestamp": 1575260949204,
     "user": {
      "displayName": "Mansi Ganatra",
      "photoUrl": "",
      "userId": "13427068811170262247"
     },
     "user_tz": 480
    },
    "id": "p6aoiA2Tg6qB",
    "outputId": "18b3c2ba-b05c-4ec1-9743-7569b9094f87"
   },
   "outputs": [
    {
     "data": {
      "text/plain": [
       "Index(['archived', 'author', 'author_flair_css_class', 'author_flair_text',\n",
       "       'contest_mode', 'created_utc', 'distinguished', 'domain', 'downs',\n",
       "       'edited', 'gilded', 'hide_score', 'id', 'is_self',\n",
       "       'link_flair_css_class', 'link_flair_text', 'locked', 'media',\n",
       "       'media_embed', 'name', 'num_comments', 'over_18', 'permalink',\n",
       "       'post_hint', 'preview', 'quarantine', 'retrieved_on', 'saved', 'score',\n",
       "       'secure_media', 'secure_media_embed', 'selftext', 'spoiler', 'stickied',\n",
       "       'subreddit', 'subreddit_id', 'thumbnail', 'title', 'ups', 'url',\n",
       "       'leaning', 'base_domain', 'full_date', 'date'],\n",
       "      dtype='object')"
      ]
     },
     "execution_count": 32,
     "metadata": {},
     "output_type": "execute_result"
    }
   ],
   "source": [
    "submissions.columns"
   ]
  },
  {
   "cell_type": "code",
   "execution_count": 33,
   "metadata": {},
   "outputs": [
    {
     "data": {
      "text/plain": [
       "4617"
      ]
     },
     "execution_count": 33,
     "metadata": {},
     "output_type": "execute_result"
    }
   ],
   "source": [
    "domain_post_frequency[domain_post_frequency[\"base_domain\"]==\"foxnews\"][\"count\"]\n",
    "\n",
    "domain_post_frequency_dict = domain_post_frequency.set_index('base_domain').T.to_dict()\n",
    "domain_post_frequency_dict.get(\"youtube\").get(\"count\")"
   ]
  },
  {
   "cell_type": "code",
   "execution_count": 34,
   "metadata": {},
   "outputs": [],
   "source": [
    "def get_count(domain):\n",
    "    if domain in domain_post_frequency_dict.keys():\n",
    "        return domain_post_frequency_dict.get(domain).get(\"count\")\n",
    "    else:\n",
    "        return 0\n",
    "    "
   ]
  },
  {
   "cell_type": "code",
   "execution_count": 35,
   "metadata": {
    "colab": {},
    "colab_type": "code",
    "id": "GILCufz0h1F3"
   },
   "outputs": [],
   "source": [
    "submissions[\"full_date\"] =  submissions[\"created_utc\"].apply(lambda x: datetime.fromtimestamp(x))\n",
    "submissions[\"date\"] = submissions[\"full_date\"].dt.date\n",
    "# submissions[\"time\"] = submissions[\"full_date\"].str.split(\" \")[1]\n",
    "# submissions[\"year\"] =  pd.DatetimeIndex(submissions[\"date\"]).year\n",
    "# submissions[\"month\"] =  pd.DatetimeIndex(submissions[\"date\"]).month\n",
    "# submissions[\"day\"] =  pd.DatetimeIndex(submissions[\"date\"]).day\n",
    "# submissions[\"week\"] =  pd.DatetimeIndex(submissions[\"date\"]).week\n",
    "\n",
    "submissions[\"hour\"] =  pd.DatetimeIndex(submissions[\"full_date\"]).hour\n",
    "submissions[\"title\"] =  submissions[\"title\"].apply(lambda x: x.lower())\n",
    "\n",
    "submissions[\"history\"] = submissions[\"base_domain\"].apply(lambda x: get_count(x))\n",
    "# submissions[\"min\"] =  pd.DatetimeIndex(submissions[\"time\"]).minute\n",
    "\n",
    "# submissions[[\"hour\"]]"
   ]
  },
  {
   "cell_type": "code",
   "execution_count": 36,
   "metadata": {},
   "outputs": [
    {
     "data": {
      "text/plain": [
       "Index(['archived', 'author', 'author_flair_css_class', 'author_flair_text',\n",
       "       'contest_mode', 'created_utc', 'distinguished', 'domain', 'downs',\n",
       "       'edited', 'gilded', 'hide_score', 'id', 'is_self',\n",
       "       'link_flair_css_class', 'link_flair_text', 'locked', 'media',\n",
       "       'media_embed', 'name', 'num_comments', 'over_18', 'permalink',\n",
       "       'post_hint', 'preview', 'quarantine', 'retrieved_on', 'saved', 'score',\n",
       "       'secure_media', 'secure_media_embed', 'selftext', 'spoiler', 'stickied',\n",
       "       'subreddit', 'subreddit_id', 'thumbnail', 'title', 'ups', 'url',\n",
       "       'leaning', 'base_domain', 'full_date', 'date', 'hour', 'history'],\n",
       "      dtype='object')"
      ]
     },
     "execution_count": 36,
     "metadata": {},
     "output_type": "execute_result"
    }
   ],
   "source": [
    "submissions.columns"
   ]
  },
  {
   "cell_type": "code",
   "execution_count": 37,
   "metadata": {},
   "outputs": [
    {
     "data": {
      "text/plain": [
       "0       0\n",
       "1       0\n",
       "2       0\n",
       "3    7702\n",
       "4    4617\n",
       "Name: history, dtype: int64"
      ]
     },
     "execution_count": 37,
     "metadata": {},
     "output_type": "execute_result"
    }
   ],
   "source": [
    "submissions[\"history\"].head()"
   ]
  },
  {
   "cell_type": "code",
   "execution_count": 38,
   "metadata": {},
   "outputs": [],
   "source": [
    "embeddings = {}\n",
    "\n",
    "with open('glove.6B.50d.txt',encoding=\"utf8\") as f:\n",
    "    lines = f.read().strip().split('\\n')\n",
    "    for line in lines:\n",
    "        word = line.split()[0]\n",
    "        vector = np.array(line.split()[1:], dtype=np.float)\n",
    "        embeddings[word] = vector"
   ]
  },
  {
   "cell_type": "code",
   "execution_count": 39,
   "metadata": {},
   "outputs": [],
   "source": [
    "def get_embeddings(title):\n",
    "    pattern = re.compile('[\\W_]+')\n",
    "    s = \"this is a sample sentence?\"\n",
    "    tokens = pattern.sub(' ', title).lower().split()\n",
    "    title_embed = np.array([embeddings[word] for word in tokens if word in embeddings])\n",
    "    avg_title_embed = np.mean(title_embed, axis=0)\n",
    "#     print(\"Returning: \", avg_title_embed)\n",
    "    return avg_title_embed"
   ]
  },
  {
   "cell_type": "code",
   "execution_count": 40,
   "metadata": {},
   "outputs": [],
   "source": [
    "def get_time_of_day(hour):\n",
    "    if hour >=0 and hour<=6:\n",
    "        return \"night\"\n",
    "    elif hour>6  and hour<=12:\n",
    "        return \"morning\"\n",
    "    elif hour>12 and hour<=18:\n",
    "        return \"noon\"\n",
    "    elif hour>18 and hour<=24:\n",
    "        return \"evening\""
   ]
  },
  {
   "cell_type": "code",
   "execution_count": 41,
   "metadata": {},
   "outputs": [],
   "source": [
    "submissions[\"tod\"] = submissions[\"hour\"].apply(lambda x: get_time_of_day(x))"
   ]
  },
  {
   "cell_type": "code",
   "execution_count": 42,
   "metadata": {},
   "outputs": [
    {
     "name": "stdout",
     "output_type": "stream",
     "text": [
      "              num_comments      hour     score   history  is_center   is_left  \\\n",
      "num_comments      1.000000 -0.007656  0.773347 -0.006316   0.025739  0.015059   \n",
      "hour             -0.007656  1.000000 -0.008771  0.029591  -0.006825  0.012098   \n",
      "score             0.773347 -0.008771  1.000000 -0.006324   0.020952  0.010964   \n",
      "history          -0.006316  0.029591 -0.006324  1.000000   0.350157  0.047094   \n",
      "is_center         0.025739 -0.006825  0.020952  0.350157   1.000000 -0.099007   \n",
      "is_left           0.015059  0.012098  0.010964  0.047094  -0.099007  1.000000   \n",
      "is_other         -0.005533 -0.032316 -0.002298 -0.782698  -0.471373 -0.411508   \n",
      "is_right          0.004718  0.002942  0.000432 -0.042209  -0.042004 -0.036670   \n",
      "is_social        -0.028207  0.039386 -0.023749  0.737317  -0.136549 -0.119207   \n",
      "is_evening       -0.009466  0.723474 -0.010700  0.013966  -0.008715  0.001696   \n",
      "is_morning       -0.005329 -0.101173 -0.005873  0.000116   0.013447  0.012252   \n",
      "is_night          0.009239 -0.774491  0.010027 -0.027771  -0.000305 -0.016756   \n",
      "is_noon           0.004090  0.349471  0.004947  0.019669  -0.006686  0.004371   \n",
      "\n",
      "              is_other  is_right  is_social  is_evening  is_morning  is_night  \\\n",
      "num_comments -0.005533  0.004718  -0.028207   -0.009466   -0.005329  0.009239   \n",
      "hour         -0.032316  0.002942   0.039386    0.723474   -0.101173 -0.774491   \n",
      "score        -0.002298  0.000432  -0.023749   -0.010700   -0.005873  0.010027   \n",
      "history      -0.782698 -0.042209   0.737317    0.013966    0.000116 -0.027771   \n",
      "is_center    -0.471373 -0.042004  -0.136549   -0.008715    0.013447 -0.000305   \n",
      "is_left      -0.411508 -0.036670  -0.119207    0.001696    0.012252 -0.016756   \n",
      "is_other      1.000000 -0.174585  -0.567547   -0.008343   -0.021713  0.041814   \n",
      "is_right     -0.174585  1.000000  -0.050574   -0.007798    0.017808 -0.013697   \n",
      "is_social    -0.567547 -0.050574   1.000000    0.020334    0.002011 -0.038681   \n",
      "is_evening   -0.008343 -0.007798   0.020334    1.000000   -0.292723 -0.328912   \n",
      "is_morning   -0.021713  0.017808   0.002011   -0.292723    1.000000 -0.458710   \n",
      "is_night      0.041814 -0.013697  -0.038681   -0.328912   -0.458710  1.000000   \n",
      "is_noon      -0.017110  0.003427   0.024443   -0.226569   -0.315979 -0.355043   \n",
      "\n",
      "               is_noon  \n",
      "num_comments  0.004090  \n",
      "hour          0.349471  \n",
      "score         0.004947  \n",
      "history       0.019669  \n",
      "is_center    -0.006686  \n",
      "is_left       0.004371  \n",
      "is_other     -0.017110  \n",
      "is_right      0.003427  \n",
      "is_social     0.024443  \n",
      "is_evening   -0.226569  \n",
      "is_morning   -0.315979  \n",
      "is_night     -0.355043  \n",
      "is_noon       1.000000  \n"
     ]
    }
   ],
   "source": [
    "plt.rcParams[\"figure.figsize\"] = (20,10)\n",
    "\n",
    "xx = submissions[[\"num_comments\", \"title\", \"hour\", \"leaning\", \"score\", \"history\", \"tod\"]]\n",
    "\n",
    "leaning_dummies = pd.get_dummies(xx[\"leaning\"], prefix=\"is\")\n",
    "xx= pd.concat([xx, leaning_dummies], axis=1)\n",
    "xx.drop(\"leaning\", axis=1, inplace=True)\n",
    "\n",
    "\n",
    "tod_dummies = pd.get_dummies(xx[\"tod\"], prefix=\"is\")\n",
    "xx= pd.concat([xx, tod_dummies], axis=1)\n",
    "xx.drop(\"tod\", axis=1, inplace=True)\n",
    "\n",
    "# print(len(X))\n",
    "\n",
    "# print(xx.corr(method=\"pearson\"))\n",
    "# plt.matshow(xx.corr(method=\"pearson\"))\n",
    "# plt.show()\n",
    "print(xx.corr())\n",
    "\n",
    "corrs = xx.corr()\n",
    "\n",
    "corrs.to_csv(\"corrs.csv\",index=False)\n"
   ]
  },
  {
   "cell_type": "code",
   "execution_count": 43,
   "metadata": {},
   "outputs": [
    {
     "data": {
      "image/png": "[encoded data removed]",
      "text/plain": [
       "<Figure size 1440x720 with 2 Axes>"
      ]
     },
     "metadata": {
      "needs_background": "light"
     },
     "output_type": "display_data"
    }
   ],
   "source": [
    "import seaborn as sns\n",
    "corr = xx.corr(method='pearson')\n",
    "ax = sns.heatmap(\n",
    "    corr, \n",
    "    vmin=-1, vmax=1, center=0,\n",
    "    cmap=sns.diverging_palette(20, 220, n=200),\n",
    "    square=True,\n",
    "    annot=True\n",
    ")\n",
    "ax.set_xticklabels(\n",
    "    ax.get_xticklabels(),\n",
    "    rotation=45,\n",
    "    horizontalalignment='right'\n",
    ");"
   ]
  },
  {
   "cell_type": "code",
   "execution_count": 44,
   "metadata": {},
   "outputs": [
    {
     "name": "stdout",
     "output_type": "stream",
     "text": [
      "[[1.         0.49425816 0.96438209 0.49526325 0.5193     0.51129348\n",
      "  0.49584996 0.50353834 0.47885053 0.4929005  0.49600335 0.5069293\n",
      "  0.50306752]\n",
      " [0.49425816 1.         0.49342213 0.52218703 0.49488149 0.50907278\n",
      "  0.47577109 0.50220621 0.52952419 0.94793613 0.42437923 0.03527365\n",
      "  0.75143281]\n",
      " [0.96438209 0.49342213 1.         0.49525724 0.51571135 0.50822255\n",
      "  0.4982763  0.50032418 0.48219166 0.49197558 0.49559522 0.50752013\n",
      "  0.50371054]\n",
      " [0.49526325 0.52218703 0.49525724 1.         0.75188455 0.53529457\n",
      "  0.03284975 0.46836192 0.95277953 0.51047414 0.50008679 0.47917693\n",
      "  0.51474961]\n",
      " [0.5193     0.49488149 0.51571135 0.75188455 1.         0.42598734\n",
      "  0.17265389 0.46851533 0.39822454 0.49346395 0.51008489 0.49977146\n",
      "  0.49498537]\n",
      " [0.51129348 0.50907278 0.50822255 0.53529457 0.42598734 1.\n",
      "  0.20878978 0.47251007 0.41101795 0.50127209 0.50918858 0.48743443\n",
      "  0.50327813]\n",
      " [0.49584996 0.47577109 0.4982763  0.03284975 0.17265389 0.20878978\n",
      "  1.         0.37039184 0.12004261 0.49374311 0.48371776 0.53134224\n",
      "  0.48716882]\n",
      " [0.50353834 0.50220621 0.50032418 0.46836192 0.46851533 0.47251007\n",
      "  0.37039184 1.         0.46210156 0.49415178 0.51335494 0.48972784\n",
      "  0.50257027]\n",
      " [0.47885053 0.52952419 0.48219166 0.95277953 0.39822454 0.41101795\n",
      "  0.12004261 0.46210156 1.         0.5152485  0.50150849 0.4710037\n",
      "  0.51832882]\n",
      " [0.4929005  0.94793613 0.49197558 0.51047414 0.49346395 0.50127209\n",
      "  0.49374311 0.49415178 0.5152485  1.         0.28672817 0.26221149\n",
      "  0.33298113]\n",
      " [0.49600335 0.42437923 0.49559522 0.50008679 0.51008489 0.50918858\n",
      "  0.48371776 0.51335494 0.50150849 0.28672817 1.         0.18009748\n",
      "  0.27090303]\n",
      " [0.5069293  0.03527365 0.50752013 0.47917693 0.49977146 0.48743443\n",
      "  0.53134224 0.48972784 0.4710037  0.26221149 0.18009748 1.\n",
      "  0.24490673]\n",
      " [0.50306752 0.75143281 0.50371054 0.51474961 0.49498537 0.50327813\n",
      "  0.48716882 0.50257027 0.51832882 0.33298113 0.27090303 0.24490673\n",
      "  1.        ]]\n"
     ]
    },
    {
     "data": {
      "image/png": "[encoded data removed]",
      "text/plain": [
       "<Figure size 1440x720 with 2 Axes>"
      ]
     },
     "metadata": {
      "needs_background": "light"
     },
     "output_type": "display_data"
    }
   ],
   "source": [
    "n=6\n",
    "r=xx.corr()\n",
    "t=r*np.sqrt((n-2)/(1-r*r))\n",
    "\n",
    "import scipy.stats as ss\n",
    "pvalues = ss.t.cdf(t, n-2)\n",
    "print(pvalues)\n",
    "\n",
    "corr = xx.corr(method='pearson')\n",
    "ax = sns.heatmap(\n",
    "    pvalues, \n",
    "    vmin=-1, vmax=1, center=0,\n",
    "    cmap=sns.diverging_palette(20, 220, n=200),\n",
    "    square=True\n",
    ")\n",
    "ax.set_xticklabels(\n",
    "    ax.get_xticklabels(),\n",
    "    rotation=45,\n",
    "    horizontalalignment='right'\n",
    ");"
   ]
  },
  {
   "cell_type": "code",
   "execution_count": 45,
   "metadata": {},
   "outputs": [],
   "source": [
    "random_seed = 2"
   ]
  },
  {
   "cell_type": "code",
   "execution_count": 46,
   "metadata": {},
   "outputs": [
    {
     "name": "stderr",
     "output_type": "stream",
     "text": [
      "C:\\Users\\mansi\\Anaconda3\\lib\\site-packages\\numpy\\core\\fromnumeric.py:2920: RuntimeWarning: Mean of empty slice.\n",
      "  out=out, **kwargs)\n"
     ]
    },
    {
     "name": "stdout",
     "output_type": "stream",
     "text": [
      "Root Mean squared error: 1545.77\n",
      "Variance(R2) score: 0.00\n"
     ]
    }
   ],
   "source": [
    "X = submissions[[\"title\", \"hour\", \"leaning\", \"score\"]]\n",
    "# print(len(X))\n",
    "hours_dummies = pd.get_dummies(X[\"hour\"], prefix=\"hour\")\n",
    "X = pd.concat([X, hours_dummies], axis=1)\n",
    "X.drop(\"hour\", axis=1, inplace=True)\n",
    "# print(len(X))\n",
    "\n",
    "leaning_dummies = pd.get_dummies(X[\"leaning\"], prefix=\"is\")\n",
    "X = pd.concat([X, leaning_dummies], axis=1)\n",
    "X.drop(\"leaning\", axis=1, inplace=True)\n",
    "# print(len(X))\n",
    "\n",
    "# print(X.corr())\n",
    "\n",
    "X['vector'] = X['title'].apply(get_embeddings)\n",
    "# X = pd.concat([X, ])\n",
    "X.drop(\"title\", axis=1, inplace=True)\n",
    "# print(len(X))\n",
    "s = X[\"vector\"].apply(pd.Series)\n",
    "X = pd.concat([X,s], axis=1)\n",
    "X.drop(\"vector\", axis=1, inplace=True)\n",
    "# print(len(X))  \n",
    "\n",
    "X.dropna(axis=0, inplace=True)\n",
    "y = X[\"score\"]\n",
    "X.drop(\"score\", axis=1, inplace=True)\n",
    "# print(len(X))\n",
    "\n",
    "# print(\"Columns: \", X.columns)\n",
    "# print(X.head())\n",
    "\n",
    "X_train, X_test, y_train, y_test = train_test_split(X, y, test_size=0.25, random_state = random_seed)\n",
    "\n",
    "lm = linear_model.LinearRegression()\n",
    "model = lm.fit(X_train, y_train)\n",
    "y_pred = lm.predict(X_test)\n",
    "\n",
    "score_rmse = sqrt(mean_squared_error(y_test, y_pred))\n",
    "score_r2 = r2_score(y_test, y_pred)\n",
    "print(\"Root Mean squared error: %.2f\"\n",
    "      % score_rmse)\n",
    "print('Variance(R2) score: %.2f' % score_r2)   "
   ]
  },
  {
   "cell_type": "code",
   "execution_count": 47,
   "metadata": {},
   "outputs": [
    {
     "name": "stderr",
     "output_type": "stream",
     "text": [
      "C:\\Users\\mansi\\Anaconda3\\lib\\site-packages\\numpy\\core\\fromnumeric.py:2920: RuntimeWarning: Mean of empty slice.\n",
      "  out=out, **kwargs)\n"
     ]
    },
    {
     "name": "stdout",
     "output_type": "stream",
     "text": [
      "Root Mean squared error: 1545.87\n",
      "Variance(R2) score: 0.00\n"
     ]
    }
   ],
   "source": [
    "X = submissions[[\"title\", \"hour\",  \"score\"]]\n",
    "hours_dummies = pd.get_dummies(X[\"hour\"], prefix=\"hour\")\n",
    "X = pd.concat([X, hours_dummies], axis=1)\n",
    "X.drop(\"hour\", axis=1, inplace=True)\n",
    "\n",
    "# leaning_dummies = pd.get_dummies(X[\"leaning\"], prefix=\"is\")\n",
    "# X = pd.concat([X, leaning_dummies], axis=1)\n",
    "# X = X.drop(\"leaning\", axis=1)\n",
    "\n",
    "X['vector'] = X['title'].apply(get_embeddings)\n",
    "# X = pd.concat([X, ])\n",
    "X.drop(\"title\", axis=1, inplace=True)\n",
    "s = X[\"vector\"].apply(pd.Series)\n",
    "X = pd.concat([X,s], axis=1)\n",
    "X.drop(\"vector\", axis=1, inplace=True)\n",
    "\n",
    "X.dropna(axis=0, inplace=True)\n",
    "y = X[\"score\"]\n",
    "X.drop(\"score\", axis=1,inplace=True)\n",
    "\n",
    "X_train, X_test, y_train, y_test = train_test_split(X, y, test_size=0.25, random_state = random_seed)\n",
    "\n",
    "lm = linear_model.LinearRegression()\n",
    "model = lm.fit(X_train, y_train)\n",
    "y_pred = lm.predict(X_test)\n",
    "\n",
    "\n",
    "score_no_lean_mse = sqrt(mean_squared_error(y_test, y_pred))\n",
    "score_no_lean_r2 = r2_score(y_test, y_pred)\n",
    "\n",
    "print(\"Root Mean squared error: %.2f\"\n",
    "      % score_no_lean_mse)\n",
    "\n",
    "print('Variance(R2) score: %.2f' % score_no_lean_r2)"
   ]
  },
  {
   "cell_type": "code",
   "execution_count": 48,
   "metadata": {},
   "outputs": [
    {
     "name": "stderr",
     "output_type": "stream",
     "text": [
      "C:\\Users\\mansi\\Anaconda3\\lib\\site-packages\\numpy\\core\\fromnumeric.py:2920: RuntimeWarning: Mean of empty slice.\n",
      "  out=out, **kwargs)\n"
     ]
    },
    {
     "name": "stdout",
     "output_type": "stream",
     "text": [
      "Root Mean squared error: 965.80\n",
      "Variance(R2) score: 0.61\n"
     ]
    }
   ],
   "source": [
    "X = submissions[[\"num_comments\", \"title\", \"hour\",  \"score\"]]\n",
    "hours_dummies = pd.get_dummies(X[\"hour\"], prefix=\"hour\")\n",
    "X = pd.concat([X, hours_dummies], axis=1)\n",
    "X.drop(\"hour\", axis=1, inplace=True)\n",
    "\n",
    "X['vector'] = X['title'].apply(get_embeddings)\n",
    "# X = pd.concat([X, ])\n",
    "X.drop(\"title\", axis=1, inplace=True)\n",
    "s = X[\"vector\"].apply(pd.Series)\n",
    "X = pd.concat([X,s], axis=1)\n",
    "X.drop(\"vector\", axis=1, inplace=True)\n",
    "\n",
    "X.dropna(axis=0, inplace=True)\n",
    "y = X[\"score\"]\n",
    "X.drop(\"score\", axis=1,inplace=True)\n",
    "\n",
    "X_train, X_test, y_train, y_test = train_test_split(X, y, test_size=0.25, random_state = random_seed)\n",
    "\n",
    "lm = linear_model.LinearRegression()\n",
    "model = lm.fit(X_train, y_train)\n",
    "y_pred = lm.predict(X_test)\n",
    "\n",
    "\n",
    "score_no_lean_mse = sqrt(mean_squared_error(y_test, y_pred))\n",
    "score_no_lean_r2 = r2_score(y_test, y_pred)\n",
    "\n",
    "print(\"Root Mean squared error: %.2f\"\n",
    "      % score_no_lean_mse)\n",
    "\n",
    "print('Variance(R2) score: %.2f' % score_no_lean_r2)"
   ]
  },
  {
   "cell_type": "code",
   "execution_count": 49,
   "metadata": {},
   "outputs": [
    {
     "name": "stderr",
     "output_type": "stream",
     "text": [
      "C:\\Users\\mansi\\Anaconda3\\lib\\site-packages\\numpy\\core\\fromnumeric.py:2920: RuntimeWarning: Mean of empty slice.\n",
      "  out=out, **kwargs)\n"
     ]
    },
    {
     "name": "stdout",
     "output_type": "stream",
     "text": [
      "Root Mean squared error: 965.78\n",
      "Variance(R2) score: 0.61\n"
     ]
    }
   ],
   "source": [
    "X = submissions[[\"num_comments\", \"title\", \"hour\", \"score\", \"leaning\"]]\n",
    "hours_dummies = pd.get_dummies(X[\"hour\"], prefix=\"hour\")\n",
    "X = pd.concat([X, hours_dummies], axis=1)\n",
    "X.drop(\"hour\", axis=1, inplace=True)\n",
    "\n",
    "leaning_dummies = pd.get_dummies(X[\"leaning\"], prefix=\"is\")\n",
    "X = pd.concat([X, leaning_dummies], axis=1)\n",
    "X = X.drop(\"leaning\", axis=1)\n",
    "\n",
    "X['vector'] = X['title'].apply(get_embeddings)\n",
    "# X = pd.concat([X, ])\n",
    "X.drop(\"title\", axis=1, inplace=True)\n",
    "s = X[\"vector\"].apply(pd.Series)\n",
    "X = pd.concat([X,s], axis=1)\n",
    "X.drop(\"vector\", axis=1, inplace=True)\n",
    "\n",
    "X.dropna(axis=0, inplace=True)\n",
    "y = X[\"score\"]\n",
    "X.drop(\"score\", axis=1,inplace=True)\n",
    "\n",
    "X_train, X_test, y_train, y_test = train_test_split(X, y, test_size=0.25, random_state = random_seed)\n",
    "\n",
    "lm = linear_model.LinearRegression()\n",
    "model = lm.fit(X_train, y_train)\n",
    "y_pred = lm.predict(X_test)\n",
    "\n",
    "\n",
    "score_no_lean_mse = sqrt(mean_squared_error(y_test, y_pred))\n",
    "score_no_lean_r2 = r2_score(y_test, y_pred)\n",
    "\n",
    "print(\"Root Mean squared error: %.2f\"\n",
    "      % score_no_lean_mse)\n",
    "\n",
    "print('Variance(R2) score: %.2f' % score_no_lean_r2)"
   ]
  },
  {
   "cell_type": "code",
   "execution_count": 50,
   "metadata": {},
   "outputs": [
    {
     "ename": "KeyError",
     "evalue": "\"['vector'] not found in axis\"",
     "output_type": "error",
     "traceback": [
      "\u001b[1;31m---------------------------------------------------------------------------\u001b[0m",
      "\u001b[1;31mKeyError\u001b[0m                                  Traceback (most recent call last)",
      "\u001b[1;32m<ipython-input-50-2c7887912a8d>\u001b[0m in \u001b[0;36m<module>\u001b[1;34m\u001b[0m\n\u001b[0;32m     13\u001b[0m \u001b[1;31m# s = X[\"vector\"].apply(pd.Series)\u001b[0m\u001b[1;33m\u001b[0m\u001b[1;33m\u001b[0m\u001b[1;33m\u001b[0m\u001b[0m\n\u001b[0;32m     14\u001b[0m \u001b[1;31m# X = pd.concat([X,s], axis=1)\u001b[0m\u001b[1;33m\u001b[0m\u001b[1;33m\u001b[0m\u001b[1;33m\u001b[0m\u001b[0m\n\u001b[1;32m---> 15\u001b[1;33m \u001b[0mX\u001b[0m\u001b[1;33m.\u001b[0m\u001b[0mdrop\u001b[0m\u001b[1;33m(\u001b[0m\u001b[1;34m\"vector\"\u001b[0m\u001b[1;33m,\u001b[0m \u001b[0maxis\u001b[0m\u001b[1;33m=\u001b[0m\u001b[1;36m1\u001b[0m\u001b[1;33m,\u001b[0m \u001b[0minplace\u001b[0m\u001b[1;33m=\u001b[0m\u001b[1;32mTrue\u001b[0m\u001b[1;33m)\u001b[0m\u001b[1;33m\u001b[0m\u001b[1;33m\u001b[0m\u001b[0m\n\u001b[0m\u001b[0;32m     16\u001b[0m \u001b[1;33m\u001b[0m\u001b[0m\n\u001b[0;32m     17\u001b[0m \u001b[0mX\u001b[0m\u001b[1;33m.\u001b[0m\u001b[0mdropna\u001b[0m\u001b[1;33m(\u001b[0m\u001b[0maxis\u001b[0m\u001b[1;33m=\u001b[0m\u001b[1;36m0\u001b[0m\u001b[1;33m,\u001b[0m \u001b[0minplace\u001b[0m\u001b[1;33m=\u001b[0m\u001b[1;32mTrue\u001b[0m\u001b[1;33m)\u001b[0m\u001b[1;33m\u001b[0m\u001b[1;33m\u001b[0m\u001b[0m\n",
      "\u001b[1;32m~\\Anaconda3\\lib\\site-packages\\pandas\\core\\frame.py\u001b[0m in \u001b[0;36mdrop\u001b[1;34m(self, labels, axis, index, columns, level, inplace, errors)\u001b[0m\n\u001b[0;32m   3938\u001b[0m                                            \u001b[0mindex\u001b[0m\u001b[1;33m=\u001b[0m\u001b[0mindex\u001b[0m\u001b[1;33m,\u001b[0m \u001b[0mcolumns\u001b[0m\u001b[1;33m=\u001b[0m\u001b[0mcolumns\u001b[0m\u001b[1;33m,\u001b[0m\u001b[1;33m\u001b[0m\u001b[1;33m\u001b[0m\u001b[0m\n\u001b[0;32m   3939\u001b[0m                                            \u001b[0mlevel\u001b[0m\u001b[1;33m=\u001b[0m\u001b[0mlevel\u001b[0m\u001b[1;33m,\u001b[0m \u001b[0minplace\u001b[0m\u001b[1;33m=\u001b[0m\u001b[0minplace\u001b[0m\u001b[1;33m,\u001b[0m\u001b[1;33m\u001b[0m\u001b[1;33m\u001b[0m\u001b[0m\n\u001b[1;32m-> 3940\u001b[1;33m                                            errors=errors)\n\u001b[0m\u001b[0;32m   3941\u001b[0m \u001b[1;33m\u001b[0m\u001b[0m\n\u001b[0;32m   3942\u001b[0m     @rewrite_axis_style_signature('mapper', [('copy', True),\n",
      "\u001b[1;32m~\\Anaconda3\\lib\\site-packages\\pandas\\core\\generic.py\u001b[0m in \u001b[0;36mdrop\u001b[1;34m(self, labels, axis, index, columns, level, inplace, errors)\u001b[0m\n\u001b[0;32m   3778\u001b[0m         \u001b[1;32mfor\u001b[0m \u001b[0maxis\u001b[0m\u001b[1;33m,\u001b[0m \u001b[0mlabels\u001b[0m \u001b[1;32min\u001b[0m \u001b[0maxes\u001b[0m\u001b[1;33m.\u001b[0m\u001b[0mitems\u001b[0m\u001b[1;33m(\u001b[0m\u001b[1;33m)\u001b[0m\u001b[1;33m:\u001b[0m\u001b[1;33m\u001b[0m\u001b[1;33m\u001b[0m\u001b[0m\n\u001b[0;32m   3779\u001b[0m             \u001b[1;32mif\u001b[0m \u001b[0mlabels\u001b[0m \u001b[1;32mis\u001b[0m \u001b[1;32mnot\u001b[0m \u001b[1;32mNone\u001b[0m\u001b[1;33m:\u001b[0m\u001b[1;33m\u001b[0m\u001b[1;33m\u001b[0m\u001b[0m\n\u001b[1;32m-> 3780\u001b[1;33m                 \u001b[0mobj\u001b[0m \u001b[1;33m=\u001b[0m \u001b[0mobj\u001b[0m\u001b[1;33m.\u001b[0m\u001b[0m_drop_axis\u001b[0m\u001b[1;33m(\u001b[0m\u001b[0mlabels\u001b[0m\u001b[1;33m,\u001b[0m \u001b[0maxis\u001b[0m\u001b[1;33m,\u001b[0m \u001b[0mlevel\u001b[0m\u001b[1;33m=\u001b[0m\u001b[0mlevel\u001b[0m\u001b[1;33m,\u001b[0m \u001b[0merrors\u001b[0m\u001b[1;33m=\u001b[0m\u001b[0merrors\u001b[0m\u001b[1;33m)\u001b[0m\u001b[1;33m\u001b[0m\u001b[1;33m\u001b[0m\u001b[0m\n\u001b[0m\u001b[0;32m   3781\u001b[0m \u001b[1;33m\u001b[0m\u001b[0m\n\u001b[0;32m   3782\u001b[0m         \u001b[1;32mif\u001b[0m \u001b[0minplace\u001b[0m\u001b[1;33m:\u001b[0m\u001b[1;33m\u001b[0m\u001b[1;33m\u001b[0m\u001b[0m\n",
      "\u001b[1;32m~\\Anaconda3\\lib\\site-packages\\pandas\\core\\generic.py\u001b[0m in \u001b[0;36m_drop_axis\u001b[1;34m(self, labels, axis, level, errors)\u001b[0m\n\u001b[0;32m   3810\u001b[0m                 \u001b[0mnew_axis\u001b[0m \u001b[1;33m=\u001b[0m \u001b[0maxis\u001b[0m\u001b[1;33m.\u001b[0m\u001b[0mdrop\u001b[0m\u001b[1;33m(\u001b[0m\u001b[0mlabels\u001b[0m\u001b[1;33m,\u001b[0m \u001b[0mlevel\u001b[0m\u001b[1;33m=\u001b[0m\u001b[0mlevel\u001b[0m\u001b[1;33m,\u001b[0m \u001b[0merrors\u001b[0m\u001b[1;33m=\u001b[0m\u001b[0merrors\u001b[0m\u001b[1;33m)\u001b[0m\u001b[1;33m\u001b[0m\u001b[1;33m\u001b[0m\u001b[0m\n\u001b[0;32m   3811\u001b[0m             \u001b[1;32melse\u001b[0m\u001b[1;33m:\u001b[0m\u001b[1;33m\u001b[0m\u001b[1;33m\u001b[0m\u001b[0m\n\u001b[1;32m-> 3812\u001b[1;33m                 \u001b[0mnew_axis\u001b[0m \u001b[1;33m=\u001b[0m \u001b[0maxis\u001b[0m\u001b[1;33m.\u001b[0m\u001b[0mdrop\u001b[0m\u001b[1;33m(\u001b[0m\u001b[0mlabels\u001b[0m\u001b[1;33m,\u001b[0m \u001b[0merrors\u001b[0m\u001b[1;33m=\u001b[0m\u001b[0merrors\u001b[0m\u001b[1;33m)\u001b[0m\u001b[1;33m\u001b[0m\u001b[1;33m\u001b[0m\u001b[0m\n\u001b[0m\u001b[0;32m   3813\u001b[0m             \u001b[0mresult\u001b[0m \u001b[1;33m=\u001b[0m \u001b[0mself\u001b[0m\u001b[1;33m.\u001b[0m\u001b[0mreindex\u001b[0m\u001b[1;33m(\u001b[0m\u001b[1;33m**\u001b[0m\u001b[1;33m{\u001b[0m\u001b[0maxis_name\u001b[0m\u001b[1;33m:\u001b[0m \u001b[0mnew_axis\u001b[0m\u001b[1;33m}\u001b[0m\u001b[1;33m)\u001b[0m\u001b[1;33m\u001b[0m\u001b[1;33m\u001b[0m\u001b[0m\n\u001b[0;32m   3814\u001b[0m \u001b[1;33m\u001b[0m\u001b[0m\n",
      "\u001b[1;32m~\\Anaconda3\\lib\\site-packages\\pandas\\core\\indexes\\base.py\u001b[0m in \u001b[0;36mdrop\u001b[1;34m(self, labels, errors)\u001b[0m\n\u001b[0;32m   4963\u001b[0m             \u001b[1;32mif\u001b[0m \u001b[0merrors\u001b[0m \u001b[1;33m!=\u001b[0m \u001b[1;34m'ignore'\u001b[0m\u001b[1;33m:\u001b[0m\u001b[1;33m\u001b[0m\u001b[1;33m\u001b[0m\u001b[0m\n\u001b[0;32m   4964\u001b[0m                 raise KeyError(\n\u001b[1;32m-> 4965\u001b[1;33m                     '{} not found in axis'.format(labels[mask]))\n\u001b[0m\u001b[0;32m   4966\u001b[0m             \u001b[0mindexer\u001b[0m \u001b[1;33m=\u001b[0m \u001b[0mindexer\u001b[0m\u001b[1;33m[\u001b[0m\u001b[1;33m~\u001b[0m\u001b[0mmask\u001b[0m\u001b[1;33m]\u001b[0m\u001b[1;33m\u001b[0m\u001b[1;33m\u001b[0m\u001b[0m\n\u001b[0;32m   4967\u001b[0m         \u001b[1;32mreturn\u001b[0m \u001b[0mself\u001b[0m\u001b[1;33m.\u001b[0m\u001b[0mdelete\u001b[0m\u001b[1;33m(\u001b[0m\u001b[0mindexer\u001b[0m\u001b[1;33m)\u001b[0m\u001b[1;33m\u001b[0m\u001b[1;33m\u001b[0m\u001b[0m\n",
      "\u001b[1;31mKeyError\u001b[0m: \"['vector'] not found in axis\""
     ]
    }
   ],
   "source": [
    "X = submissions[[\"num_comments\", \"hour\",  \"score\"]]\n",
    "hours_dummies = pd.get_dummies(X[\"hour\"], prefix=\"hour\")\n",
    "X = pd.concat([X, hours_dummies], axis=1)\n",
    "X.drop(\"hour\", axis=1, inplace=True)\n",
    "\n",
    "# leaning_dummies = pd.get_dummies(X[\"leaning\"], prefix=\"is\")\n",
    "# X = pd.concat([X, leaning_dummies], axis=1)\n",
    "# X = X.drop(\"leaning\", axis=1)\n",
    "\n",
    "# X['vector'] = X['title'].apply(get_embeddings)\n",
    "# # X = pd.concat([X, ])\n",
    "# X.drop(\"title\", axis=1, inplace=True)\n",
    "# s = X[\"vector\"].apply(pd.Series)\n",
    "# X = pd.concat([X,s], axis=1)\n",
    "X.drop(\"vector\", axis=1, inplace=True)\n",
    "\n",
    "X.dropna(axis=0, inplace=True)\n",
    "y = X[\"score\"]\n",
    "X.drop(\"score\", axis=1,inplace=True)\n",
    "\n",
    "X_train, X_test, y_train, y_test = train_test_split(X, y, test_size=0.20, random_state = random_seed)\n",
    "\n",
    "lm = linear_model.LinearRegression()\n",
    "model = lm.fit(X_train, y_train)\n",
    "y_pred = lm.predict(X_test)\n",
    "\n",
    "\n",
    "score_no_lean_mse = sqrt(mean_squared_error(y_test, y_pred))\n",
    "score_no_lean_r2 = r2_score(y_test, y_pred)\n",
    "\n",
    "print(\"Root Mean squared error: %.2f\"\n",
    "      % score_no_lean_mse)\n",
    "\n",
    "print('Variance(R2) score: %.2f' % score_no_lean_r2)"
   ]
  },
  {
   "cell_type": "code",
   "execution_count": null,
   "metadata": {},
   "outputs": [],
   "source": [
    "model.coef_"
   ]
  },
  {
   "cell_type": "code",
   "execution_count": null,
   "metadata": {},
   "outputs": [],
   "source": [
    "import matplotlib.pyplot as plt\n",
    "\n"
   ]
  }
 ],
 "metadata": {
  "colab": {
   "collapsed_sections": [],
   "machine_shape": "hm",
   "name": "score-analysis.ipynb",
   "provenance": []
  },
  "kernelspec": {
   "display_name": "Python 3",
   "language": "python",
   "name": "python3"
  },
  "language_info": {
   "codemirror_mode": {
    "name": "ipython",
    "version": 3
   },
   "file_extension": ".py",
   "mimetype": "text/x-python",
   "name": "python",
   "nbconvert_exporter": "python",
   "pygments_lexer": "ipython3",
   "version": "3.6.8"
  }
 },
 "nbformat": 4,
 "nbformat_minor": 1
}
