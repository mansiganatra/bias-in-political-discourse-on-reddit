{
 "cells": [
  {
   "cell_type": "code",
   "execution_count": 1,
   "metadata": {
    "colab": {},
    "colab_type": "code",
    "id": "-A-cAur5Ljk6"
   },
   "outputs": [],
   "source": [
    "import json\n",
    "import sys\n",
    "import os\n",
    "import pprint\n",
    "import time\n",
    "from datetime import datetime\n",
    "import pandas as pd\n",
    "import re\n",
    "import collections\n",
    "import numpy as np\n",
    "import matplotlib.pyplot as plt"
   ]
  },
  {
   "cell_type": "code",
   "execution_count": 2,
   "metadata": {
    "colab": {
     "base_uri": "https://localhost:8080/",
     "height": 374
    },
    "colab_type": "code",
    "executionInfo": {
     "elapsed": 462,
     "status": "error",
     "timestamp": 1575261168517,
     "user": {
      "displayName": "Mansi Ganatra",
      "photoUrl": "",
      "userId": "13427068811170262247"
     },
     "user_tz": 480
    },
    "id": "i6Gm7lpII2pb",
    "outputId": "d876baf9-3503-4502-d0c8-d2c8d93086ab"
   },
   "outputs": [],
   "source": [
    "# rs_basepath = \"\"\n",
    "news_path = \"news/RS_news\"\n",
    "\n",
    "submissions = pd.DataFrame()\n",
    "submissions = pd.read_json(news_path, lines=True)\n",
    "\n",
    "# submissions.head()\n"
   ]
  },
  {
   "cell_type": "code",
   "execution_count": 3,
   "metadata": {
    "colab": {
     "base_uri": "https://localhost:8080/",
     "height": 154
    },
    "colab_type": "code",
    "executionInfo": {
     "elapsed": 74263,
     "status": "ok",
     "timestamp": 1575260938222,
     "user": {
      "displayName": "Mansi Ganatra",
      "photoUrl": "",
      "userId": "13427068811170262247"
     },
     "user_tz": 480
    },
    "id": "L3NvGGqAMYaO",
    "outputId": "ba0e8c6e-5af5-4c53-c43f-b792217a96f9"
   },
   "outputs": [],
   "source": [
    "rc_news_path = \"news/RC_news\"\n",
    "\n",
    "comments = pd.DataFrame()\n",
    "comments = pd.read_json(rc_news_path, lines=True)\n",
    "# comments.head()\n"
   ]
  },
  {
   "cell_type": "code",
   "execution_count": 4,
   "metadata": {
    "colab": {},
    "colab_type": "code",
    "id": "ZuJO6CZ3TLxJ"
   },
   "outputs": [],
   "source": [
    "news_urls_right = {\"The_American_spectator\":\"spectator\", \"Breitbart\":\"breitbart\",\n",
    "                   \"CBN\":\"cbn\", \"The_Daily_Caller\": \"dailycaller\", \"The_Daily_Mail\": \"dailymail\",\n",
    "                   \"The_Daily_Wire\" : \"dailywire\", \"The_Fox_News\": \"foxnews\", \"The_Federalist\": \"thefederalist\",\n",
    "                   \"National_Review\":\"nationalreview\", \"New_York_Post\" : \"nypost\", \"Newsmax\": \"newsmax\",\n",
    "                   \"Reason\": \"reason\", \"Washington_Examiner\":\"washingtonexaminer\",\n",
    "                   \"The_Washington_Times\":\"washingtontimes\"\n",
    "                   }\n",
    "# \"The_Wall_Street_Journal_Opinion_Base\": \"wsj/news/opinion\",\n",
    "# \"The_Wall_Street_Journal_Opinion_Archive\": \"wsj/articles\",\n",
    "\n",
    "news_urls_center = {\"Associated_Press\":\"apnews\", \"BBC\":\"bbc\", \"Bloomberg\":\"bloomberg\",\n",
    "                    \"The_Christian_Science_Monitor\":\"csmonitor\", \"NPR_Online\": \"npr\",\n",
    "                    \"Reuters\" :\"reuters\", \"The_Hill\":\"thehill\", \"USA_Today\": \"usatoday\",\n",
    "                    \"Wall_Street_Journal_News\": \"wsj\"}\n",
    "\n",
    "news_urls_left = {\"ABC_News\": \"abcnews\", \"The_Atlantic\":\"theatlantic\", \"The_Buzzfeed_News\": \"buzzfeednews\",\n",
    "                  \"CBS_News\": \"cbsnews\", \"CNN_Online\":\"cnn\", \"The_Economist\": \"economist\",\n",
    "                  \"The_Gaurdian\": \"theguardian\", \"NBC_News\":\"nbcnews\", \"The_New_York_Times\":\"nytimes\",\n",
    "                  \"The_Los_Angeles_Times\":\"latimes\", \n",
    "                  \"Politico\": \"politico\", \"The_Washington_Post\": \"washingtonpost\",\n",
    "                  \"Alternet\": \"alternet\", \"Democracy_Now\": \"democracynow\", \n",
    "                  \"The_Daily_Beast\":\"thedailybeast\", \"The_Huffington_Post\":\"huffpost\",\n",
    "                  \"The Intercept\":\"theintercept\", \"Jacobin\":\"jacobinmag\", \"Mother Jones\":\"motherjones\",\n",
    "                  \"MSNBC\":\"msnbc\", \"The_New_Yorker\":\"newyorker\", \"The_Nation\":\"thenation\",\n",
    "                  \"Slate\":\"slate\", \"Vox\":\"vox\"}\n",
    "news_urls_social_media = [\"youtube\", \"google\", \"twitter\",\"yahoo\", \"youtu.be\", \"instagram\", \"reddit\", \"facebook\", \"spotify\"]\n",
    "\n",
    "all_urls = list(news_urls_right.values()) + list(news_urls_left.values()) + list(news_urls_center.values()) + news_urls_social_media"
   ]
  },
  {
   "cell_type": "code",
   "execution_count": 5,
   "metadata": {},
   "outputs": [
    {
     "name": "stdout",
     "output_type": "stream",
     "text": [
      "dict_values(['abcnews', 'theatlantic', 'buzzfeednews', 'cbsnews', 'cnn', 'economist', 'theguardian', 'nbcnews', 'nytimes', 'latimes', 'politico', 'washingtonpost', 'alternet', 'democracynow', 'thedailybeast', 'huffpost', 'theintercept', 'jacobinmag', 'motherjones', 'msnbc', 'newyorker', 'thenation', 'slate', 'vox'])\n"
     ]
    },
    {
     "data": {
      "text/plain": [
       "24"
      ]
     },
     "execution_count": 5,
     "metadata": {},
     "output_type": "execute_result"
    }
   ],
   "source": [
    "print(news_urls_left.values())\n",
    "len(news_urls_left.values())"
   ]
  },
  {
   "cell_type": "code",
   "execution_count": 6,
   "metadata": {},
   "outputs": [
    {
     "name": "stdout",
     "output_type": "stream",
     "text": [
      "dict_values(['apnews', 'bbc', 'bloomberg', 'csmonitor', 'npr', 'reuters', 'thehill', 'usatoday', 'wsj'])\n"
     ]
    },
    {
     "data": {
      "text/plain": [
       "9"
      ]
     },
     "execution_count": 6,
     "metadata": {},
     "output_type": "execute_result"
    }
   ],
   "source": [
    "print(news_urls_center.values())\n",
    "len(news_urls_center.values())"
   ]
  },
  {
   "cell_type": "code",
   "execution_count": 7,
   "metadata": {},
   "outputs": [
    {
     "name": "stdout",
     "output_type": "stream",
     "text": [
      "dict_values(['spectator', 'breitbart', 'cbn', 'dailycaller', 'dailymail', 'dailywire', 'foxnews', 'thefederalist', 'nationalreview', 'nypost', 'newsmax', 'reason', 'washingtonexaminer', 'washingtontimes'])\n"
     ]
    },
    {
     "data": {
      "text/plain": [
       "14"
      ]
     },
     "execution_count": 7,
     "metadata": {},
     "output_type": "execute_result"
    }
   ],
   "source": [
    "print(news_urls_right.values())\n",
    "len(news_urls_right.values())"
   ]
  },
  {
   "cell_type": "code",
   "execution_count": 8,
   "metadata": {
    "colab": {},
    "colab_type": "code",
    "id": "ikvcqDy7TwWE"
   },
   "outputs": [],
   "source": [
    "def get_leaning(domain_name):\n",
    "    for s in news_urls_right.values():\n",
    "        if domain_name.startswith(s) or \".\"+s in domain_name:\n",
    "            return \"right\"\n",
    "    for s in news_urls_left.values():\n",
    "        if domain_name.startswith(s) or \".\"+s in domain_name:\n",
    "            return \"left\"\n",
    "    for s in news_urls_center.values():\n",
    "        if domain_name.startswith(s) or \".\"+s in domain_name:\n",
    "            return \"center\"\n",
    "    for s in news_urls_social_media:\n",
    "        if domain_name.startswith(s) or \".\"+s in domain_name:\n",
    "            return \"social\"\n",
    "    return \"other\" "
   ]
  },
  {
   "cell_type": "code",
   "execution_count": 9,
   "metadata": {
    "colab": {},
    "colab_type": "code",
    "id": "RV2m1-a4VHXw"
   },
   "outputs": [],
   "source": [
    "def get_base_domain(domain_name):\n",
    "    # print(domain_name)\n",
    "    for s in all_urls:\n",
    "        if domain_name.startswith(s) or \".\"+s in domain_name:\n",
    "            # print(\"Matched: \", s)\n",
    "            return s\n",
    "    return domain_name"
   ]
  },
  {
   "cell_type": "code",
   "execution_count": 10,
   "metadata": {
    "colab": {},
    "colab_type": "code",
    "id": "Mgv_9HNLl-Ey"
   },
   "outputs": [],
   "source": [
    "submissions[\"leaning\"] = submissions[\"domain\"].apply(lambda x: get_leaning(x))\n",
    "submissions[\"base_domain\"] = submissions[\"domain\"].apply(lambda x: get_base_domain(x))\n",
    "\n",
    "submissions[\"full_date\"] =  submissions[\"created_utc\"].apply(lambda x: datetime.fromtimestamp(x))\n",
    "submissions[\"date\"] = submissions[\"full_date\"].dt.date\n",
    "# submissions.head()\n",
    "\n",
    "posts_right = submissions.loc[submissions[\"leaning\"] == \"right\"]\n",
    "posts_left = submissions.loc[submissions[\"leaning\"] == \"left\"]\n",
    "posts_center = submissions.loc[submissions[\"leaning\"] == \"center\"]\n",
    "posts_social =  submissions.loc[submissions[\"leaning\"] == \"social\"]\n",
    "posts_other = submissions.loc[submissions[\"leaning\"] == \"other\"]\n",
    "\n",
    "all_included_posts = submissions.loc[submissions[\"leaning\"] != \"other\"]"
   ]
  },
  {
   "cell_type": "code",
   "execution_count": 11,
   "metadata": {
    "colab": {
     "base_uri": "https://localhost:8080/",
     "height": 134
    },
    "colab_type": "code",
    "executionInfo": {
     "elapsed": 79450,
     "status": "ok",
     "timestamp": 1575260943441,
     "user": {
      "displayName": "Mansi Ganatra",
      "photoUrl": "",
      "userId": "13427068811170262247"
     },
     "user_tz": 480
    },
    "id": "juqzQP7ztFHM",
    "outputId": "27c440e0-5e97-4e8a-c8ab-22f7d33af950"
   },
   "outputs": [
    {
     "name": "stdout",
     "output_type": "stream",
     "text": [
      "Posts with right leaning news outlet url:  2786\n",
      "Posts with left leaning news outlet url:  10604\n",
      "Posts with center leaning news outlet url:  7583\n",
      "Posts from social media: 29307\n",
      "Posts with other news outlet url:  148855\n",
      "Total postas included in analysis:  50280\n",
      "Total:  199135\n"
     ]
    },
    {
     "data": {
      "image/png": "[encoded data removed]",
      "text/plain": [
       "<Figure size 864x720 with 1 Axes>"
      ]
     },
     "metadata": {
      "needs_background": "light"
     },
     "output_type": "display_data"
    }
   ],
   "source": [
    "print(\"Posts with right leaning news outlet url: \", len(posts_right))\n",
    "print(\"Posts with left leaning news outlet url: \", len(posts_left))\n",
    "print(\"Posts with center leaning news outlet url: \", len(posts_center))\n",
    "print(\"Posts from social media:\", len(posts_social))\n",
    "print(\"Posts with other news outlet url: \", len(posts_other))\n",
    "print(\"Total postas included in analysis: \", len(all_included_posts))\n",
    "print(\"Total: \", len(submissions))\n",
    "\n",
    "\n",
    "plt.rcParams[\"figure.figsize\"] = (12,10)\n",
    "labels = ['Left', 'Center', 'Right']\n",
    "num_subs = [len(posts_left), len(posts_center), len(posts_right)]\n",
    "\n",
    "x = np.arange(len(labels))  # the label locations\n",
    "width = 0.75  # the width of the bars\n",
    "\n",
    "fig, ax = plt.subplots()\n",
    "b1 = ax.bar(x - width/4, num_subs, width, color=['b', 'grey', 'r'])\n",
    "\n",
    "# Add some text for labels, title and custom x-axis tick labels, etc.\n",
    "ax.set_ylabel('Number of Submissions', fontsize=40)\n",
    "ax.set_xlabel('Political Leaning',fontsize=40)\n",
    "ax.set_title('r/news',fontsize=50)\n",
    "ax.set_xticks(x)\n",
    "ax.set_xticklabels(labels, fontsize=30)  \n",
    "\n",
    "ax.legend(handles=b1, loc=1, labels=labels)\n",
    "plt.savefig('news/n1.pdf', bbox_inches='tight', pad_inches=0)\n",
    "plt.show()\n",
    "\n",
    "\n",
    "# all_included_posts.plot.bar(x=\"leaning\", y=\"counts\")\n",
    "# plt.xticks(np.arange(len(all_included_posts.counts)), all_included_posts.leaning)\n",
    "# plt.xlabel(\"Leanings\")\n",
    "# plt.ylabel(\"Number of Posts\")\n",
    "# plt.title(\"Bar Plot for Number of Posts v/s Leaning of media outlet\")\n",
    "# plt.show()"
   ]
  },
  {
   "cell_type": "code",
   "execution_count": 12,
   "metadata": {
    "colab": {
     "base_uri": "https://localhost:8080/",
     "height": 690
    },
    "colab_type": "code",
    "executionInfo": {
     "elapsed": 79654,
     "status": "ok",
     "timestamp": 1575260943648,
     "user": {
      "displayName": "Mansi Ganatra",
      "photoUrl": "",
      "userId": "13427068811170262247"
     },
     "user_tz": 480
    },
    "id": "V8cJBXkyWJRt",
    "outputId": "1eb6d92f-961e-4ea1-81c4-639658d9514e"
   },
   "outputs": [
    {
     "name": "stdout",
     "output_type": "stream",
     "text": [
      "Top 20 overall domains: \n",
      "\n",
      "\n"
     ]
    },
    {
     "data": {
      "text/html": [
       "<div>\n",
       "<style scoped>\n",
       "    .dataframe tbody tr th:only-of-type {\n",
       "        vertical-align: middle;\n",
       "    }\n",
       "\n",
       "    .dataframe tbody tr th {\n",
       "        vertical-align: top;\n",
       "    }\n",
       "\n",
       "    .dataframe thead th {\n",
       "        text-align: right;\n",
       "    }\n",
       "</style>\n",
       "<table border=\"1\" class=\"dataframe\">\n",
       "  <thead>\n",
       "    <tr style=\"text-align: right;\">\n",
       "      <th></th>\n",
       "      <th>base_domain</th>\n",
       "      <th>count</th>\n",
       "    </tr>\n",
       "  </thead>\n",
       "  <tbody>\n",
       "    <tr>\n",
       "      <th>55</th>\n",
       "      <td>youtube</td>\n",
       "      <td>22831</td>\n",
       "    </tr>\n",
       "    <tr>\n",
       "      <th>3</th>\n",
       "      <td>bbc</td>\n",
       "      <td>2350</td>\n",
       "    </tr>\n",
       "    <tr>\n",
       "      <th>9</th>\n",
       "      <td>cnn</td>\n",
       "      <td>2188</td>\n",
       "    </tr>\n",
       "    <tr>\n",
       "      <th>29</th>\n",
       "      <td>npr</td>\n",
       "      <td>1845</td>\n",
       "    </tr>\n",
       "    <tr>\n",
       "      <th>18</th>\n",
       "      <td>google</td>\n",
       "      <td>1830</td>\n",
       "    </tr>\n",
       "    <tr>\n",
       "      <th>46</th>\n",
       "      <td>twitter</td>\n",
       "      <td>1752</td>\n",
       "    </tr>\n",
       "    <tr>\n",
       "      <th>50</th>\n",
       "      <td>washingtonpost</td>\n",
       "      <td>1720</td>\n",
       "    </tr>\n",
       "    <tr>\n",
       "      <th>31</th>\n",
       "      <td>nytimes</td>\n",
       "      <td>1699</td>\n",
       "    </tr>\n",
       "    <tr>\n",
       "      <th>42</th>\n",
       "      <td>theguardian</td>\n",
       "      <td>1439</td>\n",
       "    </tr>\n",
       "    <tr>\n",
       "      <th>35</th>\n",
       "      <td>reuters</td>\n",
       "      <td>1423</td>\n",
       "    </tr>\n",
       "    <tr>\n",
       "      <th>54</th>\n",
       "      <td>youtu.be</td>\n",
       "      <td>1287</td>\n",
       "    </tr>\n",
       "    <tr>\n",
       "      <th>53</th>\n",
       "      <td>yahoo</td>\n",
       "      <td>918</td>\n",
       "    </tr>\n",
       "    <tr>\n",
       "      <th>17</th>\n",
       "      <td>foxnews</td>\n",
       "      <td>852</td>\n",
       "    </tr>\n",
       "    <tr>\n",
       "      <th>47</th>\n",
       "      <td>usatoday</td>\n",
       "      <td>745</td>\n",
       "    </tr>\n",
       "    <tr>\n",
       "      <th>12</th>\n",
       "      <td>dailymail</td>\n",
       "      <td>677</td>\n",
       "    </tr>\n",
       "    <tr>\n",
       "      <th>26</th>\n",
       "      <td>nbcnews</td>\n",
       "      <td>658</td>\n",
       "    </tr>\n",
       "    <tr>\n",
       "      <th>0</th>\n",
       "      <td>abcnews</td>\n",
       "      <td>599</td>\n",
       "    </tr>\n",
       "    <tr>\n",
       "      <th>8</th>\n",
       "      <td>cbsnews</td>\n",
       "      <td>514</td>\n",
       "    </tr>\n",
       "    <tr>\n",
       "      <th>16</th>\n",
       "      <td>facebook</td>\n",
       "      <td>501</td>\n",
       "    </tr>\n",
       "    <tr>\n",
       "      <th>22</th>\n",
       "      <td>latimes</td>\n",
       "      <td>470</td>\n",
       "    </tr>\n",
       "  </tbody>\n",
       "</table>\n",
       "</div>"
      ],
      "text/plain": [
       "       base_domain  count\n",
       "55         youtube  22831\n",
       "3              bbc   2350\n",
       "9              cnn   2188\n",
       "29             npr   1845\n",
       "18          google   1830\n",
       "46         twitter   1752\n",
       "50  washingtonpost   1720\n",
       "31         nytimes   1699\n",
       "42     theguardian   1439\n",
       "35         reuters   1423\n",
       "54        youtu.be   1287\n",
       "53           yahoo    918\n",
       "17         foxnews    852\n",
       "47        usatoday    745\n",
       "12       dailymail    677\n",
       "26         nbcnews    658\n",
       "0          abcnews    599\n",
       "8          cbsnews    514\n",
       "16        facebook    501\n",
       "22         latimes    470"
      ]
     },
     "execution_count": 12,
     "metadata": {},
     "output_type": "execute_result"
    }
   ],
   "source": [
    "domain_post_frequency =  all_included_posts.groupby(\"base_domain\").count()[\"id\"].reset_index(name='count').sort_values(['count'], ascending=False) \n",
    "print(\"Top 20 overall domains: \\n\\n\")\n",
    "domain_post_frequency.head(20)"
   ]
  },
  {
   "cell_type": "code",
   "execution_count": 13,
   "metadata": {
    "colab": {
     "base_uri": "https://localhost:8080/",
     "height": 512
    },
    "colab_type": "code",
    "executionInfo": {
     "elapsed": 79650,
     "status": "ok",
     "timestamp": 1575260943648,
     "user": {
      "displayName": "Mansi Ganatra",
      "photoUrl": "",
      "userId": "13427068811170262247"
     },
     "user_tz": 480
    },
    "id": "ZzO62dLzXdM1",
    "outputId": "a789b14d-098c-425d-db0f-bbd6f4373f63"
   },
   "outputs": [
    {
     "name": "stdout",
     "output_type": "stream",
     "text": [
      "Top 20 right leaning domains: \n",
      "\n",
      "\n"
     ]
    },
    {
     "data": {
      "text/html": [
       "<div>\n",
       "<style scoped>\n",
       "    .dataframe tbody tr th:only-of-type {\n",
       "        vertical-align: middle;\n",
       "    }\n",
       "\n",
       "    .dataframe tbody tr th {\n",
       "        vertical-align: top;\n",
       "    }\n",
       "\n",
       "    .dataframe thead th {\n",
       "        text-align: right;\n",
       "    }\n",
       "</style>\n",
       "<table border=\"1\" class=\"dataframe\">\n",
       "  <thead>\n",
       "    <tr style=\"text-align: right;\">\n",
       "      <th></th>\n",
       "      <th>base_domain</th>\n",
       "      <th>count</th>\n",
       "    </tr>\n",
       "  </thead>\n",
       "  <tbody>\n",
       "    <tr>\n",
       "      <th>5</th>\n",
       "      <td>foxnews</td>\n",
       "      <td>852</td>\n",
       "    </tr>\n",
       "    <tr>\n",
       "      <th>3</th>\n",
       "      <td>dailymail</td>\n",
       "      <td>677</td>\n",
       "    </tr>\n",
       "    <tr>\n",
       "      <th>0</th>\n",
       "      <td>breitbart</td>\n",
       "      <td>343</td>\n",
       "    </tr>\n",
       "    <tr>\n",
       "      <th>8</th>\n",
       "      <td>nypost</td>\n",
       "      <td>332</td>\n",
       "    </tr>\n",
       "    <tr>\n",
       "      <th>13</th>\n",
       "      <td>washingtontimes</td>\n",
       "      <td>192</td>\n",
       "    </tr>\n",
       "    <tr>\n",
       "      <th>2</th>\n",
       "      <td>dailycaller</td>\n",
       "      <td>141</td>\n",
       "    </tr>\n",
       "    <tr>\n",
       "      <th>12</th>\n",
       "      <td>washingtonexaminer</td>\n",
       "      <td>88</td>\n",
       "    </tr>\n",
       "    <tr>\n",
       "      <th>4</th>\n",
       "      <td>dailywire</td>\n",
       "      <td>59</td>\n",
       "    </tr>\n",
       "    <tr>\n",
       "      <th>9</th>\n",
       "      <td>reason</td>\n",
       "      <td>36</td>\n",
       "    </tr>\n",
       "    <tr>\n",
       "      <th>7</th>\n",
       "      <td>newsmax</td>\n",
       "      <td>24</td>\n",
       "    </tr>\n",
       "    <tr>\n",
       "      <th>11</th>\n",
       "      <td>thefederalist</td>\n",
       "      <td>24</td>\n",
       "    </tr>\n",
       "    <tr>\n",
       "      <th>6</th>\n",
       "      <td>nationalreview</td>\n",
       "      <td>8</td>\n",
       "    </tr>\n",
       "    <tr>\n",
       "      <th>10</th>\n",
       "      <td>spectator</td>\n",
       "      <td>8</td>\n",
       "    </tr>\n",
       "    <tr>\n",
       "      <th>1</th>\n",
       "      <td>cbn</td>\n",
       "      <td>2</td>\n",
       "    </tr>\n",
       "  </tbody>\n",
       "</table>\n",
       "</div>"
      ],
      "text/plain": [
       "           base_domain  count\n",
       "5              foxnews    852\n",
       "3            dailymail    677\n",
       "0            breitbart    343\n",
       "8               nypost    332\n",
       "13     washingtontimes    192\n",
       "2          dailycaller    141\n",
       "12  washingtonexaminer     88\n",
       "4            dailywire     59\n",
       "9               reason     36\n",
       "7              newsmax     24\n",
       "11       thefederalist     24\n",
       "6       nationalreview      8\n",
       "10           spectator      8\n",
       "1                  cbn      2"
      ]
     },
     "execution_count": 13,
     "metadata": {},
     "output_type": "execute_result"
    }
   ],
   "source": [
    "right_domain_post_frequency =  posts_right.groupby(\"base_domain\").count()[\"id\"].reset_index(name='count').sort_values(['count'], ascending=False) \n",
    "print(\"Top 20 right leaning domains: \\n\\n\")\n",
    "right_domain_post_frequency.head(20)"
   ]
  },
  {
   "cell_type": "code",
   "execution_count": 14,
   "metadata": {
    "colab": {
     "base_uri": "https://localhost:8080/",
     "height": 690
    },
    "colab_type": "code",
    "executionInfo": {
     "elapsed": 79648,
     "status": "ok",
     "timestamp": 1575260943649,
     "user": {
      "displayName": "Mansi Ganatra",
      "photoUrl": "",
      "userId": "13427068811170262247"
     },
     "user_tz": 480
    },
    "id": "TIB6TiSgX_wH",
    "outputId": "485fd2ea-f560-4771-e793-c793630314a9"
   },
   "outputs": [
    {
     "name": "stdout",
     "output_type": "stream",
     "text": [
      "Top 20 left leaning domains: \n",
      "\n",
      "\n"
     ]
    },
    {
     "data": {
      "text/html": [
       "<div>\n",
       "<style scoped>\n",
       "    .dataframe tbody tr th:only-of-type {\n",
       "        vertical-align: middle;\n",
       "    }\n",
       "\n",
       "    .dataframe tbody tr th {\n",
       "        vertical-align: top;\n",
       "    }\n",
       "\n",
       "    .dataframe thead th {\n",
       "        text-align: right;\n",
       "    }\n",
       "</style>\n",
       "<table border=\"1\" class=\"dataframe\">\n",
       "  <thead>\n",
       "    <tr style=\"text-align: right;\">\n",
       "      <th></th>\n",
       "      <th>base_domain</th>\n",
       "      <th>count</th>\n",
       "    </tr>\n",
       "  </thead>\n",
       "  <tbody>\n",
       "    <tr>\n",
       "      <th>4</th>\n",
       "      <td>cnn</td>\n",
       "      <td>2188</td>\n",
       "    </tr>\n",
       "    <tr>\n",
       "      <th>23</th>\n",
       "      <td>washingtonpost</td>\n",
       "      <td>1720</td>\n",
       "    </tr>\n",
       "    <tr>\n",
       "      <th>14</th>\n",
       "      <td>nytimes</td>\n",
       "      <td>1699</td>\n",
       "    </tr>\n",
       "    <tr>\n",
       "      <th>19</th>\n",
       "      <td>theguardian</td>\n",
       "      <td>1439</td>\n",
       "    </tr>\n",
       "    <tr>\n",
       "      <th>12</th>\n",
       "      <td>nbcnews</td>\n",
       "      <td>658</td>\n",
       "    </tr>\n",
       "    <tr>\n",
       "      <th>0</th>\n",
       "      <td>abcnews</td>\n",
       "      <td>599</td>\n",
       "    </tr>\n",
       "    <tr>\n",
       "      <th>3</th>\n",
       "      <td>cbsnews</td>\n",
       "      <td>514</td>\n",
       "    </tr>\n",
       "    <tr>\n",
       "      <th>9</th>\n",
       "      <td>latimes</td>\n",
       "      <td>470</td>\n",
       "    </tr>\n",
       "    <tr>\n",
       "      <th>15</th>\n",
       "      <td>politico</td>\n",
       "      <td>272</td>\n",
       "    </tr>\n",
       "    <tr>\n",
       "      <th>18</th>\n",
       "      <td>thedailybeast</td>\n",
       "      <td>226</td>\n",
       "    </tr>\n",
       "    <tr>\n",
       "      <th>20</th>\n",
       "      <td>theintercept</td>\n",
       "      <td>119</td>\n",
       "    </tr>\n",
       "    <tr>\n",
       "      <th>16</th>\n",
       "      <td>slate</td>\n",
       "      <td>118</td>\n",
       "    </tr>\n",
       "    <tr>\n",
       "      <th>22</th>\n",
       "      <td>vox</td>\n",
       "      <td>106</td>\n",
       "    </tr>\n",
       "    <tr>\n",
       "      <th>17</th>\n",
       "      <td>theatlantic</td>\n",
       "      <td>86</td>\n",
       "    </tr>\n",
       "    <tr>\n",
       "      <th>7</th>\n",
       "      <td>huffpost</td>\n",
       "      <td>72</td>\n",
       "    </tr>\n",
       "    <tr>\n",
       "      <th>10</th>\n",
       "      <td>motherjones</td>\n",
       "      <td>71</td>\n",
       "    </tr>\n",
       "    <tr>\n",
       "      <th>5</th>\n",
       "      <td>democracynow</td>\n",
       "      <td>66</td>\n",
       "    </tr>\n",
       "    <tr>\n",
       "      <th>21</th>\n",
       "      <td>thenation</td>\n",
       "      <td>48</td>\n",
       "    </tr>\n",
       "    <tr>\n",
       "      <th>11</th>\n",
       "      <td>msnbc</td>\n",
       "      <td>37</td>\n",
       "    </tr>\n",
       "    <tr>\n",
       "      <th>6</th>\n",
       "      <td>economist</td>\n",
       "      <td>33</td>\n",
       "    </tr>\n",
       "  </tbody>\n",
       "</table>\n",
       "</div>"
      ],
      "text/plain": [
       "       base_domain  count\n",
       "4              cnn   2188\n",
       "23  washingtonpost   1720\n",
       "14         nytimes   1699\n",
       "19     theguardian   1439\n",
       "12         nbcnews    658\n",
       "0          abcnews    599\n",
       "3          cbsnews    514\n",
       "9          latimes    470\n",
       "15        politico    272\n",
       "18   thedailybeast    226\n",
       "20    theintercept    119\n",
       "16           slate    118\n",
       "22             vox    106\n",
       "17     theatlantic     86\n",
       "7         huffpost     72\n",
       "10     motherjones     71\n",
       "5     democracynow     66\n",
       "21       thenation     48\n",
       "11           msnbc     37\n",
       "6        economist     33"
      ]
     },
     "execution_count": 14,
     "metadata": {},
     "output_type": "execute_result"
    }
   ],
   "source": [
    "left_domain_post_frequency =  posts_left.groupby(\"base_domain\").count()[\"id\"].reset_index(name='count').sort_values(['count'], ascending=False) \n",
    "print(\"Top 20 left leaning domains: \\n\\n\")\n",
    "left_domain_post_frequency.head(20)"
   ]
  },
  {
   "cell_type": "code",
   "execution_count": 15,
   "metadata": {
    "colab": {
     "base_uri": "https://localhost:8080/",
     "height": 364
    },
    "colab_type": "code",
    "executionInfo": {
     "elapsed": 79644,
     "status": "ok",
     "timestamp": 1575260943649,
     "user": {
      "displayName": "Mansi Ganatra",
      "photoUrl": "",
      "userId": "13427068811170262247"
     },
     "user_tz": 480
    },
    "id": "0KqskznyYODB",
    "outputId": "1620a056-869c-4492-c01c-4b44ea306f69"
   },
   "outputs": [
    {
     "name": "stdout",
     "output_type": "stream",
     "text": [
      "Top 20 center leaning domains: \n",
      "\n",
      "\n"
     ]
    },
    {
     "data": {
      "text/html": [
       "<div>\n",
       "<style scoped>\n",
       "    .dataframe tbody tr th:only-of-type {\n",
       "        vertical-align: middle;\n",
       "    }\n",
       "\n",
       "    .dataframe tbody tr th {\n",
       "        vertical-align: top;\n",
       "    }\n",
       "\n",
       "    .dataframe thead th {\n",
       "        text-align: right;\n",
       "    }\n",
       "</style>\n",
       "<table border=\"1\" class=\"dataframe\">\n",
       "  <thead>\n",
       "    <tr style=\"text-align: right;\">\n",
       "      <th></th>\n",
       "      <th>base_domain</th>\n",
       "      <th>count</th>\n",
       "    </tr>\n",
       "  </thead>\n",
       "  <tbody>\n",
       "    <tr>\n",
       "      <th>1</th>\n",
       "      <td>bbc</td>\n",
       "      <td>2350</td>\n",
       "    </tr>\n",
       "    <tr>\n",
       "      <th>4</th>\n",
       "      <td>npr</td>\n",
       "      <td>1845</td>\n",
       "    </tr>\n",
       "    <tr>\n",
       "      <th>5</th>\n",
       "      <td>reuters</td>\n",
       "      <td>1423</td>\n",
       "    </tr>\n",
       "    <tr>\n",
       "      <th>7</th>\n",
       "      <td>usatoday</td>\n",
       "      <td>745</td>\n",
       "    </tr>\n",
       "    <tr>\n",
       "      <th>2</th>\n",
       "      <td>bloomberg</td>\n",
       "      <td>413</td>\n",
       "    </tr>\n",
       "    <tr>\n",
       "      <th>6</th>\n",
       "      <td>thehill</td>\n",
       "      <td>311</td>\n",
       "    </tr>\n",
       "    <tr>\n",
       "      <th>8</th>\n",
       "      <td>wsj</td>\n",
       "      <td>285</td>\n",
       "    </tr>\n",
       "    <tr>\n",
       "      <th>0</th>\n",
       "      <td>apnews</td>\n",
       "      <td>171</td>\n",
       "    </tr>\n",
       "    <tr>\n",
       "      <th>3</th>\n",
       "      <td>csmonitor</td>\n",
       "      <td>40</td>\n",
       "    </tr>\n",
       "  </tbody>\n",
       "</table>\n",
       "</div>"
      ],
      "text/plain": [
       "  base_domain  count\n",
       "1         bbc   2350\n",
       "4         npr   1845\n",
       "5     reuters   1423\n",
       "7    usatoday    745\n",
       "2   bloomberg    413\n",
       "6     thehill    311\n",
       "8         wsj    285\n",
       "0      apnews    171\n",
       "3   csmonitor     40"
      ]
     },
     "execution_count": 15,
     "metadata": {},
     "output_type": "execute_result"
    }
   ],
   "source": [
    "center_domain_post_frequency =  posts_center.groupby(\"base_domain\").count()[\"id\"].reset_index(name='count').sort_values(['count'], ascending=False) \n",
    "print(\"Top 20 center leaning domains: \\n\\n\")\n",
    "center_domain_post_frequency.head(20)"
   ]
  },
  {
   "cell_type": "code",
   "execution_count": 16,
   "metadata": {
    "colab": {
     "base_uri": "https://localhost:8080/",
     "height": 364
    },
    "colab_type": "code",
    "executionInfo": {
     "elapsed": 79871,
     "status": "ok",
     "timestamp": 1575260943879,
     "user": {
      "displayName": "Mansi Ganatra",
      "photoUrl": "",
      "userId": "13427068811170262247"
     },
     "user_tz": 480
    },
    "id": "XD45QEruYVoG",
    "outputId": "756f73f1-6fb3-4ec3-bd54-3537e151318d"
   },
   "outputs": [
    {
     "name": "stdout",
     "output_type": "stream",
     "text": [
      "Top 20 social media domains: \n",
      "\n",
      "\n"
     ]
    },
    {
     "data": {
      "text/html": [
       "<div>\n",
       "<style scoped>\n",
       "    .dataframe tbody tr th:only-of-type {\n",
       "        vertical-align: middle;\n",
       "    }\n",
       "\n",
       "    .dataframe tbody tr th {\n",
       "        vertical-align: top;\n",
       "    }\n",
       "\n",
       "    .dataframe thead th {\n",
       "        text-align: right;\n",
       "    }\n",
       "</style>\n",
       "<table border=\"1\" class=\"dataframe\">\n",
       "  <thead>\n",
       "    <tr style=\"text-align: right;\">\n",
       "      <th></th>\n",
       "      <th>base_domain</th>\n",
       "      <th>count</th>\n",
       "    </tr>\n",
       "  </thead>\n",
       "  <tbody>\n",
       "    <tr>\n",
       "      <th>8</th>\n",
       "      <td>youtube</td>\n",
       "      <td>22831</td>\n",
       "    </tr>\n",
       "    <tr>\n",
       "      <th>1</th>\n",
       "      <td>google</td>\n",
       "      <td>1830</td>\n",
       "    </tr>\n",
       "    <tr>\n",
       "      <th>5</th>\n",
       "      <td>twitter</td>\n",
       "      <td>1752</td>\n",
       "    </tr>\n",
       "    <tr>\n",
       "      <th>7</th>\n",
       "      <td>youtu.be</td>\n",
       "      <td>1287</td>\n",
       "    </tr>\n",
       "    <tr>\n",
       "      <th>6</th>\n",
       "      <td>yahoo</td>\n",
       "      <td>918</td>\n",
       "    </tr>\n",
       "    <tr>\n",
       "      <th>0</th>\n",
       "      <td>facebook</td>\n",
       "      <td>501</td>\n",
       "    </tr>\n",
       "    <tr>\n",
       "      <th>3</th>\n",
       "      <td>reddit</td>\n",
       "      <td>156</td>\n",
       "    </tr>\n",
       "    <tr>\n",
       "      <th>4</th>\n",
       "      <td>spotify</td>\n",
       "      <td>25</td>\n",
       "    </tr>\n",
       "    <tr>\n",
       "      <th>2</th>\n",
       "      <td>instagram</td>\n",
       "      <td>7</td>\n",
       "    </tr>\n",
       "  </tbody>\n",
       "</table>\n",
       "</div>"
      ],
      "text/plain": [
       "  base_domain  count\n",
       "8     youtube  22831\n",
       "1      google   1830\n",
       "5     twitter   1752\n",
       "7    youtu.be   1287\n",
       "6       yahoo    918\n",
       "0    facebook    501\n",
       "3      reddit    156\n",
       "4     spotify     25\n",
       "2   instagram      7"
      ]
     },
     "execution_count": 16,
     "metadata": {},
     "output_type": "execute_result"
    }
   ],
   "source": [
    "social_domain_post_frequency =  posts_social.groupby(\"base_domain\").count()[\"id\"].reset_index(name='count').sort_values(['count'], ascending=False) \n",
    "print(\"Top 20 social media domains: \\n\\n\")\n",
    "social_domain_post_frequency.head(20)"
   ]
  },
  {
   "cell_type": "code",
   "execution_count": 17,
   "metadata": {
    "colab": {
     "base_uri": "https://localhost:8080/",
     "height": 690
    },
    "colab_type": "code",
    "executionInfo": {
     "elapsed": 79872,
     "status": "ok",
     "timestamp": 1575260943882,
     "user": {
      "displayName": "Mansi Ganatra",
      "photoUrl": "",
      "userId": "13427068811170262247"
     },
     "user_tz": 480
    },
    "id": "ehnQ3ugJYl1Z",
    "outputId": "17a9875e-8e6b-4049-daba-a456f98d1bd6"
   },
   "outputs": [
    {
     "name": "stdout",
     "output_type": "stream",
     "text": [
      "Top 20 overall average scores by domain:\n",
      "\n",
      "\n"
     ]
    },
    {
     "data": {
      "text/html": [
       "<div>\n",
       "<style scoped>\n",
       "    .dataframe tbody tr th:only-of-type {\n",
       "        vertical-align: middle;\n",
       "    }\n",
       "\n",
       "    .dataframe tbody tr th {\n",
       "        vertical-align: top;\n",
       "    }\n",
       "\n",
       "    .dataframe thead th {\n",
       "        text-align: right;\n",
       "    }\n",
       "</style>\n",
       "<table border=\"1\" class=\"dataframe\">\n",
       "  <thead>\n",
       "    <tr style=\"text-align: right;\">\n",
       "      <th></th>\n",
       "      <th>base_domain</th>\n",
       "      <th>average_score</th>\n",
       "    </tr>\n",
       "  </thead>\n",
       "  <tbody>\n",
       "    <tr>\n",
       "      <th>2</th>\n",
       "      <td>apnews</td>\n",
       "      <td>360.304094</td>\n",
       "    </tr>\n",
       "    <tr>\n",
       "      <th>52</th>\n",
       "      <td>wsj</td>\n",
       "      <td>323.287719</td>\n",
       "    </tr>\n",
       "    <tr>\n",
       "      <th>40</th>\n",
       "      <td>thedailybeast</td>\n",
       "      <td>306.557522</td>\n",
       "    </tr>\n",
       "    <tr>\n",
       "      <th>22</th>\n",
       "      <td>latimes</td>\n",
       "      <td>268.193617</td>\n",
       "    </tr>\n",
       "    <tr>\n",
       "      <th>50</th>\n",
       "      <td>washingtonpost</td>\n",
       "      <td>247.277907</td>\n",
       "    </tr>\n",
       "    <tr>\n",
       "      <th>4</th>\n",
       "      <td>bloomberg</td>\n",
       "      <td>221.278450</td>\n",
       "    </tr>\n",
       "    <tr>\n",
       "      <th>53</th>\n",
       "      <td>yahoo</td>\n",
       "      <td>197.655773</td>\n",
       "    </tr>\n",
       "    <tr>\n",
       "      <th>42</th>\n",
       "      <td>theguardian</td>\n",
       "      <td>197.039611</td>\n",
       "    </tr>\n",
       "    <tr>\n",
       "      <th>8</th>\n",
       "      <td>cbsnews</td>\n",
       "      <td>186.424125</td>\n",
       "    </tr>\n",
       "    <tr>\n",
       "      <th>14</th>\n",
       "      <td>democracynow</td>\n",
       "      <td>130.030303</td>\n",
       "    </tr>\n",
       "    <tr>\n",
       "      <th>26</th>\n",
       "      <td>nbcnews</td>\n",
       "      <td>128.662614</td>\n",
       "    </tr>\n",
       "    <tr>\n",
       "      <th>0</th>\n",
       "      <td>abcnews</td>\n",
       "      <td>121.141903</td>\n",
       "    </tr>\n",
       "    <tr>\n",
       "      <th>3</th>\n",
       "      <td>bbc</td>\n",
       "      <td>108.606383</td>\n",
       "    </tr>\n",
       "    <tr>\n",
       "      <th>17</th>\n",
       "      <td>foxnews</td>\n",
       "      <td>89.627934</td>\n",
       "    </tr>\n",
       "    <tr>\n",
       "      <th>47</th>\n",
       "      <td>usatoday</td>\n",
       "      <td>87.428188</td>\n",
       "    </tr>\n",
       "    <tr>\n",
       "      <th>35</th>\n",
       "      <td>reuters</td>\n",
       "      <td>84.851722</td>\n",
       "    </tr>\n",
       "    <tr>\n",
       "      <th>9</th>\n",
       "      <td>cnn</td>\n",
       "      <td>81.692870</td>\n",
       "    </tr>\n",
       "    <tr>\n",
       "      <th>31</th>\n",
       "      <td>nytimes</td>\n",
       "      <td>64.182460</td>\n",
       "    </tr>\n",
       "    <tr>\n",
       "      <th>10</th>\n",
       "      <td>csmonitor</td>\n",
       "      <td>38.175000</td>\n",
       "    </tr>\n",
       "    <tr>\n",
       "      <th>51</th>\n",
       "      <td>washingtontimes</td>\n",
       "      <td>30.942708</td>\n",
       "    </tr>\n",
       "  </tbody>\n",
       "</table>\n",
       "</div>"
      ],
      "text/plain": [
       "        base_domain  average_score\n",
       "2            apnews     360.304094\n",
       "52              wsj     323.287719\n",
       "40    thedailybeast     306.557522\n",
       "22          latimes     268.193617\n",
       "50   washingtonpost     247.277907\n",
       "4         bloomberg     221.278450\n",
       "53            yahoo     197.655773\n",
       "42      theguardian     197.039611\n",
       "8           cbsnews     186.424125\n",
       "14     democracynow     130.030303\n",
       "26          nbcnews     128.662614\n",
       "0           abcnews     121.141903\n",
       "3               bbc     108.606383\n",
       "17          foxnews      89.627934\n",
       "47         usatoday      87.428188\n",
       "35          reuters      84.851722\n",
       "9               cnn      81.692870\n",
       "31          nytimes      64.182460\n",
       "10        csmonitor      38.175000\n",
       "51  washingtontimes      30.942708"
      ]
     },
     "execution_count": 17,
     "metadata": {},
     "output_type": "execute_result"
    }
   ],
   "source": [
    "overall_average_score =  all_included_posts.groupby(\"base_domain\")['score'].mean().reset_index(name=\"average_score\").sort_values(['average_score'], ascending=False) \n",
    "print(\"Top 20 overall average scores by domain:\\n\\n\")\n",
    "overall_average_score.head(20)"
   ]
  },
  {
   "cell_type": "code",
   "execution_count": 18,
   "metadata": {
    "colab": {
     "base_uri": "https://localhost:8080/",
     "height": 512
    },
    "colab_type": "code",
    "executionInfo": {
     "elapsed": 79868,
     "status": "ok",
     "timestamp": 1575260943882,
     "user": {
      "displayName": "Mansi Ganatra",
      "photoUrl": "",
      "userId": "13427068811170262247"
     },
     "user_tz": 480
    },
    "id": "l1hilGyTeUYd",
    "outputId": "fbe921ca-55a1-494b-9c70-5562dd1ba34e"
   },
   "outputs": [
    {
     "name": "stdout",
     "output_type": "stream",
     "text": [
      "Top 20 average scores by domain for right leaning outlets:\n",
      "\n",
      "\n"
     ]
    },
    {
     "data": {
      "text/html": [
       "<div>\n",
       "<style scoped>\n",
       "    .dataframe tbody tr th:only-of-type {\n",
       "        vertical-align: middle;\n",
       "    }\n",
       "\n",
       "    .dataframe tbody tr th {\n",
       "        vertical-align: top;\n",
       "    }\n",
       "\n",
       "    .dataframe thead th {\n",
       "        text-align: right;\n",
       "    }\n",
       "</style>\n",
       "<table border=\"1\" class=\"dataframe\">\n",
       "  <thead>\n",
       "    <tr style=\"text-align: right;\">\n",
       "      <th></th>\n",
       "      <th>base_domain</th>\n",
       "      <th>average_score</th>\n",
       "    </tr>\n",
       "  </thead>\n",
       "  <tbody>\n",
       "    <tr>\n",
       "      <th>5</th>\n",
       "      <td>foxnews</td>\n",
       "      <td>89.627934</td>\n",
       "    </tr>\n",
       "    <tr>\n",
       "      <th>13</th>\n",
       "      <td>washingtontimes</td>\n",
       "      <td>30.942708</td>\n",
       "    </tr>\n",
       "    <tr>\n",
       "      <th>1</th>\n",
       "      <td>cbn</td>\n",
       "      <td>10.500000</td>\n",
       "    </tr>\n",
       "    <tr>\n",
       "      <th>10</th>\n",
       "      <td>spectator</td>\n",
       "      <td>5.625000</td>\n",
       "    </tr>\n",
       "    <tr>\n",
       "      <th>3</th>\n",
       "      <td>dailymail</td>\n",
       "      <td>3.193501</td>\n",
       "    </tr>\n",
       "    <tr>\n",
       "      <th>6</th>\n",
       "      <td>nationalreview</td>\n",
       "      <td>2.750000</td>\n",
       "    </tr>\n",
       "    <tr>\n",
       "      <th>9</th>\n",
       "      <td>reason</td>\n",
       "      <td>1.250000</td>\n",
       "    </tr>\n",
       "    <tr>\n",
       "      <th>8</th>\n",
       "      <td>nypost</td>\n",
       "      <td>1.072289</td>\n",
       "    </tr>\n",
       "    <tr>\n",
       "      <th>2</th>\n",
       "      <td>dailycaller</td>\n",
       "      <td>1.021277</td>\n",
       "    </tr>\n",
       "    <tr>\n",
       "      <th>4</th>\n",
       "      <td>dailywire</td>\n",
       "      <td>1.016949</td>\n",
       "    </tr>\n",
       "    <tr>\n",
       "      <th>12</th>\n",
       "      <td>washingtonexaminer</td>\n",
       "      <td>1.011364</td>\n",
       "    </tr>\n",
       "    <tr>\n",
       "      <th>0</th>\n",
       "      <td>breitbart</td>\n",
       "      <td>1.002915</td>\n",
       "    </tr>\n",
       "    <tr>\n",
       "      <th>7</th>\n",
       "      <td>newsmax</td>\n",
       "      <td>1.000000</td>\n",
       "    </tr>\n",
       "    <tr>\n",
       "      <th>11</th>\n",
       "      <td>thefederalist</td>\n",
       "      <td>0.958333</td>\n",
       "    </tr>\n",
       "  </tbody>\n",
       "</table>\n",
       "</div>"
      ],
      "text/plain": [
       "           base_domain  average_score\n",
       "5              foxnews      89.627934\n",
       "13     washingtontimes      30.942708\n",
       "1                  cbn      10.500000\n",
       "10           spectator       5.625000\n",
       "3            dailymail       3.193501\n",
       "6       nationalreview       2.750000\n",
       "9               reason       1.250000\n",
       "8               nypost       1.072289\n",
       "2          dailycaller       1.021277\n",
       "4            dailywire       1.016949\n",
       "12  washingtonexaminer       1.011364\n",
       "0            breitbart       1.002915\n",
       "7              newsmax       1.000000\n",
       "11       thefederalist       0.958333"
      ]
     },
     "execution_count": 18,
     "metadata": {},
     "output_type": "execute_result"
    }
   ],
   "source": [
    "right_average_score =  posts_right.groupby(\"base_domain\")['score'].mean().reset_index(name=\"average_score\").sort_values(['average_score'], ascending=False) \n",
    "print(\"Top 20 average scores by domain for right leaning outlets:\\n\\n\")\n",
    "right_average_score.head(20)"
   ]
  },
  {
   "cell_type": "code",
   "execution_count": 19,
   "metadata": {
    "colab": {
     "base_uri": "https://localhost:8080/",
     "height": 690
    },
    "colab_type": "code",
    "executionInfo": {
     "elapsed": 79866,
     "status": "ok",
     "timestamp": 1575260943883,
     "user": {
      "displayName": "Mansi Ganatra",
      "photoUrl": "",
      "userId": "13427068811170262247"
     },
     "user_tz": 480
    },
    "id": "06pfqzzhekZw",
    "outputId": "74edb7c2-6ec1-4d5f-f1e6-f57c69818fa1"
   },
   "outputs": [
    {
     "name": "stdout",
     "output_type": "stream",
     "text": [
      "Top 20 average scores by domain for left leaning outlets:\n",
      "\n",
      "\n"
     ]
    },
    {
     "data": {
      "text/html": [
       "<div>\n",
       "<style scoped>\n",
       "    .dataframe tbody tr th:only-of-type {\n",
       "        vertical-align: middle;\n",
       "    }\n",
       "\n",
       "    .dataframe tbody tr th {\n",
       "        vertical-align: top;\n",
       "    }\n",
       "\n",
       "    .dataframe thead th {\n",
       "        text-align: right;\n",
       "    }\n",
       "</style>\n",
       "<table border=\"1\" class=\"dataframe\">\n",
       "  <thead>\n",
       "    <tr style=\"text-align: right;\">\n",
       "      <th></th>\n",
       "      <th>base_domain</th>\n",
       "      <th>average_score</th>\n",
       "    </tr>\n",
       "  </thead>\n",
       "  <tbody>\n",
       "    <tr>\n",
       "      <th>18</th>\n",
       "      <td>thedailybeast</td>\n",
       "      <td>306.557522</td>\n",
       "    </tr>\n",
       "    <tr>\n",
       "      <th>9</th>\n",
       "      <td>latimes</td>\n",
       "      <td>268.193617</td>\n",
       "    </tr>\n",
       "    <tr>\n",
       "      <th>23</th>\n",
       "      <td>washingtonpost</td>\n",
       "      <td>247.277907</td>\n",
       "    </tr>\n",
       "    <tr>\n",
       "      <th>19</th>\n",
       "      <td>theguardian</td>\n",
       "      <td>197.039611</td>\n",
       "    </tr>\n",
       "    <tr>\n",
       "      <th>3</th>\n",
       "      <td>cbsnews</td>\n",
       "      <td>186.424125</td>\n",
       "    </tr>\n",
       "    <tr>\n",
       "      <th>5</th>\n",
       "      <td>democracynow</td>\n",
       "      <td>130.030303</td>\n",
       "    </tr>\n",
       "    <tr>\n",
       "      <th>12</th>\n",
       "      <td>nbcnews</td>\n",
       "      <td>128.662614</td>\n",
       "    </tr>\n",
       "    <tr>\n",
       "      <th>0</th>\n",
       "      <td>abcnews</td>\n",
       "      <td>121.141903</td>\n",
       "    </tr>\n",
       "    <tr>\n",
       "      <th>4</th>\n",
       "      <td>cnn</td>\n",
       "      <td>81.692870</td>\n",
       "    </tr>\n",
       "    <tr>\n",
       "      <th>14</th>\n",
       "      <td>nytimes</td>\n",
       "      <td>64.182460</td>\n",
       "    </tr>\n",
       "    <tr>\n",
       "      <th>21</th>\n",
       "      <td>thenation</td>\n",
       "      <td>24.437500</td>\n",
       "    </tr>\n",
       "    <tr>\n",
       "      <th>11</th>\n",
       "      <td>msnbc</td>\n",
       "      <td>6.675676</td>\n",
       "    </tr>\n",
       "    <tr>\n",
       "      <th>22</th>\n",
       "      <td>vox</td>\n",
       "      <td>3.650943</td>\n",
       "    </tr>\n",
       "    <tr>\n",
       "      <th>6</th>\n",
       "      <td>economist</td>\n",
       "      <td>1.393939</td>\n",
       "    </tr>\n",
       "    <tr>\n",
       "      <th>8</th>\n",
       "      <td>jacobinmag</td>\n",
       "      <td>1.333333</td>\n",
       "    </tr>\n",
       "    <tr>\n",
       "      <th>15</th>\n",
       "      <td>politico</td>\n",
       "      <td>1.316176</td>\n",
       "    </tr>\n",
       "    <tr>\n",
       "      <th>20</th>\n",
       "      <td>theintercept</td>\n",
       "      <td>1.142857</td>\n",
       "    </tr>\n",
       "    <tr>\n",
       "      <th>13</th>\n",
       "      <td>newyorker</td>\n",
       "      <td>1.090909</td>\n",
       "    </tr>\n",
       "    <tr>\n",
       "      <th>10</th>\n",
       "      <td>motherjones</td>\n",
       "      <td>1.014085</td>\n",
       "    </tr>\n",
       "    <tr>\n",
       "      <th>7</th>\n",
       "      <td>huffpost</td>\n",
       "      <td>1.013889</td>\n",
       "    </tr>\n",
       "  </tbody>\n",
       "</table>\n",
       "</div>"
      ],
      "text/plain": [
       "       base_domain  average_score\n",
       "18   thedailybeast     306.557522\n",
       "9          latimes     268.193617\n",
       "23  washingtonpost     247.277907\n",
       "19     theguardian     197.039611\n",
       "3          cbsnews     186.424125\n",
       "5     democracynow     130.030303\n",
       "12         nbcnews     128.662614\n",
       "0          abcnews     121.141903\n",
       "4              cnn      81.692870\n",
       "14         nytimes      64.182460\n",
       "21       thenation      24.437500\n",
       "11           msnbc       6.675676\n",
       "22             vox       3.650943\n",
       "6        economist       1.393939\n",
       "8       jacobinmag       1.333333\n",
       "15        politico       1.316176\n",
       "20    theintercept       1.142857\n",
       "13       newyorker       1.090909\n",
       "10     motherjones       1.014085\n",
       "7         huffpost       1.013889"
      ]
     },
     "execution_count": 19,
     "metadata": {},
     "output_type": "execute_result"
    }
   ],
   "source": [
    "left_average_score =  posts_left.groupby(\"base_domain\")['score'].mean().reset_index(name=\"average_score\").sort_values(['average_score'], ascending=False) \n",
    "print(\"Top 20 average scores by domain for left leaning outlets:\\n\\n\")\n",
    "left_average_score.head(20)"
   ]
  },
  {
   "cell_type": "code",
   "execution_count": 20,
   "metadata": {
    "colab": {
     "base_uri": "https://localhost:8080/",
     "height": 364
    },
    "colab_type": "code",
    "executionInfo": {
     "elapsed": 79865,
     "status": "ok",
     "timestamp": 1575260943884,
     "user": {
      "displayName": "Mansi Ganatra",
      "photoUrl": "",
      "userId": "13427068811170262247"
     },
     "user_tz": 480
    },
    "id": "sOKF8NaMetBB",
    "outputId": "9d310cfa-9760-4a3a-ad4e-baf68e7acc40"
   },
   "outputs": [
    {
     "name": "stdout",
     "output_type": "stream",
     "text": [
      "Top 20 average scores by domain for center leaning outlets:\n",
      "\n",
      "\n"
     ]
    },
    {
     "data": {
      "text/html": [
       "<div>\n",
       "<style scoped>\n",
       "    .dataframe tbody tr th:only-of-type {\n",
       "        vertical-align: middle;\n",
       "    }\n",
       "\n",
       "    .dataframe tbody tr th {\n",
       "        vertical-align: top;\n",
       "    }\n",
       "\n",
       "    .dataframe thead th {\n",
       "        text-align: right;\n",
       "    }\n",
       "</style>\n",
       "<table border=\"1\" class=\"dataframe\">\n",
       "  <thead>\n",
       "    <tr style=\"text-align: right;\">\n",
       "      <th></th>\n",
       "      <th>base_domain</th>\n",
       "      <th>average_score</th>\n",
       "    </tr>\n",
       "  </thead>\n",
       "  <tbody>\n",
       "    <tr>\n",
       "      <th>0</th>\n",
       "      <td>apnews</td>\n",
       "      <td>360.304094</td>\n",
       "    </tr>\n",
       "    <tr>\n",
       "      <th>8</th>\n",
       "      <td>wsj</td>\n",
       "      <td>323.287719</td>\n",
       "    </tr>\n",
       "    <tr>\n",
       "      <th>2</th>\n",
       "      <td>bloomberg</td>\n",
       "      <td>221.278450</td>\n",
       "    </tr>\n",
       "    <tr>\n",
       "      <th>1</th>\n",
       "      <td>bbc</td>\n",
       "      <td>108.606383</td>\n",
       "    </tr>\n",
       "    <tr>\n",
       "      <th>7</th>\n",
       "      <td>usatoday</td>\n",
       "      <td>87.428188</td>\n",
       "    </tr>\n",
       "    <tr>\n",
       "      <th>5</th>\n",
       "      <td>reuters</td>\n",
       "      <td>84.851722</td>\n",
       "    </tr>\n",
       "    <tr>\n",
       "      <th>3</th>\n",
       "      <td>csmonitor</td>\n",
       "      <td>38.175000</td>\n",
       "    </tr>\n",
       "    <tr>\n",
       "      <th>4</th>\n",
       "      <td>npr</td>\n",
       "      <td>20.919241</td>\n",
       "    </tr>\n",
       "    <tr>\n",
       "      <th>6</th>\n",
       "      <td>thehill</td>\n",
       "      <td>1.016077</td>\n",
       "    </tr>\n",
       "  </tbody>\n",
       "</table>\n",
       "</div>"
      ],
      "text/plain": [
       "  base_domain  average_score\n",
       "0      apnews     360.304094\n",
       "8         wsj     323.287719\n",
       "2   bloomberg     221.278450\n",
       "1         bbc     108.606383\n",
       "7    usatoday      87.428188\n",
       "5     reuters      84.851722\n",
       "3   csmonitor      38.175000\n",
       "4         npr      20.919241\n",
       "6     thehill       1.016077"
      ]
     },
     "execution_count": 20,
     "metadata": {},
     "output_type": "execute_result"
    }
   ],
   "source": [
    "center_average_score =  posts_center.groupby(\"base_domain\")['score'].mean().reset_index(name=\"average_score\").sort_values(['average_score'], ascending=False) \n",
    "print(\"Top 20 average scores by domain for center leaning outlets:\\n\\n\")\n",
    "center_average_score.head(20)"
   ]
  },
  {
   "cell_type": "code",
   "execution_count": 21,
   "metadata": {
    "colab": {
     "base_uri": "https://localhost:8080/",
     "height": 364
    },
    "colab_type": "code",
    "executionInfo": {
     "elapsed": 79863,
     "status": "ok",
     "timestamp": 1575260943884,
     "user": {
      "displayName": "Mansi Ganatra",
      "photoUrl": "",
      "userId": "13427068811170262247"
     },
     "user_tz": 480
    },
    "id": "ccn3oUmte3Lw",
    "outputId": "a7277f52-47e5-4f10-91a5-c933fc98cde6"
   },
   "outputs": [
    {
     "name": "stdout",
     "output_type": "stream",
     "text": [
      "Top 20 average scores by domain for social media:\n",
      "\n",
      "\n"
     ]
    },
    {
     "data": {
      "text/html": [
       "<div>\n",
       "<style scoped>\n",
       "    .dataframe tbody tr th:only-of-type {\n",
       "        vertical-align: middle;\n",
       "    }\n",
       "\n",
       "    .dataframe tbody tr th {\n",
       "        vertical-align: top;\n",
       "    }\n",
       "\n",
       "    .dataframe thead th {\n",
       "        text-align: right;\n",
       "    }\n",
       "</style>\n",
       "<table border=\"1\" class=\"dataframe\">\n",
       "  <thead>\n",
       "    <tr style=\"text-align: right;\">\n",
       "      <th></th>\n",
       "      <th>base_domain</th>\n",
       "      <th>average_score</th>\n",
       "    </tr>\n",
       "  </thead>\n",
       "  <tbody>\n",
       "    <tr>\n",
       "      <th>6</th>\n",
       "      <td>yahoo</td>\n",
       "      <td>197.655773</td>\n",
       "    </tr>\n",
       "    <tr>\n",
       "      <th>3</th>\n",
       "      <td>reddit</td>\n",
       "      <td>28.384615</td>\n",
       "    </tr>\n",
       "    <tr>\n",
       "      <th>1</th>\n",
       "      <td>google</td>\n",
       "      <td>1.226776</td>\n",
       "    </tr>\n",
       "    <tr>\n",
       "      <th>0</th>\n",
       "      <td>facebook</td>\n",
       "      <td>1.017964</td>\n",
       "    </tr>\n",
       "    <tr>\n",
       "      <th>5</th>\n",
       "      <td>twitter</td>\n",
       "      <td>1.008562</td>\n",
       "    </tr>\n",
       "    <tr>\n",
       "      <th>8</th>\n",
       "      <td>youtube</td>\n",
       "      <td>1.001051</td>\n",
       "    </tr>\n",
       "    <tr>\n",
       "      <th>7</th>\n",
       "      <td>youtu.be</td>\n",
       "      <td>1.000777</td>\n",
       "    </tr>\n",
       "    <tr>\n",
       "      <th>2</th>\n",
       "      <td>instagram</td>\n",
       "      <td>1.000000</td>\n",
       "    </tr>\n",
       "    <tr>\n",
       "      <th>4</th>\n",
       "      <td>spotify</td>\n",
       "      <td>0.960000</td>\n",
       "    </tr>\n",
       "  </tbody>\n",
       "</table>\n",
       "</div>"
      ],
      "text/plain": [
       "  base_domain  average_score\n",
       "6       yahoo     197.655773\n",
       "3      reddit      28.384615\n",
       "1      google       1.226776\n",
       "0    facebook       1.017964\n",
       "5     twitter       1.008562\n",
       "8     youtube       1.001051\n",
       "7    youtu.be       1.000777\n",
       "2   instagram       1.000000\n",
       "4     spotify       0.960000"
      ]
     },
     "execution_count": 21,
     "metadata": {},
     "output_type": "execute_result"
    }
   ],
   "source": [
    "social_average_score =  posts_social.groupby(\"base_domain\")['score'].mean().reset_index(name=\"average_score\").sort_values(['average_score'], ascending=False) \n",
    "print(\"Top 20 average scores by domain for social media:\\n\\n\")\n",
    "social_average_score.head(20)"
   ]
  },
  {
   "cell_type": "code",
   "execution_count": 22,
   "metadata": {
    "colab": {},
    "colab_type": "code",
    "id": "rmKF2Mxtf1de"
   },
   "outputs": [],
   "source": [
    "average_right_posts_score = posts_right[\"score\"].mean()\n",
    "average_left_posts_score = posts_left[\"score\"].mean()\n",
    "average_center_posts_score = posts_center[\"score\"].mean()\n",
    "average_social_posts_score = posts_social[\"score\"].mean()"
   ]
  },
  {
   "cell_type": "code",
   "execution_count": 23,
   "metadata": {
    "colab": {
     "base_uri": "https://localhost:8080/",
     "height": 168
    },
    "colab_type": "code",
    "executionInfo": {
     "elapsed": 79854,
     "status": "ok",
     "timestamp": 1575260943885,
     "user": {
      "displayName": "Mansi Ganatra",
      "photoUrl": "",
      "userId": "13427068811170262247"
     },
     "user_tz": 480
    },
    "id": "YRouUt_of1dh",
    "outputId": "139c30e0-23f5-4897-9f1e-62384f893e5d"
   },
   "outputs": [
    {
     "name": "stdout",
     "output_type": "stream",
     "text": [
      "Average score of comments for submissions\n",
      "\n",
      "----------------------------------------------------\n",
      "\n",
      "\n",
      "Average score of posts from right leaning outlets:  30.73905240488155\n",
      "Average score of posts from left leaning outlets:  137.34185213127122\n",
      "Average score of posts from center leaning outlets:  95.83001450613214\n",
      "Average score of posts from social media:  7.321527280171972\n"
     ]
    },
    {
     "data": {
      "image/png": "[encoded data removed]",
      "text/plain": [
       "<Figure size 864x720 with 1 Axes>"
      ]
     },
     "metadata": {
      "needs_background": "light"
     },
     "output_type": "display_data"
    }
   ],
   "source": [
    "print(\"Average score of comments for submissions\\n\")\n",
    "print(\"----------------------------------------------------\\n\\n\")\n",
    "\n",
    "print(\"Average score of posts from right leaning outlets: \", average_right_posts_score)\n",
    "print(\"Average score of posts from left leaning outlets: \", average_left_posts_score)\n",
    "print(\"Average score of posts from center leaning outlets: \", average_center_posts_score)\n",
    "print(\"Average score of posts from social media: \", average_social_posts_score)\n",
    "\n",
    "\n",
    "plt.rcParams[\"figure.figsize\"] = (12,10)\n",
    "labels = ['Left', 'Center', 'Right']\n",
    "num_subs = [average_left_posts_score, average_center_posts_score, average_right_posts_score]\n",
    "\n",
    "x = np.arange(len(labels))  # the label locations\n",
    "width = 0.75  # the width of the bars\n",
    "\n",
    "fig, ax = plt.subplots()\n",
    "b1 = ax.bar(x - width/4, num_subs, width, color=['b', 'grey', 'r'])\n",
    "\n",
    "# Add some text for labels, title and custom x-axis tick labels, etc.\n",
    "ax.set_ylabel('Average Score of Submissions', fontsize=40)\n",
    "ax.set_xlabel('Political Leaning',fontsize=40)\n",
    "ax.set_title('r/news',fontsize=50)\n",
    "ax.set_xticks(x)\n",
    "ax.set_xticklabels(labels, fontsize=30)  \n",
    "ax.legend(handles=b1, loc=1, labels=labels)\n",
    "plt.savefig('news/b2.pdf', bbox_inches='tight', pad_inches=0)\n",
    "plt.show()"
   ]
  },
  {
   "cell_type": "code",
   "execution_count": 24,
   "metadata": {
    "colab": {},
    "colab_type": "code",
    "id": "8--1qbZiRN18"
   },
   "outputs": [],
   "source": [
    "comments[\"p_link_id\"] = comments[\"link_id\"].apply(lambda x: x.split(\"_\")[1])"
   ]
  },
  {
   "cell_type": "code",
   "execution_count": 25,
   "metadata": {
    "colab": {
     "base_uri": "https://localhost:8080/",
     "height": 420
    },
    "colab_type": "code",
    "executionInfo": {
     "elapsed": 83796,
     "status": "ok",
     "timestamp": 1575260947844,
     "user": {
      "displayName": "Mansi Ganatra",
      "photoUrl": "",
      "userId": "13427068811170262247"
     },
     "user_tz": 480
    },
    "id": "Z2FASKZ9OXtd",
    "outputId": "8392f2c5-7b16-4d4a-a33c-6444c622faa7"
   },
   "outputs": [
    {
     "name": "stderr",
     "output_type": "stream",
     "text": [
      "C:\\Users\\mansi\\Anaconda3\\lib\\site-packages\\ipykernel_launcher.py:2: SettingWithCopyWarning: \n",
      "A value is trying to be set on a copy of a slice from a DataFrame.\n",
      "Try using .loc[row_indexer,col_indexer] = value instead\n",
      "\n",
      "See the caveats in the documentation: http://pandas.pydata.org/pandas-docs/stable/indexing.html#indexing-view-versus-copy\n",
      "  \n",
      "C:\\Users\\mansi\\Anaconda3\\lib\\site-packages\\ipykernel_launcher.py:5: SettingWithCopyWarning: \n",
      "A value is trying to be set on a copy of a slice from a DataFrame.\n",
      "Try using .loc[row_indexer,col_indexer] = value instead\n",
      "\n",
      "See the caveats in the documentation: http://pandas.pydata.org/pandas-docs/stable/indexing.html#indexing-view-versus-copy\n",
      "  \"\"\"\n",
      "C:\\Users\\mansi\\Anaconda3\\lib\\site-packages\\ipykernel_launcher.py:8: SettingWithCopyWarning: \n",
      "A value is trying to be set on a copy of a slice from a DataFrame.\n",
      "Try using .loc[row_indexer,col_indexer] = value instead\n",
      "\n",
      "See the caveats in the documentation: http://pandas.pydata.org/pandas-docs/stable/indexing.html#indexing-view-versus-copy\n",
      "  \n",
      "C:\\Users\\mansi\\Anaconda3\\lib\\site-packages\\ipykernel_launcher.py:11: SettingWithCopyWarning: \n",
      "A value is trying to be set on a copy of a slice from a DataFrame.\n",
      "Try using .loc[row_indexer,col_indexer] = value instead\n",
      "\n",
      "See the caveats in the documentation: http://pandas.pydata.org/pandas-docs/stable/indexing.html#indexing-view-versus-copy\n",
      "  # This is added back by InteractiveShellApp.init_path()\n"
     ]
    }
   ],
   "source": [
    "comments_right = comments.loc[comments['p_link_id'].isin(posts_right[\"id\"])]\n",
    "comments_right[\"leaning\"] = \"right\"\n",
    "\n",
    "comments_left = comments.loc[comments['p_link_id'].isin(posts_left[\"id\"])]\n",
    "comments_left[\"leaning\"] = \"left\"\n",
    "\n",
    "comments_center = comments.loc[comments['p_link_id'].isin(posts_center[\"id\"])]\n",
    "comments_center[\"leaning\"] = \"center\"\n",
    "\n",
    "comments_social = comments.loc[comments['p_link_id'].isin(posts_social[\"id\"])]\n",
    "comments_social[\"leaning\"] = \"social\""
   ]
  },
  {
   "cell_type": "code",
   "execution_count": 26,
   "metadata": {
    "colab": {
     "base_uri": "https://localhost:8080/",
     "height": 168
    },
    "colab_type": "code",
    "executionInfo": {
     "elapsed": 83792,
     "status": "ok",
     "timestamp": 1575260947844,
     "user": {
      "displayName": "Mansi Ganatra",
      "photoUrl": "",
      "userId": "13427068811170262247"
     },
     "user_tz": 480
    },
    "id": "nOspgXqXfyvW",
    "outputId": "93a8f8e3-8c16-4156-b646-cf2461f6e5f7"
   },
   "outputs": [
    {
     "name": "stdout",
     "output_type": "stream",
     "text": [
      "Average number of comments for submissions\n",
      "\n",
      "----------------------------------------------------\n",
      "\n",
      "\n",
      "Average number of comments per post from right leaning outlets:  16.86934673366834\n",
      "Average number of comments per post from left leaning outlets:  38.6974726518295\n",
      "Average number of comments per post from center leaning outlets:  25.778715547936173\n",
      "Average number of comments per post from social media:  1.9833145664858225\n"
     ]
    },
    {
     "data": {
      "image/png": "[encoded data removed]",
      "text/plain": [
       "<Figure size 864x720 with 1 Axes>"
      ]
     },
     "metadata": {
      "needs_background": "light"
     },
     "output_type": "display_data"
    }
   ],
   "source": [
    "print(\"Average number of comments for submissions\\n\")\n",
    "print(\"----------------------------------------------------\\n\\n\")\n",
    "\n",
    "print(\"Average number of comments per post from right leaning outlets: \", str(len(comments_right)/len(posts_right)))\n",
    "print(\"Average number of comments per post from left leaning outlets: \", str(len(comments_left)/len(posts_left)))\n",
    "print(\"Average number of comments per post from center leaning outlets: \", str(len(comments_center)/len(posts_center)))\n",
    "print(\"Average number of comments per post from social media: \", str(len(comments_social)/len(posts_social)))\n",
    "\n",
    "\n",
    "\n",
    "plt.rcParams[\"figure.figsize\"] = (12,10)\n",
    "labels = ['Left', 'Center', 'Right']\n",
    "num_subs = [len(comments_left)/len(posts_left), len(comments_center)/len(posts_center), len(comments_right)/len(posts_right)]\n",
    "\n",
    "x = np.arange(len(labels))  # the label locations\n",
    "width = 0.75  # the width of the bars\n",
    "\n",
    "fig, ax = plt.subplots()\n",
    "b1 = ax.bar(x - width/4, num_subs, width, color=['b', 'grey', 'r'])\n",
    "\n",
    "# Add some text for labels, title and custom x-axis tick labels, etc.\n",
    "ax.set_ylabel('Average number of comments on submissions', fontsize=20)\n",
    "ax.set_xlabel('Political Leaning',fontsize=40)\n",
    "ax.set_title('r/news',fontsize=50)\n",
    "ax.set_xticks(x)\n",
    "ax.set_xticklabels(labels, fontsize=30)  \n",
    "ax.legend(handles=b1, loc=1, labels=labels)\n",
    "plt.savefig('news/n3.pdf', bbox_inches='tight', pad_inches=0)\n",
    "plt.show()"
   ]
  },
  {
   "cell_type": "code",
   "execution_count": 27,
   "metadata": {
    "colab": {},
    "colab_type": "code",
    "id": "HkBJvJ_3-Qpi"
   },
   "outputs": [],
   "source": [
    "average_right_comments_score = comments_right[\"score\"].mean()\n",
    "average_left_comments_score = comments_left[\"score\"].mean()\n",
    "average_center_comments_score = comments_center[\"score\"].mean()\n",
    "average_social_comments_score = comments_social[\"score\"].mean()"
   ]
  },
  {
   "cell_type": "code",
   "execution_count": 28,
   "metadata": {
    "colab": {
     "base_uri": "https://localhost:8080/",
     "height": 168
    },
    "colab_type": "code",
    "executionInfo": {
     "elapsed": 83783,
     "status": "ok",
     "timestamp": 1575260947847,
     "user": {
      "displayName": "Mansi Ganatra",
      "photoUrl": "",
      "userId": "13427068811170262247"
     },
     "user_tz": 480
    },
    "id": "NTvdtogvABwR",
    "outputId": "57b2d047-c2e8-46b6-ba82-0427470765dd"
   },
   "outputs": [
    {
     "name": "stdout",
     "output_type": "stream",
     "text": [
      "Average score of comments for submissions\n",
      "\n",
      "----------------------------------------------------\n",
      "\n",
      "\n",
      "Average score of comments on posts from right leaning outlets:  9.96025362781395\n",
      "Average score of comments on posts from left leaning outlets:  9.154200824665894\n",
      "Average score of comments on posts from center leaning outlets:  9.89926335174954\n",
      "Average score of comments on posts from social media:  9.133075268817205\n"
     ]
    },
    {
     "data": {
      "image/png": "[encoded data removed]",
      "text/plain": [
       "<Figure size 864x720 with 1 Axes>"
      ]
     },
     "metadata": {
      "needs_background": "light"
     },
     "output_type": "display_data"
    }
   ],
   "source": [
    "print(\"Average score of comments for submissions\\n\")\n",
    "print(\"----------------------------------------------------\\n\\n\")\n",
    "\n",
    "print(\"Average score of comments on posts from right leaning outlets: \", average_right_comments_score)\n",
    "print(\"Average score of comments on posts from left leaning outlets: \", average_left_comments_score)\n",
    "print(\"Average score of comments on posts from center leaning outlets: \", average_center_comments_score)\n",
    "print(\"Average score of comments on posts from social media: \", average_social_comments_score)\n",
    "\n",
    "plt.rcParams[\"figure.figsize\"] = (12,10)\n",
    "labels = ['Left', 'Center', 'Right']\n",
    "num_subs = [average_left_comments_score, average_center_comments_score, average_right_comments_score]\n",
    "\n",
    "x = np.arange(len(labels))  # the label locations\n",
    "width = 0.75  # the width of the bars\n",
    "\n",
    "fig, ax = plt.subplots()\n",
    "b1 = ax.bar(x - width/4, num_subs, width, color=['b', 'grey', 'r'])\n",
    "\n",
    "# Add some text for labels, title and custom x-axis tick labels, etc.\n",
    "ax.set_ylabel('Average score of comments on submissions', fontsize=20)\n",
    "ax.set_xlabel('Political Leaning',fontsize=40)\n",
    "ax.set_title('r/news',fontsize=50)\n",
    "ax.set_xticks(x)\n",
    "ax.set_xticklabels(labels, fontsize=30)  \n",
    "\n",
    "ax.legend(handles=b1, loc=1, labels=labels)\n",
    "plt.savefig('news/n4.pdf', bbox_inches='tight', pad_inches=0)\n",
    "plt.show()"
   ]
  },
  {
   "cell_type": "code",
   "execution_count": 29,
   "metadata": {},
   "outputs": [],
   "source": [
    "posts_right_by_date = posts_right.groupby(\"date\").count()[\"id\"].reset_index(name=\"counts\")\n",
    "posts_left_by_date = posts_left.groupby(\"date\").count()[\"id\"].reset_index(name=\"counts\")\n",
    "posts_center_by_date = posts_center.groupby(\"date\").count()[\"id\"].reset_index(name=\"counts\")\n",
    "posts_social_by_date = posts_social.groupby(\"date\").count()[\"id\"].reset_index(name=\"count\")"
   ]
  },
  {
   "cell_type": "code",
   "execution_count": 30,
   "metadata": {},
   "outputs": [
    {
     "name": "stderr",
     "output_type": "stream",
     "text": [
      "C:\\Users\\mansi\\Anaconda3\\lib\\site-packages\\pandas\\plotting\\_converter.py:129: FutureWarning: Using an implicitly registered datetime converter for a matplotlib plotting method. The converter was registered by pandas on import. Future versions of pandas will require you to explicitly register matplotlib converters.\n",
      "\n",
      "To register the converters:\n",
      "\t>>> from pandas.plotting import register_matplotlib_converters\n",
      "\t>>> register_matplotlib_converters()\n",
      "  warnings.warn(msg, FutureWarning)\n"
     ]
    },
    {
     "data": {
      "image/png": "[encoded data removed]",
      "text/plain": [
       "<Figure size 1440x720 with 1 Axes>"
      ]
     },
     "metadata": {
      "needs_background": "light"
     },
     "output_type": "display_data"
    }
   ],
   "source": [
    "# posts_right_by_date.plot.line(x=\"date\", y =\"counts\", subplots=True)\n",
    "\n",
    "import matplotlib.dates as mdates\n",
    "from scipy.ndimage.filters import gaussian_filter1d\n",
    "\n",
    "plt.rcParams[\"figure.figsize\"] = (20,10)\n",
    "fig = plt.figure()\n",
    "\n",
    "# plt.xlim(0,18000)\n",
    "# plt.ylim(0,30)\n",
    "\n",
    "labels= []\n",
    "\n",
    "# months = mdates.MonthLocator(range(10, 13), bymonthday=1, interval=15)\n",
    "# monthsFmt = mdates.DateFormatter(\"%d-%m-'%y\")\n",
    "# ax.xaxis.set_major_locator(months) #adding this makes the month ints disapper\n",
    "# ax.xaxis.set_major_formatter(monthsFmt)\n",
    "# handles, labels = ax.get_legend_handles_labels() #legend is nowhere on the plot\n",
    "# ax.legend(handles, labels)\n",
    "\n",
    "ax.set_ylabel('Average score of comments on submissions', fontsize=20)\n",
    "ax.set_xlabel('Political Leaning',fontsize=40)\n",
    "ax.set_title('r/politics',fontsize=50)\n",
    "ax.set_xticks(x)\n",
    "ax.set_xticklabels(labels, rotation='vertical')\n",
    "ax.legend(['left', 'center', 'right'], loc=\"best\")\n",
    "\n",
    "plt.plot(posts_left_by_date['date'], gaussian_filter1d(posts_left_by_date['counts'], sigma=2), color='b')\n",
    "plt.plot(posts_center_by_date['date'], gaussian_filter1d(posts_center_by_date['counts'], sigma=2), color='grey')\n",
    "plt.plot(posts_right_by_date['date'], gaussian_filter1d(posts_right_by_date['counts'], sigma=2), color='r')\n",
    "\n",
    "plt.show()"
   ]
  },
  {
   "cell_type": "code",
   "execution_count": 31,
   "metadata": {},
   "outputs": [],
   "source": [
    "submissions[[\"date\", \"id\", \"leaning\"]].groupby([\"date\", \"leaning\"]).count()[\"id\"].reset_index(name=\"counts\").to_csv(\"subs_n.csv\", index=False)"
   ]
  },
  {
   "cell_type": "code",
   "execution_count": 32,
   "metadata": {
    "colab": {},
    "colab_type": "code",
    "id": "j2prtXaFh7QC"
   },
   "outputs": [],
   "source": [
    "average_right_controversiality_score = comments_right[\"controversiality\"].mean()\n",
    "average_left_controversiality_score = comments_left[\"controversiality\"].mean()\n",
    "average_center_controversiality_score = comments_center[\"controversiality\"].mean()\n",
    "average_social_controversiality_score = comments_social[\"controversiality\"].mean()"
   ]
  },
  {
   "cell_type": "code",
   "execution_count": 33,
   "metadata": {
    "colab": {
     "base_uri": "https://localhost:8080/",
     "height": 168
    },
    "colab_type": "code",
    "executionInfo": {
     "elapsed": 83773,
     "status": "ok",
     "timestamp": 1575260947848,
     "user": {
      "displayName": "Mansi Ganatra",
      "photoUrl": "",
      "userId": "13427068811170262247"
     },
     "user_tz": 480
    },
    "id": "_fXrsh53h7QJ",
    "outputId": "603c4741-4bb8-4b27-b13d-150b89156df9"
   },
   "outputs": [
    {
     "name": "stdout",
     "output_type": "stream",
     "text": [
      "Average controversiality score of comments for submissions\n",
      "\n",
      "----------------------------------------------------\n",
      "\n",
      "\n",
      "Average controversiality score of comments on posts from right leaning outlets:  0.06544959359972764\n",
      "Average controversiality score of comments on posts from left leaning outlets:  0.07269439597609834\n",
      "Average controversiality score of comments on posts from center leaning outlets:  0.07453959484346225\n",
      "Average controversiality score of comments on posts from social media:  0.07275698924731183\n"
     ]
    }
   ],
   "source": [
    "print(\"Average controversiality score of comments for submissions\\n\")\n",
    "print(\"----------------------------------------------------\\n\\n\")\n",
    "\n",
    "print(\"Average controversiality score of comments on posts from right leaning outlets: \", average_right_controversiality_score)\n",
    "print(\"Average controversiality score of comments on posts from left leaning outlets: \", average_left_controversiality_score)\n",
    "print(\"Average controversiality score of comments on posts from center leaning outlets: \", average_center_controversiality_score)\n",
    "print(\"Average controversiality score of comments on posts from social media: \", average_social_controversiality_score)"
   ]
  },
  {
   "cell_type": "code",
   "execution_count": 34,
   "metadata": {
    "colab": {},
    "colab_type": "code",
    "id": "e0tNM-cCj0WA"
   },
   "outputs": [],
   "source": [
    "## Occurence of left leaning entities in title\n",
    "right_keywords = [\"donald\", \"trump\", \"republican\", \"gop\"]\n",
    "left_keywords = [\"hillary\", \"clinton\", \"democrat\", \"dnc\"]\n",
    "\n",
    "total_score_right = 0\n",
    "total_score_left = 0\n",
    "\n",
    "count_right_in_right = posts_right.loc[posts_right[\"title\"].apply(lambda x: any(s in x for s in right_keywords))].count()[\"id\"]\n",
    "total_score_right += posts_right.loc[posts_right[\"title\"].apply(lambda x: any(s in x for s in right_keywords))][\"score\"].sum()\n",
    "count_left_in_right =  posts_right.loc[posts_right[\"title\"].apply(lambda x: any(s in x for s in left_keywords))].count()[\"id\"]\n",
    "total_score_left += posts_right.loc[posts_right[\"title\"].apply(lambda x: any(s in x for s in left_keywords))][\"score\"].sum()\n",
    "\n",
    "count_right_in_left = posts_left.loc[posts_left[\"title\"].apply(lambda x: any(s in x for s in right_keywords))].count()[\"id\"]\n",
    "total_score_right += posts_left.loc[posts_left[\"title\"].apply(lambda x: any(s in x for s in right_keywords))][\"score\"].sum()\n",
    "count_left_in_left =  posts_left.loc[posts_left[\"title\"].apply(lambda x: any(s in x for s in left_keywords))].count()[\"id\"]\n",
    "total_score_left += posts_left.loc[posts_left[\"title\"].apply(lambda x: any(s in x for s in left_keywords))][\"score\"].sum()\n",
    "\n",
    "count_right_in_center = posts_center.loc[posts_center[\"title\"].apply(lambda x: any(s in x for s in right_keywords))].count()[\"id\"]\n",
    "total_score_right += posts_center.loc[posts_center[\"title\"].apply(lambda x: any(s in x for s in right_keywords))][\"score\"].sum()\n",
    "count_left_in_center = posts_center.loc[posts_center[\"title\"].apply(lambda x: any(s in x for s in left_keywords))].count()[\"id\"]\n",
    "total_score_left += posts_center.loc[posts_center[\"title\"].apply(lambda x: any(s in x for s in left_keywords))][\"score\"].sum()\n",
    "\n",
    "count_right_in_social = posts_social.loc[posts_social[\"title\"].apply(lambda x: any(s in x for s in right_keywords))].count()[\"id\"]\n",
    "total_score_right += posts_social.loc[posts_social[\"title\"].apply(lambda x: any(s in x for s in right_keywords))][\"score\"].sum()\n",
    "count_left_in_social = posts_social.loc[posts_social[\"title\"].apply(lambda x: any(s in x for s in left_keywords))].count()[\"id\"]\n",
    "total_score_left += posts_left.loc[posts_left[\"title\"].apply(lambda x: any(s in x for s in left_keywords))][\"score\"].sum()\n",
    "\n",
    "total_length = len(all_included_posts)\n",
    "average_score_right = total_score_right / total_length\n",
    "average_score_left = total_score_left / total_length"
   ]
  },
  {
   "cell_type": "code",
   "execution_count": 35,
   "metadata": {
    "colab": {
     "base_uri": "https://localhost:8080/",
     "height": 370
    },
    "colab_type": "code",
    "executionInfo": {
     "elapsed": 84123,
     "status": "ok",
     "timestamp": 1575260948205,
     "user": {
      "displayName": "Mansi Ganatra",
      "photoUrl": "",
      "userId": "13427068811170262247"
     },
     "user_tz": 480
    },
    "id": "lpjNMf8-NS5e",
    "outputId": "e64b3b00-877f-432d-b198-0ba8c68b3c41"
   },
   "outputs": [
    {
     "name": "stdout",
     "output_type": "stream",
     "text": [
      "Right leaning words:  ['donald', 'trump', 'republican', 'gop']\n",
      "Number of mentions of right leaning words in right leaning posts:  4\n",
      "Number of mentions of right leaning words in left leaning posts:  16\n",
      "Number of mentions of right leaning words in center leaning posts:  3\n",
      "Number of mentions of right leaning words in social media posts:  75\n",
      "\n",
      "\n",
      "Average score of posts with right leaning words:  0.0029634049323786792\n",
      "\n",
      "\n",
      "---------------------------------------------------------------------------------------------------\n",
      "\n",
      "\n",
      "Left leaning words:  ['hillary', 'clinton', 'democrat', 'dnc']\n",
      "Number of mentions of left leaning words in right leaning posts:  4\n",
      "Number of mentions of left leaning words in left leaning posts:  3\n",
      "Number of mentions of left leaning words in center leaning posts:  2\n",
      "Number of mentions of left leaning words in social media posts:  17\n",
      "\n",
      "\n",
      "Average score of posts with left leaning words:  0.0002983293556085919\n"
     ]
    }
   ],
   "source": [
    "print(\"Right leaning words: \", right_keywords)\n",
    "print(\"Number of mentions of right leaning words in right leaning posts: \", count_right_in_right)\n",
    "print(\"Number of mentions of right leaning words in left leaning posts: \", count_right_in_left)\n",
    "print(\"Number of mentions of right leaning words in center leaning posts: \", count_right_in_center)\n",
    "print(\"Number of mentions of right leaning words in social media posts: \", count_right_in_social)\n",
    "print(\"\\n\")\n",
    "print(\"Average score of posts with right leaning words: \", average_score_right)\n",
    "\n",
    "\n",
    "\n",
    "\n",
    "print(\"\\n\\n---------------------------------------------------------------------------------------------------\\n\\n\")\n",
    "\n",
    "print(\"Left leaning words: \", left_keywords)\n",
    "print(\"Number of mentions of left leaning words in right leaning posts: \", count_left_in_right)\n",
    "print(\"Number of mentions of left leaning words in left leaning posts: \", count_left_in_left)\n",
    "print(\"Number of mentions of left leaning words in center leaning posts: \", count_left_in_center)\n",
    "print(\"Number of mentions of left leaning words in social media posts: \", count_left_in_social)\n",
    "print(\"\\n\")\n",
    "print(\"Average score of posts with left leaning words: \", average_score_left)"
   ]
  },
  {
   "cell_type": "code",
   "execution_count": 36,
   "metadata": {
    "colab": {},
    "colab_type": "code",
    "id": "RSS63BTIgrfl"
   },
   "outputs": [],
   "source": [
    "from datetime import datetime\n",
    "import matplotlib.pyplot as plt\n",
    "import numpy as np\n",
    "from sklearn import datasets, linear_model\n",
    "from sklearn.metrics import mean_squared_error, r2_score, accuracy_score\n",
    "from sklearn.model_selection import train_test_split\n",
    "from sklearn.model_selection import KFold\n",
    "from math import sqrt"
   ]
  },
  {
   "cell_type": "code",
   "execution_count": 37,
   "metadata": {
    "colab": {
     "base_uri": "https://localhost:8080/",
     "height": 185
    },
    "colab_type": "code",
    "executionInfo": {
     "elapsed": 85110,
     "status": "ok",
     "timestamp": 1575260949204,
     "user": {
      "displayName": "Mansi Ganatra",
      "photoUrl": "",
      "userId": "13427068811170262247"
     },
     "user_tz": 480
    },
    "id": "p6aoiA2Tg6qB",
    "outputId": "18b3c2ba-b05c-4ec1-9743-7569b9094f87"
   },
   "outputs": [
    {
     "data": {
      "text/plain": [
       "Index(['archived', 'author', 'author_flair_css_class', 'author_flair_text',\n",
       "       'contest_mode', 'created_utc', 'distinguished', 'domain', 'downs',\n",
       "       'edited', 'gilded', 'hide_score', 'id', 'is_self',\n",
       "       'link_flair_css_class', 'link_flair_text', 'locked', 'media',\n",
       "       'media_embed', 'name', 'num_comments', 'over_18', 'permalink',\n",
       "       'post_hint', 'preview', 'quarantine', 'retrieved_on', 'saved', 'score',\n",
       "       'secure_media', 'secure_media_embed', 'selftext', 'spoiler', 'stickied',\n",
       "       'subreddit', 'subreddit_id', 'thumbnail', 'title', 'ups', 'url',\n",
       "       'leaning', 'base_domain', 'full_date', 'date'],\n",
       "      dtype='object')"
      ]
     },
     "execution_count": 37,
     "metadata": {},
     "output_type": "execute_result"
    }
   ],
   "source": [
    "submissions.columns"
   ]
  },
  {
   "cell_type": "code",
   "execution_count": 38,
   "metadata": {},
   "outputs": [
    {
     "data": {
      "text/plain": [
       "22831"
      ]
     },
     "execution_count": 38,
     "metadata": {},
     "output_type": "execute_result"
    }
   ],
   "source": [
    "domain_post_frequency[domain_post_frequency[\"base_domain\"]==\"foxnews\"][\"count\"]\n",
    "\n",
    "domain_post_frequency_dict = domain_post_frequency.set_index('base_domain').T.to_dict()\n",
    "domain_post_frequency_dict.get(\"youtube\").get(\"count\")"
   ]
  },
  {
   "cell_type": "code",
   "execution_count": 39,
   "metadata": {},
   "outputs": [],
   "source": [
    "def get_count(domain):\n",
    "    if domain in domain_post_frequency_dict.keys():\n",
    "        return domain_post_frequency_dict.get(domain).get(\"count\")\n",
    "    else:\n",
    "        return 0\n",
    "    "
   ]
  },
  {
   "cell_type": "code",
   "execution_count": 40,
   "metadata": {
    "colab": {},
    "colab_type": "code",
    "id": "GILCufz0h1F3"
   },
   "outputs": [],
   "source": [
    "submissions[\"full_date\"] =  submissions[\"created_utc\"].apply(lambda x: datetime.fromtimestamp(x))\n",
    "submissions[\"date\"] = submissions[\"full_date\"].dt.date\n",
    "# submissions[\"time\"] = submissions[\"full_date\"].str.split(\" \")[1]\n",
    "# submissions[\"year\"] =  pd.DatetimeIndex(submissions[\"date\"]).year\n",
    "# submissions[\"month\"] =  pd.DatetimeIndex(submissions[\"date\"]).month\n",
    "# submissions[\"day\"] =  pd.DatetimeIndex(submissions[\"date\"]).day\n",
    "# submissions[\"week\"] =  pd.DatetimeIndex(submissions[\"date\"]).week\n",
    "\n",
    "submissions[\"hour\"] =  pd.DatetimeIndex(submissions[\"full_date\"]).hour\n",
    "submissions[\"title\"] =  submissions[\"title\"].apply(lambda x: x.lower())\n",
    "\n",
    "submissions[\"history\"] = submissions[\"base_domain\"].apply(lambda x: get_count(x))\n",
    "# submissions[\"min\"] =  pd.DatetimeIndex(submissions[\"time\"]).minute\n",
    "\n",
    "# submissions[[\"hour\"]]"
   ]
  },
  {
   "cell_type": "code",
   "execution_count": 41,
   "metadata": {},
   "outputs": [
    {
     "data": {
      "text/plain": [
       "Index(['archived', 'author', 'author_flair_css_class', 'author_flair_text',\n",
       "       'contest_mode', 'created_utc', 'distinguished', 'domain', 'downs',\n",
       "       'edited', 'gilded', 'hide_score', 'id', 'is_self',\n",
       "       'link_flair_css_class', 'link_flair_text', 'locked', 'media',\n",
       "       'media_embed', 'name', 'num_comments', 'over_18', 'permalink',\n",
       "       'post_hint', 'preview', 'quarantine', 'retrieved_on', 'saved', 'score',\n",
       "       'secure_media', 'secure_media_embed', 'selftext', 'spoiler', 'stickied',\n",
       "       'subreddit', 'subreddit_id', 'thumbnail', 'title', 'ups', 'url',\n",
       "       'leaning', 'base_domain', 'full_date', 'date', 'hour', 'history'],\n",
       "      dtype='object')"
      ]
     },
     "execution_count": 41,
     "metadata": {},
     "output_type": "execute_result"
    }
   ],
   "source": [
    "submissions.columns"
   ]
  },
  {
   "cell_type": "code",
   "execution_count": 42,
   "metadata": {},
   "outputs": [
    {
     "data": {
      "text/plain": [
       "0      413\n",
       "1      272\n",
       "2     1830\n",
       "3    22831\n",
       "4        0\n",
       "Name: history, dtype: int64"
      ]
     },
     "execution_count": 42,
     "metadata": {},
     "output_type": "execute_result"
    }
   ],
   "source": [
    "submissions[\"history\"].head()"
   ]
  },
  {
   "cell_type": "code",
   "execution_count": 43,
   "metadata": {},
   "outputs": [],
   "source": [
    "embeddings = {}\n",
    "\n",
    "with open('glove.6B.50d.txt',encoding=\"utf8\") as f:\n",
    "    lines = f.read().strip().split('\\n')\n",
    "    for line in lines:\n",
    "        word = line.split()[0]\n",
    "        vector = np.array(line.split()[1:], dtype=np.float)\n",
    "        embeddings[word] = vector"
   ]
  },
  {
   "cell_type": "code",
   "execution_count": 44,
   "metadata": {},
   "outputs": [],
   "source": [
    "def get_embeddings(title):\n",
    "    pattern = re.compile('[\\W_]+')\n",
    "    s = \"this is a sample sentence?\"\n",
    "    tokens = pattern.sub(' ', title).lower().split()\n",
    "    title_embed = np.array([embeddings[word] for word in tokens if word in embeddings])\n",
    "    avg_title_embed = np.mean(title_embed, axis=0)\n",
    "#     print(\"Returning: \", avg_title_embed)\n",
    "    return avg_title_embed"
   ]
  },
  {
   "cell_type": "code",
   "execution_count": 45,
   "metadata": {},
   "outputs": [],
   "source": [
    "def get_time_of_day(hour):\n",
    "    if hour >=0 and hour<=6:\n",
    "        return \"night\"\n",
    "    elif hour>6  and hour<=12:\n",
    "        return \"morning\"\n",
    "    elif hour>12 and hour<=18:\n",
    "        return \"noon\"\n",
    "    elif hour>18 and hour<=24:\n",
    "        return \"evening\""
   ]
  },
  {
   "cell_type": "code",
   "execution_count": 46,
   "metadata": {},
   "outputs": [],
   "source": [
    "submissions[\"tod\"] = submissions[\"hour\"].apply(lambda x: get_time_of_day(x))"
   ]
  },
  {
   "cell_type": "code",
   "execution_count": 47,
   "metadata": {},
   "outputs": [],
   "source": [
    "from scipy.stats import pearsonr\n",
    "import pandas as pd\n",
    "\n",
    "def calculate_pvalues(df):\n",
    "    df = df.dropna()._get_numeric_data()\n",
    "    dfcols = pd.DataFrame(columns=df.columns)\n",
    "    pvalues = dfcols.transpose().join(dfcols, how='outer')\n",
    "    for r in df.columns:\n",
    "        for c in df.columns:\n",
    "            pvalues[r][c] = round(pearsonr(df[r], df[c])[1], 4)\n",
    "    return pvalues"
   ]
  },
  {
   "cell_type": "code",
   "execution_count": 71,
   "metadata": {},
   "outputs": [
    {
     "name": "stdout",
     "output_type": "stream",
     "text": [
      "              num_comments      hour     score   history  is_center   is_left  \\\n",
      "num_comments      1.000000 -0.001176  0.727993 -0.016346   0.019609  0.041588   \n",
      "hour             -0.001176  1.000000 -0.001809 -0.011065   0.009673  0.039441   \n",
      "score             0.727993 -0.001809  1.000000 -0.014298   0.015287  0.030765   \n",
      "history          -0.016346 -0.011065 -0.014298  1.000000  -0.033992 -0.048095   \n",
      "is_center         0.019609  0.009673  0.015287 -0.033992   1.000000 -0.047187   \n",
      "is_left           0.041588  0.039441  0.030765 -0.048095  -0.047187  1.000000   \n",
      "is_other         -0.017706 -0.026730 -0.010267 -0.667153  -0.342343 -0.408063   \n",
      "is_right          0.005417  0.013572 -0.000726 -0.037415  -0.023700 -0.028250   \n",
      "is_social        -0.017034 -0.001944 -0.014927  0.879364  -0.082653 -0.098520   \n",
      "is_evening       -0.013927  0.783361 -0.013224 -0.042295  -0.046876 -0.041154   \n",
      "is_morning        0.012544 -0.092670  0.011487  0.075451   0.065764  0.070377   \n",
      "is_night         -0.007270 -0.811668 -0.006579 -0.032683  -0.055273 -0.090437   \n",
      "is_noon           0.011385  0.274146  0.010866  0.005776   0.052134  0.086810   \n",
      "\n",
      "              is_other  is_right  is_social  is_evening  is_morning  is_night  \\\n",
      "num_comments -0.017706  0.005417  -0.017034   -0.013927    0.012544 -0.007270   \n",
      "hour         -0.026730  0.013572  -0.001944    0.783361   -0.092670 -0.811668   \n",
      "score        -0.010267 -0.000726  -0.014927   -0.013224    0.011487 -0.006579   \n",
      "history      -0.667153 -0.037415   0.879364   -0.042295    0.075451 -0.032683   \n",
      "is_center    -0.342343 -0.023700  -0.082653   -0.046876    0.065764 -0.055273   \n",
      "is_left      -0.408063 -0.028250  -0.098520   -0.041154    0.070377 -0.090437   \n",
      "is_other      1.000000 -0.204956  -0.714768    0.081900   -0.136201  0.115948   \n",
      "is_right     -0.204956  1.000000  -0.049483   -0.027178    0.039055 -0.041392   \n",
      "is_social    -0.714768 -0.049483   1.000000   -0.040016    0.073942 -0.041285   \n",
      "is_evening    0.081900 -0.027178  -0.040016    1.000000   -0.301281 -0.431726   \n",
      "is_morning   -0.136201  0.039055   0.073942   -0.301281    1.000000 -0.423608   \n",
      "is_night      0.115948 -0.041392  -0.041285   -0.431726   -0.423608  1.000000   \n",
      "is_noon      -0.092329  0.041548   0.016265   -0.241105   -0.236572 -0.338999   \n",
      "\n",
      "               is_noon  \n",
      "num_comments  0.011385  \n",
      "hour          0.274146  \n",
      "score         0.010866  \n",
      "history       0.005776  \n",
      "is_center     0.052134  \n",
      "is_left       0.086810  \n",
      "is_other     -0.092329  \n",
      "is_right      0.041548  \n",
      "is_social     0.016265  \n",
      "is_evening   -0.241105  \n",
      "is_morning   -0.236572  \n",
      "is_night     -0.338999  \n",
      "is_noon       1.000000  \n",
      "\n",
      "\n",
      "******************************************************************\n",
      "\n",
      "\n",
      "             num_comments    hour   score history is_center is_left is_other  \\\n",
      "num_comments            0  0.5996       0       0         0       0        0   \n",
      "hour               0.5996       0  0.4195       0         0       0        0   \n",
      "score                   0  0.4195       0       0         0       0        0   \n",
      "history                 0       0       0       0         0       0        0   \n",
      "is_center               0       0       0       0         0       0        0   \n",
      "is_left                 0       0       0       0         0       0        0   \n",
      "is_other                0       0       0       0         0       0        0   \n",
      "is_right           0.0156       0  0.7459       0         0       0        0   \n",
      "is_social               0  0.3858       0       0         0       0        0   \n",
      "is_evening              0       0       0       0         0       0        0   \n",
      "is_morning              0       0       0       0         0       0        0   \n",
      "is_night           0.0012       0  0.0033       0         0       0        0   \n",
      "is_noon                 0       0       0  0.0099         0       0        0   \n",
      "\n",
      "             is_right is_social is_evening is_morning is_night is_noon  \n",
      "num_comments   0.0156         0          0          0   0.0012       0  \n",
      "hour                0    0.3858          0          0        0       0  \n",
      "score          0.7459         0          0          0   0.0033       0  \n",
      "history             0         0          0          0        0  0.0099  \n",
      "is_center           0         0          0          0        0       0  \n",
      "is_left             0         0          0          0        0       0  \n",
      "is_other            0         0          0          0        0       0  \n",
      "is_right            0         0          0          0        0       0  \n",
      "is_social           0         0          0          0        0       0  \n",
      "is_evening          0         0          0          0        0       0  \n",
      "is_morning          0         0          0          0        0       0  \n",
      "is_night            0         0          0          0        0       0  \n",
      "is_noon             0         0          0          0        0       0  \n"
     ]
    }
   ],
   "source": [
    "plt.rcParams[\"figure.figsize\"] = (20,10)\n",
    "\n",
    "xx = submissions[[\"num_comments\", \"title\", \"hour\", \"leaning\", \"score\", \"history\", \"tod\"]]\n",
    "\n",
    "leaning_dummies = pd.get_dummies(xx[\"leaning\"], prefix=\"is\")\n",
    "xx= pd.concat([xx, leaning_dummies], axis=1)\n",
    "xx.drop(\"leaning\", axis=1, inplace=True)\n",
    "\n",
    "\n",
    "tod_dummies = pd.get_dummies(xx[\"tod\"], prefix=\"is\")\n",
    "xx= pd.concat([xx, tod_dummies], axis=1)\n",
    "xx.drop(\"tod\", axis=1, inplace=True)\n",
    "\n",
    "# print(len(X))\n",
    "\n",
    "# print(xx.corr(method=\"pearson\"))\n",
    "# plt.matshow(xx.corr(method=\"pearson\"))\n",
    "# plt.show()\n",
    "print(xx.corr())\n",
    "\n",
    "print(\"\\n\\n******************************************************************\\n\\n\")\n",
    "print(calculate_pvalues(xx))\n",
    "\n",
    "corrs = xx.corr()\n",
    "pvalues = calculate_pvalues(xx)\n",
    "\n",
    "corrs.to_csv(\"corrs.csv\",index=False)\n",
    "\n",
    "pvalues.to_csv(\"pvalues.csv\", index=False)\n"
   ]
  },
  {
   "cell_type": "code",
   "execution_count": 81,
   "metadata": {},
   "outputs": [
    {
     "data": {
      "text/html": [
       "<div>\n",
       "<style scoped>\n",
       "    .dataframe tbody tr th:only-of-type {\n",
       "        vertical-align: middle;\n",
       "    }\n",
       "\n",
       "    .dataframe tbody tr th {\n",
       "        vertical-align: top;\n",
       "    }\n",
       "\n",
       "    .dataframe thead th {\n",
       "        text-align: right;\n",
       "    }\n",
       "</style>\n",
       "<table border=\"1\" class=\"dataframe\">\n",
       "  <thead>\n",
       "    <tr style=\"text-align: right;\">\n",
       "      <th></th>\n",
       "      <th>num_comments</th>\n",
       "      <th>title</th>\n",
       "      <th>leaning</th>\n",
       "      <th>score</th>\n",
       "      <th>history</th>\n",
       "      <th>tod</th>\n",
       "    </tr>\n",
       "    <tr>\n",
       "      <th>hour</th>\n",
       "      <th></th>\n",
       "      <th></th>\n",
       "      <th></th>\n",
       "      <th></th>\n",
       "      <th></th>\n",
       "      <th></th>\n",
       "    </tr>\n",
       "  </thead>\n",
       "  <tbody>\n",
       "    <tr>\n",
       "      <th>0</th>\n",
       "      <td>10638</td>\n",
       "      <td>10638</td>\n",
       "      <td>10638</td>\n",
       "      <td>10638</td>\n",
       "      <td>10638</td>\n",
       "      <td>10638</td>\n",
       "    </tr>\n",
       "    <tr>\n",
       "      <th>1</th>\n",
       "      <td>11603</td>\n",
       "      <td>11603</td>\n",
       "      <td>11603</td>\n",
       "      <td>11603</td>\n",
       "      <td>11603</td>\n",
       "      <td>11603</td>\n",
       "    </tr>\n",
       "    <tr>\n",
       "      <th>2</th>\n",
       "      <td>12496</td>\n",
       "      <td>12496</td>\n",
       "      <td>12496</td>\n",
       "      <td>12496</td>\n",
       "      <td>12496</td>\n",
       "      <td>12496</td>\n",
       "    </tr>\n",
       "    <tr>\n",
       "      <th>3</th>\n",
       "      <td>12261</td>\n",
       "      <td>12261</td>\n",
       "      <td>12261</td>\n",
       "      <td>12261</td>\n",
       "      <td>12261</td>\n",
       "      <td>12261</td>\n",
       "    </tr>\n",
       "    <tr>\n",
       "      <th>4</th>\n",
       "      <td>11159</td>\n",
       "      <td>11159</td>\n",
       "      <td>11159</td>\n",
       "      <td>11159</td>\n",
       "      <td>11159</td>\n",
       "      <td>11159</td>\n",
       "    </tr>\n",
       "    <tr>\n",
       "      <th>5</th>\n",
       "      <td>9353</td>\n",
       "      <td>9353</td>\n",
       "      <td>9353</td>\n",
       "      <td>9353</td>\n",
       "      <td>9353</td>\n",
       "      <td>9353</td>\n",
       "    </tr>\n",
       "    <tr>\n",
       "      <th>6</th>\n",
       "      <td>7709</td>\n",
       "      <td>7709</td>\n",
       "      <td>7709</td>\n",
       "      <td>7709</td>\n",
       "      <td>7709</td>\n",
       "      <td>7709</td>\n",
       "    </tr>\n",
       "    <tr>\n",
       "      <th>7</th>\n",
       "      <td>7738</td>\n",
       "      <td>7738</td>\n",
       "      <td>7738</td>\n",
       "      <td>7738</td>\n",
       "      <td>7738</td>\n",
       "      <td>7738</td>\n",
       "    </tr>\n",
       "    <tr>\n",
       "      <th>8</th>\n",
       "      <td>7990</td>\n",
       "      <td>7990</td>\n",
       "      <td>7990</td>\n",
       "      <td>7990</td>\n",
       "      <td>7990</td>\n",
       "      <td>7990</td>\n",
       "    </tr>\n",
       "    <tr>\n",
       "      <th>9</th>\n",
       "      <td>8089</td>\n",
       "      <td>8089</td>\n",
       "      <td>8089</td>\n",
       "      <td>8089</td>\n",
       "      <td>8089</td>\n",
       "      <td>8089</td>\n",
       "    </tr>\n",
       "    <tr>\n",
       "      <th>10</th>\n",
       "      <td>8011</td>\n",
       "      <td>8011</td>\n",
       "      <td>8011</td>\n",
       "      <td>8011</td>\n",
       "      <td>8011</td>\n",
       "      <td>8011</td>\n",
       "    </tr>\n",
       "    <tr>\n",
       "      <th>11</th>\n",
       "      <td>7164</td>\n",
       "      <td>7164</td>\n",
       "      <td>7164</td>\n",
       "      <td>7164</td>\n",
       "      <td>7164</td>\n",
       "      <td>7164</td>\n",
       "    </tr>\n",
       "    <tr>\n",
       "      <th>12</th>\n",
       "      <td>6444</td>\n",
       "      <td>6444</td>\n",
       "      <td>6444</td>\n",
       "      <td>6444</td>\n",
       "      <td>6444</td>\n",
       "      <td>6444</td>\n",
       "    </tr>\n",
       "    <tr>\n",
       "      <th>13</th>\n",
       "      <td>5878</td>\n",
       "      <td>5878</td>\n",
       "      <td>5878</td>\n",
       "      <td>5878</td>\n",
       "      <td>5878</td>\n",
       "      <td>5878</td>\n",
       "    </tr>\n",
       "    <tr>\n",
       "      <th>14</th>\n",
       "      <td>5433</td>\n",
       "      <td>5433</td>\n",
       "      <td>5433</td>\n",
       "      <td>5433</td>\n",
       "      <td>5433</td>\n",
       "      <td>5433</td>\n",
       "    </tr>\n",
       "    <tr>\n",
       "      <th>15</th>\n",
       "      <td>5008</td>\n",
       "      <td>5008</td>\n",
       "      <td>5008</td>\n",
       "      <td>5008</td>\n",
       "      <td>5008</td>\n",
       "      <td>5008</td>\n",
       "    </tr>\n",
       "    <tr>\n",
       "      <th>16</th>\n",
       "      <td>4672</td>\n",
       "      <td>4672</td>\n",
       "      <td>4672</td>\n",
       "      <td>4672</td>\n",
       "      <td>4672</td>\n",
       "      <td>4672</td>\n",
       "    </tr>\n",
       "    <tr>\n",
       "      <th>17</th>\n",
       "      <td>5039</td>\n",
       "      <td>5039</td>\n",
       "      <td>5039</td>\n",
       "      <td>5039</td>\n",
       "      <td>5039</td>\n",
       "      <td>5039</td>\n",
       "    </tr>\n",
       "    <tr>\n",
       "      <th>18</th>\n",
       "      <td>5669</td>\n",
       "      <td>5669</td>\n",
       "      <td>5669</td>\n",
       "      <td>5669</td>\n",
       "      <td>5669</td>\n",
       "      <td>5669</td>\n",
       "    </tr>\n",
       "    <tr>\n",
       "      <th>19</th>\n",
       "      <td>5761</td>\n",
       "      <td>5761</td>\n",
       "      <td>5761</td>\n",
       "      <td>5761</td>\n",
       "      <td>5761</td>\n",
       "      <td>5761</td>\n",
       "    </tr>\n",
       "    <tr>\n",
       "      <th>20</th>\n",
       "      <td>7065</td>\n",
       "      <td>7065</td>\n",
       "      <td>7065</td>\n",
       "      <td>7065</td>\n",
       "      <td>7065</td>\n",
       "      <td>7065</td>\n",
       "    </tr>\n",
       "    <tr>\n",
       "      <th>21</th>\n",
       "      <td>9452</td>\n",
       "      <td>9452</td>\n",
       "      <td>9452</td>\n",
       "      <td>9452</td>\n",
       "      <td>9452</td>\n",
       "      <td>9452</td>\n",
       "    </tr>\n",
       "    <tr>\n",
       "      <th>22</th>\n",
       "      <td>12139</td>\n",
       "      <td>12139</td>\n",
       "      <td>12139</td>\n",
       "      <td>12139</td>\n",
       "      <td>12139</td>\n",
       "      <td>12139</td>\n",
       "    </tr>\n",
       "    <tr>\n",
       "      <th>23</th>\n",
       "      <td>12364</td>\n",
       "      <td>12364</td>\n",
       "      <td>12364</td>\n",
       "      <td>12364</td>\n",
       "      <td>12364</td>\n",
       "      <td>12364</td>\n",
       "    </tr>\n",
       "  </tbody>\n",
       "</table>\n",
       "</div>"
      ],
      "text/plain": [
       "      num_comments  title  leaning  score  history    tod\n",
       "hour                                                     \n",
       "0            10638  10638    10638  10638    10638  10638\n",
       "1            11603  11603    11603  11603    11603  11603\n",
       "2            12496  12496    12496  12496    12496  12496\n",
       "3            12261  12261    12261  12261    12261  12261\n",
       "4            11159  11159    11159  11159    11159  11159\n",
       "5             9353   9353     9353   9353     9353   9353\n",
       "6             7709   7709     7709   7709     7709   7709\n",
       "7             7738   7738     7738   7738     7738   7738\n",
       "8             7990   7990     7990   7990     7990   7990\n",
       "9             8089   8089     8089   8089     8089   8089\n",
       "10            8011   8011     8011   8011     8011   8011\n",
       "11            7164   7164     7164   7164     7164   7164\n",
       "12            6444   6444     6444   6444     6444   6444\n",
       "13            5878   5878     5878   5878     5878   5878\n",
       "14            5433   5433     5433   5433     5433   5433\n",
       "15            5008   5008     5008   5008     5008   5008\n",
       "16            4672   4672     4672   4672     4672   4672\n",
       "17            5039   5039     5039   5039     5039   5039\n",
       "18            5669   5669     5669   5669     5669   5669\n",
       "19            5761   5761     5761   5761     5761   5761\n",
       "20            7065   7065     7065   7065     7065   7065\n",
       "21            9452   9452     9452   9452     9452   9452\n",
       "22           12139  12139    12139  12139    12139  12139\n",
       "23           12364  12364    12364  12364    12364  12364"
      ]
     },
     "execution_count": 81,
     "metadata": {},
     "output_type": "execute_result"
    }
   ],
   "source": [
    "xx = submissions[[\"num_comments\", \"title\", \"hour\", \"leaning\", \"score\", \"history\", \"tod\"]]\n",
    "xx.groupby(\"hour\").count()"
   ]
  },
  {
   "cell_type": "code",
   "execution_count": 82,
   "metadata": {},
   "outputs": [
    {
     "name": "stdout",
     "output_type": "stream",
     "text": [
      "ANOVA results:\n",
      "\n",
      "\n",
      "Leaning and num_comments pvalues:\n",
      "\n",
      "F_onewayResult(statistic=117.90949392189837, pvalue=1.201162044417233e-100)\n",
      "********************************************************************\n",
      "\n",
      "\n",
      "Time of day and num_comments pvalues:\n",
      "F_onewayResult(statistic=27.3400353373118, pvalue=1.140882726940286e-17)\n",
      "********************************************************************\n",
      "\n",
      "\n",
      "Hour of day and num_comments pvalues:\n",
      "F_onewayResult(statistic=9.289110416522536, pvalue=7.885340999362367e-33)\n"
     ]
    }
   ],
   "source": [
    "import scipy.stats as stats\n",
    "\n",
    "times = [\"morning\", \"noon\", \"evening\", \"night\"]\n",
    "leanings = [\"left\", \"right\", \"center\", \"social\", \"other\"]\n",
    "hours = [0,1,2,3,4,5,6,7,8,9,10,11,12,13,14,15,16,17,18,19,20,21,22,23,24]\n",
    "\n",
    "ff = submissions[[\"num_comments\", \"hour\", \"leaning\", \"score\", \"tod\"]]\n",
    "\n",
    "print(\"ANOVA results:\\n\\n\")\n",
    "\n",
    "\n",
    "\n",
    "print(\"Leaning and num_comments pvalues:\\n\")\n",
    "print(stats.f_oneway(ff['num_comments'][ff['leaning'] == leanings[0]],\n",
    "              ff['num_comments'][ff['leaning'] == leanings[1]],\n",
    "              ff['num_comments'][ff['leaning'] == leanings[2]],\n",
    "              ff['num_comments'][ff['leaning'] == leanings[3]],\n",
    "              ff['num_comments'][ff['leaning'] == leanings[4]]))\n",
    "print(\"********************************************************************\\n\\n\")\n",
    "\n",
    "print(\"Time of day and num_comments pvalues:\")\n",
    "print(stats.f_oneway(ff['num_comments'][ff['tod'] == times[0]],\n",
    "              ff['num_comments'][ff['tod'] == times[1]],\n",
    "              ff['num_comments'][ff['tod'] == times[2]],\n",
    "              ff['num_comments'][ff['tod'] == times[3]]))\n",
    "\n",
    "print(\"********************************************************************\\n\\n\")\n",
    "\n",
    "print(\"Hour of day and num_comments pvalues:\")\n",
    "print(stats.f_oneway(ff['num_comments'][ff['hour'] == hours[0]],\n",
    "              ff['num_comments'][ff['hour'] == hours[1]],\n",
    "              ff['num_comments'][ff['hour'] == hours[2]],\n",
    "              ff['num_comments'][ff['hour'] == hours[3]],\n",
    "              ff['num_comments'][ff['hour'] == hours[4]],\n",
    "              ff['num_comments'][ff['hour'] == hours[5]],\n",
    "              ff['num_comments'][ff['hour'] == hours[6]],\n",
    "              ff['num_comments'][ff['hour'] == hours[7]],\n",
    "              ff['num_comments'][ff['hour'] == hours[8]],\n",
    "              ff['num_comments'][ff['hour'] == hours[9]],\n",
    "              ff['num_comments'][ff['hour'] == hours[10]],\n",
    "              ff['num_comments'][ff['hour'] == hours[11]],\n",
    "              ff['num_comments'][ff['hour'] == hours[12]],\n",
    "              ff['num_comments'][ff['hour'] == hours[13]],\n",
    "              ff['num_comments'][ff['hour'] == hours[14]],\n",
    "              ff['num_comments'][ff['hour'] == hours[15]],\n",
    "              ff['num_comments'][ff['hour'] == hours[16]],\n",
    "              ff['num_comments'][ff['hour'] == hours[17]],\n",
    "              ff['num_comments'][ff['hour'] == hours[18]],\n",
    "              ff['num_comments'][ff['hour'] == hours[19]],\n",
    "              ff['num_comments'][ff['hour'] == hours[20]],\n",
    "              ff['num_comments'][ff['hour'] == hours[21]],\n",
    "              ff['num_comments'][ff['hour'] == hours[22]],\n",
    "              ff['num_comments'][ff['hour'] == hours[23]]))"
   ]
  },
  {
   "cell_type": "code",
   "execution_count": 49,
   "metadata": {},
   "outputs": [
    {
     "data": {
      "text/plain": [
       "num_comments     int64\n",
       "title           object\n",
       "hour             int64\n",
       "score            int64\n",
       "history          int64\n",
       "is_center        uint8\n",
       "is_left          uint8\n",
       "is_other         uint8\n",
       "is_right         uint8\n",
       "is_social        uint8\n",
       "is_evening       uint8\n",
       "is_morning       uint8\n",
       "is_night         uint8\n",
       "is_noon          uint8\n",
       "dtype: object"
      ]
     },
     "execution_count": 49,
     "metadata": {},
     "output_type": "execute_result"
    }
   ],
   "source": [
    "xx.dtypes"
   ]
  },
  {
   "cell_type": "code",
   "execution_count": 50,
   "metadata": {},
   "outputs": [
    {
     "ename": "TypeError",
     "evalue": "'<' not supported between instances of 'str' and 'int'",
     "output_type": "error",
     "traceback": [
      "\u001b[1;31m---------------------------------------------------------------------------\u001b[0m",
      "\u001b[1;31mTypeError\u001b[0m                                 Traceback (most recent call last)",
      "\u001b[1;32m<ipython-input-50-a19b67c48b79>\u001b[0m in \u001b[0;36m<module>\u001b[1;34m\u001b[0m\n\u001b[0;32m      1\u001b[0m \u001b[1;31m# xx.drop(\"title\", axis=1, inplace=True)\u001b[0m\u001b[1;33m\u001b[0m\u001b[1;33m\u001b[0m\u001b[1;33m\u001b[0m\u001b[0m\n\u001b[0;32m      2\u001b[0m \u001b[1;32mfrom\u001b[0m \u001b[0mscipy\u001b[0m \u001b[1;32mimport\u001b[0m \u001b[0mstats\u001b[0m\u001b[1;33m\u001b[0m\u001b[1;33m\u001b[0m\u001b[0m\n\u001b[1;32m----> 3\u001b[1;33m \u001b[0mchi2_stat\u001b[0m\u001b[1;33m,\u001b[0m \u001b[0mp_val\u001b[0m\u001b[1;33m,\u001b[0m \u001b[0mdof\u001b[0m\u001b[1;33m,\u001b[0m \u001b[0mex\u001b[0m \u001b[1;33m=\u001b[0m \u001b[0mstats\u001b[0m\u001b[1;33m.\u001b[0m\u001b[0mchi2_contingency\u001b[0m\u001b[1;33m(\u001b[0m\u001b[0mxx\u001b[0m\u001b[1;33m)\u001b[0m\u001b[1;33m\u001b[0m\u001b[1;33m\u001b[0m\u001b[0m\n\u001b[0m\u001b[0;32m      4\u001b[0m \u001b[0mprint\u001b[0m\u001b[1;33m(\u001b[0m\u001b[1;34m\"===Chi2 Stat===\"\u001b[0m\u001b[1;33m)\u001b[0m\u001b[1;33m\u001b[0m\u001b[1;33m\u001b[0m\u001b[0m\n\u001b[0;32m      5\u001b[0m \u001b[0mprint\u001b[0m\u001b[1;33m(\u001b[0m\u001b[0mchi2_stat\u001b[0m\u001b[1;33m)\u001b[0m\u001b[1;33m\u001b[0m\u001b[1;33m\u001b[0m\u001b[0m\n",
      "\u001b[1;32m~\\Anaconda3\\lib\\site-packages\\scipy\\stats\\contingency.py\u001b[0m in \u001b[0;36mchi2_contingency\u001b[1;34m(observed, correction, lambda_)\u001b[0m\n\u001b[0;32m    240\u001b[0m     \"\"\"\n\u001b[0;32m    241\u001b[0m     \u001b[0mobserved\u001b[0m \u001b[1;33m=\u001b[0m \u001b[0mnp\u001b[0m\u001b[1;33m.\u001b[0m\u001b[0masarray\u001b[0m\u001b[1;33m(\u001b[0m\u001b[0mobserved\u001b[0m\u001b[1;33m)\u001b[0m\u001b[1;33m\u001b[0m\u001b[1;33m\u001b[0m\u001b[0m\n\u001b[1;32m--> 242\u001b[1;33m     \u001b[1;32mif\u001b[0m \u001b[0mnp\u001b[0m\u001b[1;33m.\u001b[0m\u001b[0many\u001b[0m\u001b[1;33m(\u001b[0m\u001b[0mobserved\u001b[0m \u001b[1;33m<\u001b[0m \u001b[1;36m0\u001b[0m\u001b[1;33m)\u001b[0m\u001b[1;33m:\u001b[0m\u001b[1;33m\u001b[0m\u001b[1;33m\u001b[0m\u001b[0m\n\u001b[0m\u001b[0;32m    243\u001b[0m         \u001b[1;32mraise\u001b[0m \u001b[0mValueError\u001b[0m\u001b[1;33m(\u001b[0m\u001b[1;34m\"All values in `observed` must be nonnegative.\"\u001b[0m\u001b[1;33m)\u001b[0m\u001b[1;33m\u001b[0m\u001b[1;33m\u001b[0m\u001b[0m\n\u001b[0;32m    244\u001b[0m     \u001b[1;32mif\u001b[0m \u001b[0mobserved\u001b[0m\u001b[1;33m.\u001b[0m\u001b[0msize\u001b[0m \u001b[1;33m==\u001b[0m \u001b[1;36m0\u001b[0m\u001b[1;33m:\u001b[0m\u001b[1;33m\u001b[0m\u001b[1;33m\u001b[0m\u001b[0m\n",
      "\u001b[1;31mTypeError\u001b[0m: '<' not supported between instances of 'str' and 'int'"
     ]
    }
   ],
   "source": [
    "# xx.drop(\"title\", axis=1, inplace=True)\n",
    "from scipy import stats\n",
    "chi2_stat, p_val, dof, ex = stats.chi2_contingency(xx)\n",
    "print(\"===Chi2 Stat===\")\n",
    "print(chi2_stat)\n",
    "print(\"\\n\")\n",
    "print(\"===Degrees of Freedom===\")\n",
    "print(dof)\n",
    "print(\"\\n\")\n",
    "print(\"===P-Value===\")\n",
    "print(p_val)\n",
    "print(\"\\n\")\n",
    "print(\"===Contingency Table===\")\n",
    "print(ex)"
   ]
  },
  {
   "cell_type": "code",
   "execution_count": 52,
   "metadata": {},
   "outputs": [],
   "source": [
    "def corrcoef_loop(matrix):\n",
    "    rows, cols = matrix.shape[0], matrix.shape[1]\n",
    "    r = np.ones(shape=(rows, rows))\n",
    "    p = np.ones(shape=(rows, rows))\n",
    "    for i in range(rows):\n",
    "        for j in range(i+1, rows):\n",
    "            r_, p_ = pearsonr(matrix[i], matrix[j])\n",
    "            r[i, j] = r[j, i] = r_\n",
    "            p[i, j] = p[j, i] = p_\n",
    "    return r, p"
   ]
  },
  {
   "cell_type": "code",
   "execution_count": 53,
   "metadata": {},
   "outputs": [
    {
     "ename": "MemoryError",
     "evalue": "Unable to allocate array with shape (199135, 199135) and data type float64",
     "output_type": "error",
     "traceback": [
      "\u001b[1;31m---------------------------------------------------------------------------\u001b[0m",
      "\u001b[1;31mMemoryError\u001b[0m                               Traceback (most recent call last)",
      "\u001b[1;32m<ipython-input-53-c955da7e5a23>\u001b[0m in \u001b[0;36m<module>\u001b[1;34m\u001b[0m\n\u001b[1;32m----> 1\u001b[1;33m \u001b[0mr\u001b[0m\u001b[1;33m,\u001b[0m\u001b[0mp\u001b[0m \u001b[1;33m=\u001b[0m \u001b[0mcorrcoef_loop\u001b[0m\u001b[1;33m(\u001b[0m\u001b[0mxx\u001b[0m\u001b[1;33m)\u001b[0m\u001b[1;33m\u001b[0m\u001b[1;33m\u001b[0m\u001b[0m\n\u001b[0m\u001b[0;32m      2\u001b[0m \u001b[1;31m# print(r)\u001b[0m\u001b[1;33m\u001b[0m\u001b[1;33m\u001b[0m\u001b[1;33m\u001b[0m\u001b[0m\n\u001b[0;32m      3\u001b[0m \u001b[1;31m# print(\"*******************************************************\")\u001b[0m\u001b[1;33m\u001b[0m\u001b[1;33m\u001b[0m\u001b[1;33m\u001b[0m\u001b[0m\n\u001b[0;32m      4\u001b[0m \u001b[0mprint\u001b[0m\u001b[1;33m(\u001b[0m\u001b[0mp\u001b[0m\u001b[1;33m)\u001b[0m\u001b[1;33m\u001b[0m\u001b[1;33m\u001b[0m\u001b[0m\n",
      "\u001b[1;32m<ipython-input-52-16a511459e3e>\u001b[0m in \u001b[0;36mcorrcoef_loop\u001b[1;34m(matrix)\u001b[0m\n\u001b[0;32m      1\u001b[0m \u001b[1;32mdef\u001b[0m \u001b[0mcorrcoef_loop\u001b[0m\u001b[1;33m(\u001b[0m\u001b[0mmatrix\u001b[0m\u001b[1;33m)\u001b[0m\u001b[1;33m:\u001b[0m\u001b[1;33m\u001b[0m\u001b[1;33m\u001b[0m\u001b[0m\n\u001b[0;32m      2\u001b[0m     \u001b[0mrows\u001b[0m\u001b[1;33m,\u001b[0m \u001b[0mcols\u001b[0m \u001b[1;33m=\u001b[0m \u001b[0mmatrix\u001b[0m\u001b[1;33m.\u001b[0m\u001b[0mshape\u001b[0m\u001b[1;33m[\u001b[0m\u001b[1;36m0\u001b[0m\u001b[1;33m]\u001b[0m\u001b[1;33m,\u001b[0m \u001b[0mmatrix\u001b[0m\u001b[1;33m.\u001b[0m\u001b[0mshape\u001b[0m\u001b[1;33m[\u001b[0m\u001b[1;36m1\u001b[0m\u001b[1;33m]\u001b[0m\u001b[1;33m\u001b[0m\u001b[1;33m\u001b[0m\u001b[0m\n\u001b[1;32m----> 3\u001b[1;33m     \u001b[0mr\u001b[0m \u001b[1;33m=\u001b[0m \u001b[0mnp\u001b[0m\u001b[1;33m.\u001b[0m\u001b[0mones\u001b[0m\u001b[1;33m(\u001b[0m\u001b[0mshape\u001b[0m\u001b[1;33m=\u001b[0m\u001b[1;33m(\u001b[0m\u001b[0mrows\u001b[0m\u001b[1;33m,\u001b[0m \u001b[0mrows\u001b[0m\u001b[1;33m)\u001b[0m\u001b[1;33m)\u001b[0m\u001b[1;33m\u001b[0m\u001b[1;33m\u001b[0m\u001b[0m\n\u001b[0m\u001b[0;32m      4\u001b[0m     \u001b[0mp\u001b[0m \u001b[1;33m=\u001b[0m \u001b[0mnp\u001b[0m\u001b[1;33m.\u001b[0m\u001b[0mones\u001b[0m\u001b[1;33m(\u001b[0m\u001b[0mshape\u001b[0m\u001b[1;33m=\u001b[0m\u001b[1;33m(\u001b[0m\u001b[0mrows\u001b[0m\u001b[1;33m,\u001b[0m \u001b[0mrows\u001b[0m\u001b[1;33m)\u001b[0m\u001b[1;33m)\u001b[0m\u001b[1;33m\u001b[0m\u001b[1;33m\u001b[0m\u001b[0m\n\u001b[0;32m      5\u001b[0m     \u001b[1;32mfor\u001b[0m \u001b[0mi\u001b[0m \u001b[1;32min\u001b[0m \u001b[0mrange\u001b[0m\u001b[1;33m(\u001b[0m\u001b[0mrows\u001b[0m\u001b[1;33m)\u001b[0m\u001b[1;33m:\u001b[0m\u001b[1;33m\u001b[0m\u001b[1;33m\u001b[0m\u001b[0m\n",
      "\u001b[1;32m~\\Anaconda3\\lib\\site-packages\\numpy\\core\\numeric.py\u001b[0m in \u001b[0;36mones\u001b[1;34m(shape, dtype, order)\u001b[0m\n\u001b[0;32m    212\u001b[0m \u001b[1;33m\u001b[0m\u001b[0m\n\u001b[0;32m    213\u001b[0m     \"\"\"\n\u001b[1;32m--> 214\u001b[1;33m     \u001b[0ma\u001b[0m \u001b[1;33m=\u001b[0m \u001b[0mempty\u001b[0m\u001b[1;33m(\u001b[0m\u001b[0mshape\u001b[0m\u001b[1;33m,\u001b[0m \u001b[0mdtype\u001b[0m\u001b[1;33m,\u001b[0m \u001b[0morder\u001b[0m\u001b[1;33m)\u001b[0m\u001b[1;33m\u001b[0m\u001b[1;33m\u001b[0m\u001b[0m\n\u001b[0m\u001b[0;32m    215\u001b[0m     \u001b[0mmultiarray\u001b[0m\u001b[1;33m.\u001b[0m\u001b[0mcopyto\u001b[0m\u001b[1;33m(\u001b[0m\u001b[0ma\u001b[0m\u001b[1;33m,\u001b[0m \u001b[1;36m1\u001b[0m\u001b[1;33m,\u001b[0m \u001b[0mcasting\u001b[0m\u001b[1;33m=\u001b[0m\u001b[1;34m'unsafe'\u001b[0m\u001b[1;33m)\u001b[0m\u001b[1;33m\u001b[0m\u001b[1;33m\u001b[0m\u001b[0m\n\u001b[0;32m    216\u001b[0m     \u001b[1;32mreturn\u001b[0m \u001b[0ma\u001b[0m\u001b[1;33m\u001b[0m\u001b[1;33m\u001b[0m\u001b[0m\n",
      "\u001b[1;31mMemoryError\u001b[0m: Unable to allocate array with shape (199135, 199135) and data type float64"
     ]
    }
   ],
   "source": [
    "r,p = corrcoef_loop(xx)\n",
    "# print(r)\n",
    "# print(\"*******************************************************\")\n",
    "print(p)"
   ]
  },
  {
   "cell_type": "code",
   "execution_count": 66,
   "metadata": {},
   "outputs": [
    {
     "name": "stdout",
     "output_type": "stream",
     "text": [
      "Kruskal Wallis H-test test:\n"
     ]
    },
    {
     "ename": "ValueError",
     "evalue": "could not convert string to float: 'center'",
     "output_type": "error",
     "traceback": [
      "\u001b[1;31m---------------------------------------------------------------------------\u001b[0m",
      "\u001b[1;31mValueError\u001b[0m                                Traceback (most recent call last)",
      "\u001b[1;32m<ipython-input-66-11d0858fed29>\u001b[0m in \u001b[0;36m<module>\u001b[1;34m\u001b[0m\n\u001b[0;32m     16\u001b[0m \u001b[0mprint\u001b[0m\u001b[1;33m(\u001b[0m\u001b[1;34m\"Kruskal Wallis H-test test:\"\u001b[0m\u001b[1;33m)\u001b[0m\u001b[1;33m\u001b[0m\u001b[1;33m\u001b[0m\u001b[0m\n\u001b[0;32m     17\u001b[0m \u001b[1;33m\u001b[0m\u001b[0m\n\u001b[1;32m---> 18\u001b[1;33m \u001b[0mH\u001b[0m\u001b[1;33m,\u001b[0m \u001b[0mpval\u001b[0m \u001b[1;33m=\u001b[0m \u001b[0mmstats\u001b[0m\u001b[1;33m.\u001b[0m\u001b[0mkruskalwallis\u001b[0m\u001b[1;33m(\u001b[0m\u001b[0mCol_1\u001b[0m\u001b[1;33m,\u001b[0m \u001b[0mCol_2\u001b[0m\u001b[1;33m,\u001b[0m \u001b[0mCol_3\u001b[0m\u001b[1;33m,\u001b[0m \u001b[0mCol_4\u001b[0m\u001b[1;33m,\u001b[0m \u001b[0mCol_5\u001b[0m\u001b[1;33m,\u001b[0m \u001b[0mCol_6\u001b[0m\u001b[1;33m)\u001b[0m\u001b[1;33m\u001b[0m\u001b[1;33m\u001b[0m\u001b[0m\n\u001b[0m\u001b[0;32m     19\u001b[0m \u001b[1;33m\u001b[0m\u001b[0m\n\u001b[0;32m     20\u001b[0m \u001b[0mprint\u001b[0m\u001b[1;33m(\u001b[0m\u001b[1;34m\"H-statistic:\"\u001b[0m\u001b[1;33m,\u001b[0m \u001b[0mH\u001b[0m\u001b[1;33m)\u001b[0m\u001b[1;33m\u001b[0m\u001b[1;33m\u001b[0m\u001b[0m\n",
      "\u001b[1;32m~\\Anaconda3\\lib\\site-packages\\scipy\\stats\\mstats_basic.py\u001b[0m in \u001b[0;36mkruskal\u001b[1;34m(*args)\u001b[0m\n\u001b[0;32m   1044\u001b[0m \u001b[1;33m\u001b[0m\u001b[0m\n\u001b[0;32m   1045\u001b[0m     \"\"\"\n\u001b[1;32m-> 1046\u001b[1;33m     \u001b[0moutput\u001b[0m \u001b[1;33m=\u001b[0m \u001b[0margstoarray\u001b[0m\u001b[1;33m(\u001b[0m\u001b[1;33m*\u001b[0m\u001b[0margs\u001b[0m\u001b[1;33m)\u001b[0m\u001b[1;33m\u001b[0m\u001b[1;33m\u001b[0m\u001b[0m\n\u001b[0m\u001b[0;32m   1047\u001b[0m     \u001b[0mranks\u001b[0m \u001b[1;33m=\u001b[0m \u001b[0mma\u001b[0m\u001b[1;33m.\u001b[0m\u001b[0mmasked_equal\u001b[0m\u001b[1;33m(\u001b[0m\u001b[0mrankdata\u001b[0m\u001b[1;33m(\u001b[0m\u001b[0moutput\u001b[0m\u001b[1;33m,\u001b[0m \u001b[0muse_missing\u001b[0m\u001b[1;33m=\u001b[0m\u001b[1;32mFalse\u001b[0m\u001b[1;33m)\u001b[0m\u001b[1;33m,\u001b[0m \u001b[1;36m0\u001b[0m\u001b[1;33m)\u001b[0m\u001b[1;33m\u001b[0m\u001b[1;33m\u001b[0m\u001b[0m\n\u001b[0;32m   1048\u001b[0m     \u001b[0msumrk\u001b[0m \u001b[1;33m=\u001b[0m \u001b[0mranks\u001b[0m\u001b[1;33m.\u001b[0m\u001b[0msum\u001b[0m\u001b[1;33m(\u001b[0m\u001b[1;33m-\u001b[0m\u001b[1;36m1\u001b[0m\u001b[1;33m)\u001b[0m\u001b[1;33m\u001b[0m\u001b[1;33m\u001b[0m\u001b[0m\n",
      "\u001b[1;32m~\\Anaconda3\\lib\\site-packages\\scipy\\stats\\mstats_basic.py\u001b[0m in \u001b[0;36margstoarray\u001b[1;34m(*args)\u001b[0m\n\u001b[0;32m    129\u001b[0m         \u001b[0moutput\u001b[0m \u001b[1;33m=\u001b[0m \u001b[0mma\u001b[0m\u001b[1;33m.\u001b[0m\u001b[0marray\u001b[0m\u001b[1;33m(\u001b[0m\u001b[0mnp\u001b[0m\u001b[1;33m.\u001b[0m\u001b[0mempty\u001b[0m\u001b[1;33m(\u001b[0m\u001b[1;33m(\u001b[0m\u001b[0mn\u001b[0m\u001b[1;33m,\u001b[0m\u001b[0mm\u001b[0m\u001b[1;33m)\u001b[0m\u001b[1;33m,\u001b[0m \u001b[0mdtype\u001b[0m\u001b[1;33m=\u001b[0m\u001b[0mfloat\u001b[0m\u001b[1;33m)\u001b[0m\u001b[1;33m,\u001b[0m \u001b[0mmask\u001b[0m\u001b[1;33m=\u001b[0m\u001b[1;32mTrue\u001b[0m\u001b[1;33m)\u001b[0m\u001b[1;33m\u001b[0m\u001b[1;33m\u001b[0m\u001b[0m\n\u001b[0;32m    130\u001b[0m         \u001b[1;32mfor\u001b[0m \u001b[1;33m(\u001b[0m\u001b[0mk\u001b[0m\u001b[1;33m,\u001b[0m\u001b[0mv\u001b[0m\u001b[1;33m)\u001b[0m \u001b[1;32min\u001b[0m \u001b[0menumerate\u001b[0m\u001b[1;33m(\u001b[0m\u001b[0margs\u001b[0m\u001b[1;33m)\u001b[0m\u001b[1;33m:\u001b[0m\u001b[1;33m\u001b[0m\u001b[1;33m\u001b[0m\u001b[0m\n\u001b[1;32m--> 131\u001b[1;33m             \u001b[0moutput\u001b[0m\u001b[1;33m[\u001b[0m\u001b[0mk\u001b[0m\u001b[1;33m,\u001b[0m\u001b[1;33m:\u001b[0m\u001b[0mlen\u001b[0m\u001b[1;33m(\u001b[0m\u001b[0mv\u001b[0m\u001b[1;33m)\u001b[0m\u001b[1;33m]\u001b[0m \u001b[1;33m=\u001b[0m \u001b[0mv\u001b[0m\u001b[1;33m\u001b[0m\u001b[1;33m\u001b[0m\u001b[0m\n\u001b[0m\u001b[0;32m    132\u001b[0m \u001b[1;33m\u001b[0m\u001b[0m\n\u001b[0;32m    133\u001b[0m     \u001b[0moutput\u001b[0m\u001b[1;33m[\u001b[0m\u001b[0mnp\u001b[0m\u001b[1;33m.\u001b[0m\u001b[0mlogical_not\u001b[0m\u001b[1;33m(\u001b[0m\u001b[0mnp\u001b[0m\u001b[1;33m.\u001b[0m\u001b[0misfinite\u001b[0m\u001b[1;33m(\u001b[0m\u001b[0moutput\u001b[0m\u001b[1;33m.\u001b[0m\u001b[0m_data\u001b[0m\u001b[1;33m)\u001b[0m\u001b[1;33m)\u001b[0m\u001b[1;33m]\u001b[0m \u001b[1;33m=\u001b[0m \u001b[0mmasked\u001b[0m\u001b[1;33m\u001b[0m\u001b[1;33m\u001b[0m\u001b[0m\n",
      "\u001b[1;32m~\\Anaconda3\\lib\\site-packages\\numpy\\ma\\core.py\u001b[0m in \u001b[0;36m__setitem__\u001b[1;34m(self, indx, value)\u001b[0m\n\u001b[0;32m   3325\u001b[0m         \u001b[1;32melif\u001b[0m \u001b[1;32mnot\u001b[0m \u001b[0mself\u001b[0m\u001b[1;33m.\u001b[0m\u001b[0m_hardmask\u001b[0m\u001b[1;33m:\u001b[0m\u001b[1;33m\u001b[0m\u001b[1;33m\u001b[0m\u001b[0m\n\u001b[0;32m   3326\u001b[0m             \u001b[1;31m# Set the data, then the mask\u001b[0m\u001b[1;33m\u001b[0m\u001b[1;33m\u001b[0m\u001b[1;33m\u001b[0m\u001b[0m\n\u001b[1;32m-> 3327\u001b[1;33m             \u001b[0m_data\u001b[0m\u001b[1;33m[\u001b[0m\u001b[0mindx\u001b[0m\u001b[1;33m]\u001b[0m \u001b[1;33m=\u001b[0m \u001b[0mdval\u001b[0m\u001b[1;33m\u001b[0m\u001b[1;33m\u001b[0m\u001b[0m\n\u001b[0m\u001b[0;32m   3328\u001b[0m             \u001b[0m_mask\u001b[0m\u001b[1;33m[\u001b[0m\u001b[0mindx\u001b[0m\u001b[1;33m]\u001b[0m \u001b[1;33m=\u001b[0m \u001b[0mmval\u001b[0m\u001b[1;33m\u001b[0m\u001b[1;33m\u001b[0m\u001b[0m\n\u001b[0;32m   3329\u001b[0m         \u001b[1;32melif\u001b[0m \u001b[0mhasattr\u001b[0m\u001b[1;33m(\u001b[0m\u001b[0mindx\u001b[0m\u001b[1;33m,\u001b[0m \u001b[1;34m'dtype'\u001b[0m\u001b[1;33m)\u001b[0m \u001b[1;32mand\u001b[0m \u001b[1;33m(\u001b[0m\u001b[0mindx\u001b[0m\u001b[1;33m.\u001b[0m\u001b[0mdtype\u001b[0m \u001b[1;33m==\u001b[0m \u001b[0mMaskType\u001b[0m\u001b[1;33m)\u001b[0m\u001b[1;33m:\u001b[0m\u001b[1;33m\u001b[0m\u001b[1;33m\u001b[0m\u001b[0m\n",
      "\u001b[1;31mValueError\u001b[0m: could not convert string to float: 'center'"
     ]
    }
   ],
   "source": [
    "import pandas\n",
    "from scipy.stats import mstats\n",
    "\n",
    "\n",
    "\n",
    "dd = submissions[[\"num_comments\", \"title\", \"hour\", \"leaning\", \"score\", \"history\", \"tod\"]]\n",
    "dd = dd.dropna()\n",
    "# print(dd.head())\n",
    "Col_1 = list(dd['num_comments'])\n",
    "Col_2 = list(dd['leaning'])\n",
    "Col_3 = list(dd['hour'])\n",
    "Col_4 = list(dd['score'])\n",
    "Col_5 = list(dd['history'])\n",
    "Col_6 = list(dd['tod'])\n",
    "\n",
    "print(\"Kruskal Wallis H-test test:\")\n",
    "\n",
    "H, pval = mstats.kruskalwallis(Col_1, Col_2, Col_3, Col_4, Col_5, Col_6)\n",
    "\n",
    "print(\"H-statistic:\", H)\n",
    "print(\"P-Value:\", pval)\n",
    "\n",
    "if pval < 0.05:\n",
    "    print(\"Reject NULL hypothesis - Significant differences exist between groups.\")\n",
    "if pval > 0.05:\n",
    "    print(\"Accept NULL hypothesis - No significant difference between groups.\")"
   ]
  },
  {
   "cell_type": "code",
   "execution_count": 67,
   "metadata": {},
   "outputs": [
    {
     "ename": "ValueError",
     "evalue": "could not convert string to float: 'center'",
     "output_type": "error",
     "traceback": [
      "\u001b[1;31m---------------------------------------------------------------------------\u001b[0m",
      "\u001b[1;31mValueError\u001b[0m                                Traceback (most recent call last)",
      "\u001b[1;32m<ipython-input-67-8ba8255d422a>\u001b[0m in \u001b[0;36m<module>\u001b[1;34m\u001b[0m\n\u001b[0;32m      9\u001b[0m \u001b[1;33m\u001b[0m\u001b[0m\n\u001b[0;32m     10\u001b[0m \u001b[1;33m\u001b[0m\u001b[0m\n\u001b[1;32m---> 11\u001b[1;33m \u001b[0mstats\u001b[0m\u001b[1;33m.\u001b[0m\u001b[0mf_oneway\u001b[0m\u001b[1;33m(\u001b[0m\u001b[0mCol_1\u001b[0m\u001b[1;33m,\u001b[0m \u001b[0mCol_2\u001b[0m\u001b[1;33m,\u001b[0m \u001b[0mCol_3\u001b[0m\u001b[1;33m,\u001b[0m \u001b[0mCol_4\u001b[0m\u001b[1;33m,\u001b[0m \u001b[0mCol_5\u001b[0m\u001b[1;33m,\u001b[0m \u001b[0mCol_6\u001b[0m\u001b[1;33m)\u001b[0m\u001b[1;33m\u001b[0m\u001b[1;33m\u001b[0m\u001b[0m\n\u001b[0m",
      "\u001b[1;32m~\\Anaconda3\\lib\\site-packages\\scipy\\stats\\stats.py\u001b[0m in \u001b[0;36mf_oneway\u001b[1;34m(*args)\u001b[0m\n\u001b[0;32m   2905\u001b[0m \u001b[1;33m\u001b[0m\u001b[0m\n\u001b[0;32m   2906\u001b[0m     \"\"\"\n\u001b[1;32m-> 2907\u001b[1;33m     \u001b[0margs\u001b[0m \u001b[1;33m=\u001b[0m \u001b[1;33m[\u001b[0m\u001b[0mnp\u001b[0m\u001b[1;33m.\u001b[0m\u001b[0masarray\u001b[0m\u001b[1;33m(\u001b[0m\u001b[0marg\u001b[0m\u001b[1;33m,\u001b[0m \u001b[0mdtype\u001b[0m\u001b[1;33m=\u001b[0m\u001b[0mfloat\u001b[0m\u001b[1;33m)\u001b[0m \u001b[1;32mfor\u001b[0m \u001b[0marg\u001b[0m \u001b[1;32min\u001b[0m \u001b[0margs\u001b[0m\u001b[1;33m]\u001b[0m\u001b[1;33m\u001b[0m\u001b[1;33m\u001b[0m\u001b[0m\n\u001b[0m\u001b[0;32m   2908\u001b[0m     \u001b[1;31m# ANOVA on N groups, each in its own array\u001b[0m\u001b[1;33m\u001b[0m\u001b[1;33m\u001b[0m\u001b[1;33m\u001b[0m\u001b[0m\n\u001b[0;32m   2909\u001b[0m     \u001b[0mnum_groups\u001b[0m \u001b[1;33m=\u001b[0m \u001b[0mlen\u001b[0m\u001b[1;33m(\u001b[0m\u001b[0margs\u001b[0m\u001b[1;33m)\u001b[0m\u001b[1;33m\u001b[0m\u001b[1;33m\u001b[0m\u001b[0m\n",
      "\u001b[1;32m~\\Anaconda3\\lib\\site-packages\\scipy\\stats\\stats.py\u001b[0m in \u001b[0;36m<listcomp>\u001b[1;34m(.0)\u001b[0m\n\u001b[0;32m   2905\u001b[0m \u001b[1;33m\u001b[0m\u001b[0m\n\u001b[0;32m   2906\u001b[0m     \"\"\"\n\u001b[1;32m-> 2907\u001b[1;33m     \u001b[0margs\u001b[0m \u001b[1;33m=\u001b[0m \u001b[1;33m[\u001b[0m\u001b[0mnp\u001b[0m\u001b[1;33m.\u001b[0m\u001b[0masarray\u001b[0m\u001b[1;33m(\u001b[0m\u001b[0marg\u001b[0m\u001b[1;33m,\u001b[0m \u001b[0mdtype\u001b[0m\u001b[1;33m=\u001b[0m\u001b[0mfloat\u001b[0m\u001b[1;33m)\u001b[0m \u001b[1;32mfor\u001b[0m \u001b[0marg\u001b[0m \u001b[1;32min\u001b[0m \u001b[0margs\u001b[0m\u001b[1;33m]\u001b[0m\u001b[1;33m\u001b[0m\u001b[1;33m\u001b[0m\u001b[0m\n\u001b[0m\u001b[0;32m   2908\u001b[0m     \u001b[1;31m# ANOVA on N groups, each in its own array\u001b[0m\u001b[1;33m\u001b[0m\u001b[1;33m\u001b[0m\u001b[1;33m\u001b[0m\u001b[0m\n\u001b[0;32m   2909\u001b[0m     \u001b[0mnum_groups\u001b[0m \u001b[1;33m=\u001b[0m \u001b[0mlen\u001b[0m\u001b[1;33m(\u001b[0m\u001b[0margs\u001b[0m\u001b[1;33m)\u001b[0m\u001b[1;33m\u001b[0m\u001b[1;33m\u001b[0m\u001b[0m\n",
      "\u001b[1;32m~\\Anaconda3\\lib\\site-packages\\numpy\\core\\_asarray.py\u001b[0m in \u001b[0;36masarray\u001b[1;34m(a, dtype, order)\u001b[0m\n\u001b[0;32m     83\u001b[0m \u001b[1;33m\u001b[0m\u001b[0m\n\u001b[0;32m     84\u001b[0m     \"\"\"\n\u001b[1;32m---> 85\u001b[1;33m     \u001b[1;32mreturn\u001b[0m \u001b[0marray\u001b[0m\u001b[1;33m(\u001b[0m\u001b[0ma\u001b[0m\u001b[1;33m,\u001b[0m \u001b[0mdtype\u001b[0m\u001b[1;33m,\u001b[0m \u001b[0mcopy\u001b[0m\u001b[1;33m=\u001b[0m\u001b[1;32mFalse\u001b[0m\u001b[1;33m,\u001b[0m \u001b[0morder\u001b[0m\u001b[1;33m=\u001b[0m\u001b[0morder\u001b[0m\u001b[1;33m)\u001b[0m\u001b[1;33m\u001b[0m\u001b[1;33m\u001b[0m\u001b[0m\n\u001b[0m\u001b[0;32m     86\u001b[0m \u001b[1;33m\u001b[0m\u001b[0m\n\u001b[0;32m     87\u001b[0m \u001b[1;33m\u001b[0m\u001b[0m\n",
      "\u001b[1;31mValueError\u001b[0m: could not convert string to float: 'center'"
     ]
    }
   ],
   "source": [
    "import scipy.stats as stats\n",
    "\n",
    "Col_1 = list(dd['num_comments'])\n",
    "Col_2 = list(dd['leaning'])\n",
    "Col_3 = list(dd['hour'])\n",
    "Col_4 = list(dd['score'])\n",
    "Col_5 = list(dd['history'])\n",
    "Col_6 = list(dd['tod'])\n",
    "\n",
    "\n",
    "stats.f_oneway(Col_1, Col_2, Col_3, Col_4, Col_5, Col_6)"
   ]
  },
  {
   "cell_type": "code",
   "execution_count": null,
   "metadata": {},
   "outputs": [],
   "source": [
    "n=6\n",
    "r=xx.corr()\n",
    "t=r*np.sqrt((n-2)/(1-r*r))\n",
    "\n",
    "import scipy.stats as ss\n",
    "ss.t.cdf(t, n-2)"
   ]
  },
  {
   "cell_type": "code",
   "execution_count": 69,
   "metadata": {},
   "outputs": [
    {
     "data": {
      "image/png": "[encoded data removed]",
      "text/plain": [
       "<Figure size 1440x720 with 2 Axes>"
      ]
     },
     "metadata": {
      "needs_background": "light"
     },
     "output_type": "display_data"
    }
   ],
   "source": [
    "import seaborn as sns\n",
    "corr = xx.corr(method='pearson')\n",
    "ax = sns.heatmap(\n",
    "    corr, \n",
    "    vmin=-1, vmax=1, center=0,\n",
    "    cmap=sns.diverging_palette(20, 220, n=200),\n",
    "    square=True,\n",
    "    annot=True\n",
    ")\n",
    "ax.set_xticklabels(\n",
    "    ax.get_xticklabels(),\n",
    "    rotation=45,\n",
    "    horizontalalignment='right'\n",
    ");"
   ]
  },
  {
   "cell_type": "code",
   "execution_count": 70,
   "metadata": {},
   "outputs": [
    {
     "name": "stdout",
     "output_type": "stream",
     "text": [
      "[[1.         0.49911767 0.94954045 0.48774144 0.5147052  0.53117299\n",
      "  0.48672167 0.50406281 0.48722572 0.4895552  0.50940736 0.49454754\n",
      "  0.50853831]\n",
      " [0.49911767 1.         0.49864324 0.49170165 0.50725441 0.52956534\n",
      "  0.47995744 0.51017867 0.49854228 0.96734258 0.43069666 0.02493184\n",
      "  0.70045835]\n",
      " [0.94954045 0.49864324 1.         0.48927728 0.51146463 0.52306671\n",
      "  0.49230035 0.49945538 0.48880594 0.49008275 0.50861465 0.49506606\n",
      "  0.50814915]\n",
      " [0.48774144 0.49170165 0.48927728 1.         0.47451573 0.46395639\n",
      "  0.07387151 0.47195201 0.98952415 0.46829743 0.55648091 0.47549669\n",
      "  0.50433208]\n",
      " [0.5147052  0.50725441 0.51146463 0.47451573 1.         0.46463616\n",
      "  0.25327339 0.48222812 0.43815147 0.46486872 0.54925163 0.45858712\n",
      "  0.53906482]\n",
      " [0.53117299 0.52956534 0.52306671 0.46395639 0.46463616 1.\n",
      "  0.21093975 0.47881808 0.42634905 0.46915197 0.55269557 0.43235714\n",
      "  0.56494371]\n",
      " [0.48672167 0.47995744 0.49230035 0.07387151 0.25327339 0.21093975\n",
      "  1.         0.34843551 0.05521654 0.56128737 0.39848121 0.58657119\n",
      "  0.43094985]\n",
      " [0.50406281 0.51017867 0.49945538 0.47195201 0.48222812 0.47881808\n",
      "  0.34843551 1.         0.46291794 0.47962123 0.52927637 0.4689739\n",
      "  0.53114329]\n",
      " [0.48722572 0.49854228 0.48880594 0.98952415 0.43815147 0.42634905\n",
      "  0.05521654 0.46291794 1.         0.47000439 0.55535531 0.46905376\n",
      "  0.51219792]\n",
      " [0.4895552  0.96734258 0.49008275 0.46829743 0.46486872 0.46915197\n",
      "  0.56128737 0.47962123 0.47000439 1.         0.2808758  0.19632275\n",
      "  0.32267522]\n",
      " [0.50940736 0.43069666 0.50861465 0.55648091 0.54925163 0.55269557\n",
      "  0.39848121 0.52927637 0.55535531 0.2808758  1.         0.20129718\n",
      "  0.32588119]\n",
      " [0.49454754 0.02493184 0.49506606 0.47549669 0.45858712 0.43235714\n",
      "  0.58657119 0.4689739  0.46905376 0.19632275 0.20129718 1.\n",
      "  0.2554902 ]\n",
      " [0.50853831 0.70045835 0.50814915 0.50433208 0.53906482 0.56494371\n",
      "  0.43094985 0.53114329 0.51219792 0.32267522 0.32588119 0.2554902\n",
      "  1.        ]]\n"
     ]
    },
    {
     "data": {
      "image/png": "[encoded data removed]",
      "text/plain": [
       "<Figure size 1440x720 with 2 Axes>"
      ]
     },
     "metadata": {
      "needs_background": "light"
     },
     "output_type": "display_data"
    }
   ],
   "source": [
    "n=6\n",
    "r=xx.corr()\n",
    "t=r*np.sqrt((n-2)/(1-r*r))\n",
    "\n",
    "import scipy.stats as ss\n",
    "pvalues = ss.t.cdf(t, n-2)\n",
    "print(pvalues)\n",
    "\n",
    "corr = xx.corr(method='pearson')\n",
    "ax = sns.heatmap(\n",
    "    pvalues, \n",
    "    vmin=-1, vmax=1, center=0,\n",
    "    cmap=sns.diverging_palette(20, 220, n=200),\n",
    "    square=True\n",
    ")\n",
    "ax.set_xticklabels(\n",
    "    ax.get_xticklabels(),\n",
    "    rotation=45,\n",
    "    horizontalalignment='right'\n",
    ");"
   ]
  },
  {
   "cell_type": "code",
   "execution_count": null,
   "metadata": {},
   "outputs": [],
   "source": [
    "random_seed = 2"
   ]
  },
  {
   "cell_type": "code",
   "execution_count": null,
   "metadata": {},
   "outputs": [],
   "source": [
    "X = submissions[[\"title\", \"hour\", \"leaning\", \"score\"]]\n",
    "# print(len(X))\n",
    "hours_dummies = pd.get_dummies(X[\"hour\"], prefix=\"hour\")\n",
    "X = pd.concat([X, hours_dummies], axis=1)\n",
    "X.drop(\"hour\", axis=1, inplace=True)\n",
    "# print(len(X))\n",
    "\n",
    "leaning_dummies = pd.get_dummies(X[\"leaning\"], prefix=\"is\")\n",
    "X = pd.concat([X, leaning_dummies], axis=1)\n",
    "X.drop(\"leaning\", axis=1, inplace=True)\n",
    "# print(len(X))\n",
    "\n",
    "# print(X.corr())\n",
    "\n",
    "X['vector'] = X['title'].apply(get_embeddings)\n",
    "# X = pd.concat([X, ])\n",
    "X.drop(\"title\", axis=1, inplace=True)\n",
    "# print(len(X))\n",
    "s = X[\"vector\"].apply(pd.Series)\n",
    "X = pd.concat([X,s], axis=1)\n",
    "X.drop(\"vector\", axis=1, inplace=True)\n",
    "# print(len(X))  \n",
    "\n",
    "X.dropna(axis=0, inplace=True)\n",
    "y = X[\"score\"]\n",
    "X.drop(\"score\", axis=1, inplace=True)\n",
    "# print(len(X))\n",
    "\n",
    "# print(\"Columns: \", X.columns)\n",
    "# print(X.head())\n",
    "\n",
    "X_train, X_test, y_train, y_test = train_test_split(X, y, test_size=0.25, random_state = random_seed)\n",
    "\n",
    "lm = linear_model.LinearRegression()\n",
    "model = lm.fit(X_train, y_train)\n",
    "y_pred = lm.predict(X_test)\n",
    "\n",
    "score_rmse = sqrt(mean_squared_error(y_test, y_pred))\n",
    "score_r2 = r2_score(y_test, y_pred)\n",
    "print(\"Root Mean squared error: %.2f\"\n",
    "      % score_rmse)\n",
    "print('Variance(R2) score: %.2f' % score_r2)   "
   ]
  },
  {
   "cell_type": "code",
   "execution_count": null,
   "metadata": {},
   "outputs": [],
   "source": [
    "X = submissions[[\"title\", \"hour\",  \"score\"]]\n",
    "hours_dummies = pd.get_dummies(X[\"hour\"], prefix=\"hour\")\n",
    "X = pd.concat([X, hours_dummies], axis=1)\n",
    "X.drop(\"hour\", axis=1, inplace=True)\n",
    "\n",
    "# leaning_dummies = pd.get_dummies(X[\"leaning\"], prefix=\"is\")\n",
    "# X = pd.concat([X, leaning_dummies], axis=1)\n",
    "# X = X.drop(\"leaning\", axis=1)\n",
    "\n",
    "X['vector'] = X['title'].apply(get_embeddings)\n",
    "# X = pd.concat([X, ])\n",
    "X.drop(\"title\", axis=1, inplace=True)\n",
    "s = X[\"vector\"].apply(pd.Series)\n",
    "X = pd.concat([X,s], axis=1)\n",
    "X.drop(\"vector\", axis=1, inplace=True)\n",
    "\n",
    "X.dropna(axis=0, inplace=True)\n",
    "y = X[\"score\"]\n",
    "X.drop(\"score\", axis=1,inplace=True)\n",
    "\n",
    "X_train, X_test, y_train, y_test = train_test_split(X, y, test_size=0.25, random_state = random_seed)\n",
    "\n",
    "lm = linear_model.LinearRegression()\n",
    "model = lm.fit(X_train, y_train)\n",
    "y_pred = lm.predict(X_test)\n",
    "\n",
    "\n",
    "score_no_lean_mse = sqrt(mean_squared_error(y_test, y_pred))\n",
    "score_no_lean_r2 = r2_score(y_test, y_pred)\n",
    "\n",
    "print(\"Root Mean squared error: %.2f\"\n",
    "      % score_no_lean_mse)\n",
    "\n",
    "print('Variance(R2) score: %.2f' % score_no_lean_r2)"
   ]
  },
  {
   "cell_type": "code",
   "execution_count": null,
   "metadata": {},
   "outputs": [],
   "source": [
    "X = submissions[[\"num_comments\", \"title\", \"hour\",  \"score\"]]\n",
    "hours_dummies = pd.get_dummies(X[\"hour\"], prefix=\"hour\")\n",
    "X = pd.concat([X, hours_dummies], axis=1)\n",
    "X.drop(\"hour\", axis=1, inplace=True)\n",
    "\n",
    "X['vector'] = X['title'].apply(get_embeddings)\n",
    "# X = pd.concat([X, ])\n",
    "X.drop(\"title\", axis=1, inplace=True)\n",
    "s = X[\"vector\"].apply(pd.Series)\n",
    "X = pd.concat([X,s], axis=1)\n",
    "X.drop(\"vector\", axis=1, inplace=True)\n",
    "\n",
    "X.dropna(axis=0, inplace=True)\n",
    "y = X[\"score\"]\n",
    "X.drop(\"score\", axis=1,inplace=True)\n",
    "\n",
    "X_train, X_test, y_train, y_test = train_test_split(X, y, test_size=0.25, random_state = random_seed)\n",
    "\n",
    "lm = linear_model.LinearRegression()\n",
    "model = lm.fit(X_train, y_train)\n",
    "y_pred = lm.predict(X_test)\n",
    "\n",
    "\n",
    "score_no_lean_mse = sqrt(mean_squared_error(y_test, y_pred))\n",
    "score_no_lean_r2 = r2_score(y_test, y_pred)\n",
    "\n",
    "print(\"Root Mean squared error: %.2f\"\n",
    "      % score_no_lean_mse)\n",
    "\n",
    "print('Variance(R2) score: %.2f' % score_no_lean_r2)"
   ]
  },
  {
   "cell_type": "code",
   "execution_count": null,
   "metadata": {},
   "outputs": [],
   "source": [
    "X = submissions[[\"num_comments\", \"title\", \"hour\", \"score\", \"leaning\"]]\n",
    "hours_dummies = pd.get_dummies(X[\"hour\"], prefix=\"hour\")\n",
    "X = pd.concat([X, hours_dummies], axis=1)\n",
    "X.drop(\"hour\", axis=1, inplace=True)\n",
    "\n",
    "leaning_dummies = pd.get_dummies(X[\"leaning\"], prefix=\"is\")\n",
    "X = pd.concat([X, leaning_dummies], axis=1)\n",
    "X = X.drop(\"leaning\", axis=1)\n",
    "\n",
    "X['vector'] = X['title'].apply(get_embeddings)\n",
    "# X = pd.concat([X, ])\n",
    "X.drop(\"title\", axis=1, inplace=True)\n",
    "s = X[\"vector\"].apply(pd.Series)\n",
    "X = pd.concat([X,s], axis=1)\n",
    "X.drop(\"vector\", axis=1, inplace=True)\n",
    "\n",
    "X.dropna(axis=0, inplace=True)\n",
    "y = X[\"score\"]\n",
    "X.drop(\"score\", axis=1,inplace=True)\n",
    "\n",
    "X_train, X_test, y_train, y_test = train_test_split(X, y, test_size=0.25, random_state = random_seed)\n",
    "\n",
    "lm = linear_model.LinearRegression()\n",
    "model = lm.fit(X_train, y_train)\n",
    "y_pred = lm.predict(X_test)\n",
    "\n",
    "\n",
    "score_no_lean_mse = sqrt(mean_squared_error(y_test, y_pred))\n",
    "score_no_lean_r2 = r2_score(y_test, y_pred)\n",
    "\n",
    "print(\"Root Mean squared error: %.2f\"\n",
    "      % score_no_lean_mse)\n",
    "\n",
    "print('Variance(R2) score: %.2f' % score_no_lean_r2)"
   ]
  },
  {
   "cell_type": "code",
   "execution_count": null,
   "metadata": {},
   "outputs": [],
   "source": [
    "X = submissions[[\"num_comments\", \"hour\",  \"score\"]]\n",
    "hours_dummies = pd.get_dummies(X[\"hour\"], prefix=\"hour\")\n",
    "X = pd.concat([X, hours_dummies], axis=1)\n",
    "X.drop(\"hour\", axis=1, inplace=True)\n",
    "\n",
    "# leaning_dummies = pd.get_dummies(X[\"leaning\"], prefix=\"is\")\n",
    "# X = pd.concat([X, leaning_dummies], axis=1)\n",
    "# X = X.drop(\"leaning\", axis=1)\n",
    "\n",
    "# X['vector'] = X['title'].apply(get_embeddings)\n",
    "# # X = pd.concat([X, ])\n",
    "# X.drop(\"title\", axis=1, inplace=True)\n",
    "# s = X[\"vector\"].apply(pd.Series)\n",
    "# X = pd.concat([X,s], axis=1)\n",
    "X.drop(\"vector\", axis=1, inplace=True)\n",
    "\n",
    "X.dropna(axis=0, inplace=True)\n",
    "y = X[\"score\"]\n",
    "X.drop(\"score\", axis=1,inplace=True)\n",
    "\n",
    "X_train, X_test, y_train, y_test = train_test_split(X, y, test_size=0.20, random_state = random_seed)\n",
    "\n",
    "lm = linear_model.LinearRegression()\n",
    "model = lm.fit(X_train, y_train)\n",
    "y_pred = lm.predict(X_test)\n",
    "\n",
    "\n",
    "score_no_lean_mse = sqrt(mean_squared_error(y_test, y_pred))\n",
    "score_no_lean_r2 = r2_score(y_test, y_pred)\n",
    "\n",
    "print(\"Root Mean squared error: %.2f\"\n",
    "      % score_no_lean_mse)\n",
    "\n",
    "print('Variance(R2) score: %.2f' % score_no_lean_r2)"
   ]
  },
  {
   "cell_type": "code",
   "execution_count": null,
   "metadata": {},
   "outputs": [],
   "source": [
    "model.coef_"
   ]
  },
  {
   "cell_type": "code",
   "execution_count": null,
   "metadata": {},
   "outputs": [],
   "source": [
    "import matplotlib.pyplot as plt\n",
    "\n"
   ]
  }
 ],
 "metadata": {
  "colab": {
   "collapsed_sections": [],
   "machine_shape": "hm",
   "name": "score-analysis.ipynb",
   "provenance": []
  },
  "kernelspec": {
   "display_name": "Python 3",
   "language": "python",
   "name": "python3"
  },
  "language_info": {
   "codemirror_mode": {
    "name": "ipython",
    "version": 3
   },
   "file_extension": ".py",
   "mimetype": "text/x-python",
   "name": "python",
   "nbconvert_exporter": "python",
   "pygments_lexer": "ipython3",
   "version": "3.6.8"
  }
 },
 "nbformat": 4,
 "nbformat_minor": 1
}
